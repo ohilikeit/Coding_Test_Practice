{
  "nbformat": 4,
  "nbformat_minor": 0,
  "metadata": {
    "colab": {
      "provenance": [],
      "collapsed_sections": [
        "PDCBw73paLgV",
        "FFf7eOseHwtF",
        "OsfUAudSgC9v",
        "lOLKfw5HSmYP",
        "HF5tIIgLnDg7"
      ],
      "authorship_tag": "ABX9TyMNVF53JAC5Bg+91HNDqjWc",
      "include_colab_link": true
    },
    "kernelspec": {
      "name": "python3",
      "display_name": "Python 3"
    },
    "language_info": {
      "name": "python"
    }
  },
  "cells": [
    {
      "cell_type": "markdown",
      "metadata": {
        "id": "view-in-github",
        "colab_type": "text"
      },
      "source": [
        "<a href=\"https://colab.research.google.com/github/ohilikeit/Coding_Test_Practice/blob/main/%EC%9D%B4%EC%BD%94%ED%85%8C_1%ED%9A%8C%EB%8F%85.ipynb\" target=\"_parent\"><img src=\"https://colab.research.google.com/assets/colab-badge.svg\" alt=\"Open In Colab\"/></a>"
      ]
    },
    {
      "cell_type": "markdown",
      "source": [
        "# 그리디"
      ],
      "metadata": {
        "id": "AV8wPSO2PwzQ"
      }
    },
    {
      "cell_type": "markdown",
      "source": [
        "## 1. 큰 수의 법칙"
      ],
      "metadata": {
        "id": "_C5f5QqJA9LE"
      }
    },
    {
      "cell_type": "code",
      "execution_count": null,
      "metadata": {
        "colab": {
          "base_uri": "https://localhost:8080/"
        },
        "id": "I_wsT7kdA6Y1",
        "outputId": "874f3d35-1b7c-4628-b7a9-fdd5959a1eb1"
      },
      "outputs": [
        {
          "output_type": "stream",
          "name": "stdout",
          "text": [
            "5 8 3\n",
            "2 4 5 4 6\n",
            "46\n"
          ]
        }
      ],
      "source": [
        "n, m, k = map(int, input().split())\n",
        "df = list(map(int, input().split()))\n",
        "\n",
        "df.sort()\n",
        "first = df[-1]\n",
        "second = df[-2]\n",
        "\n",
        "res = 0\n",
        "\n",
        "cnt = m // (k + 1) * k + m % (k+1)\n",
        "res = cnt * first + (m - cnt) * second\n",
        "\n",
        "print(res)"
      ]
    },
    {
      "cell_type": "markdown",
      "source": [
        "## 2. 카드 게임"
      ],
      "metadata": {
        "id": "lfKQLuNSMmzr"
      }
    },
    {
      "cell_type": "code",
      "source": [
        "n, m = map(int, input().split())\n",
        "\n",
        "res = 0\n",
        "for i in range(n):\n",
        "  lst = list(map(int, input().split()))\n",
        "  res = max(res, min(lst))\n",
        "print(res)"
      ],
      "metadata": {
        "colab": {
          "base_uri": "https://localhost:8080/"
        },
        "id": "SlQBLLz9MnHn",
        "outputId": "aeefab30-8015-42d0-8947-48221fcec57e"
      },
      "execution_count": null,
      "outputs": [
        {
          "output_type": "stream",
          "name": "stdout",
          "text": [
            "3 3\n",
            "3 1 2\n",
            "4 1 4\n",
            "2 2 2\n",
            "2\n"
          ]
        }
      ]
    },
    {
      "cell_type": "markdown",
      "source": [
        "## 3. 1이 될 때까지"
      ],
      "metadata": {
        "id": "5P1poDHhNGvI"
      }
    },
    {
      "cell_type": "code",
      "source": [
        "n, k = map(int, input().split())\n",
        "\n",
        "num = 0\n",
        "while n >= k:\n",
        "    if not n % k == 0:\n",
        "        n -= 1\n",
        "        num += 1\n",
        "    else:\n",
        "        n //= k\n",
        "        num += 1\n",
        "    \n",
        "    if n == 1:\n",
        "        break\n",
        "print(num)"
      ],
      "metadata": {
        "colab": {
          "base_uri": "https://localhost:8080/"
        },
        "id": "d7N81CyDNG-I",
        "outputId": "676e3077-1ed3-474f-be56-27e1b13faccc"
      },
      "execution_count": null,
      "outputs": [
        {
          "output_type": "stream",
          "name": "stdout",
          "text": [
            "25 5\n",
            "2\n"
          ]
        }
      ]
    },
    {
      "cell_type": "markdown",
      "source": [
        "# 구현"
      ],
      "metadata": {
        "id": "7Ls2V0uIPzqb"
      }
    },
    {
      "cell_type": "markdown",
      "source": [
        "## 1. 왕실의 나이트"
      ],
      "metadata": {
        "id": "MaW8rnRFP44T"
      }
    },
    {
      "cell_type": "code",
      "source": [
        "inp = input()\n",
        "row = int(inp[1])\n",
        "column = int(ord(inp[0])) - int(ord('a')) + 1\n",
        "\n",
        "things = [(2,1), (2,-1), (-2,1), (-2,-1), (1,2), (-1, 2), (1,-2), (-1,-2)]\n",
        "res = 0\n",
        "for thing in things:\n",
        "    test_row = row + thing[0]\n",
        "    test_col = column + thing[1]\n",
        "\n",
        "    if test_row < 1 or test_row > 8 or test_col < 1 or test_col > 8:\n",
        "        continue\n",
        "    res += 1\n",
        "\n",
        "print(res)"
      ],
      "metadata": {
        "colab": {
          "base_uri": "https://localhost:8080/"
        },
        "id": "L9fONvMFU7ub",
        "outputId": "2d99cf3f-8fe2-4fd0-9104-648f1fa5f793"
      },
      "execution_count": null,
      "outputs": [
        {
          "output_type": "stream",
          "name": "stdout",
          "text": [
            "d4\n",
            "8\n"
          ]
        }
      ]
    },
    {
      "cell_type": "markdown",
      "source": [
        "## 2. 게임 개발"
      ],
      "metadata": {
        "id": "Kq8zcVykWUT8"
      }
    },
    {
      "cell_type": "code",
      "source": [
        "n, m = map(int, input().split())\n",
        "\n",
        "# 방문 위치 저장 맵 생성하여 0으로 초기화\n",
        "d = [[0] * m for _ in range(n)]\n",
        "\n",
        "# 현재 위치 + 방향 \n",
        "x, y, direction = map(int, input().split())\n",
        "d[x][y] = 1\n",
        "\n",
        "# 전체 맵 정보 입력 \n",
        "array = []\n",
        "for i in range(n):\n",
        "    array.append(list(map(int, input().split())))\n",
        "\n",
        "# 북, 동, 남, 서\n",
        "dx = [-1, 0, 1, 0]\n",
        "dy = [0, 1, 0, -1]\n",
        "\n",
        "# 왼쪽으로 회전\n",
        "def turn_left():\n",
        "    global direction\n",
        "    direction -= 1\n",
        "    if direction == -1:\n",
        "        direction = 3\n",
        "\n",
        "# 시뮬레이션\n",
        "count = 1\n",
        "turn_time = 0\n",
        "while True:\n",
        "    # 왼쪽 회전 \n",
        "    turn_left()\n",
        "    nx = x + dx[direction]\n",
        "    ny = y + dx[direction]\n",
        "\n",
        "    # 회전한 후 아직 가보지 않은 칸이면 이동\n",
        "    if d[nx][ny] == 0 and array[nx][ny] == 0:\n",
        "        d[nx][ny] = 1\n",
        "        x = nx\n",
        "        y = ny\n",
        "        count += 1\n",
        "        turn_time = 0\n",
        "        continue\n",
        "    # 회전한 후 정면에 가보지 않은 칸이 없거나 바다인 경우\n",
        "    else:\n",
        "        turn_time += 1\n",
        "\n",
        "    # 네 방향 모두 못갈 경우\n",
        "    if turn_time == 4:\n",
        "        nx = x - dx[direction]\n",
        "        ny = y - dy[direction]\n",
        "\n",
        "        # 뒤로 갈 수 있음 이동하기 \n",
        "        if array[nx][ny] == 0:\n",
        "            x = nx\n",
        "            y = ny\n",
        "        else:\n",
        "            break\n",
        "        turn_time = 0\n",
        "\n",
        "print(count)"
      ],
      "metadata": {
        "colab": {
          "base_uri": "https://localhost:8080/"
        },
        "id": "DUOi_wgYWVKP",
        "outputId": "1eeb9881-8a63-4d09-b3f7-362263446d40"
      },
      "execution_count": null,
      "outputs": [
        {
          "output_type": "stream",
          "name": "stdout",
          "text": [
            "4 4\n",
            "1 1 0\n",
            "1 1 1 1\n",
            "1 0 0 1\n",
            "1 1 0 1\n",
            "1 1 1 1\n",
            "3\n"
          ]
        }
      ]
    },
    {
      "cell_type": "markdown",
      "source": [
        "# DFS"
      ],
      "metadata": {
        "id": "qBNqma_uhgRE"
      }
    },
    {
      "cell_type": "markdown",
      "source": [
        "## 1. 예제"
      ],
      "metadata": {
        "id": "ZeRVJRKeqaaj"
      }
    },
    {
      "cell_type": "code",
      "source": [
        "def dfs(graph, v, visited):\n",
        "    # 현재 노드 방문 처리\n",
        "    visited[v] = True\n",
        "    print(v, end = ' ')\n",
        "    \n",
        "    # 현재 노드와 연결된 다른 노드를 재귀적으로 방문\n",
        "    for i in graph[v]:\n",
        "        if not visited[i]:\n",
        "            dfs(graph, i, visited)\n",
        "\n",
        "# 각 노드가 연결된 정보를 리스트 자료형으로 표현\n",
        "graph = [\n",
        "    [],\n",
        "    [2,3,8],\n",
        "    [1,7],\n",
        "    [1,4,5],\n",
        "    [3,5],\n",
        "    [3,4],\n",
        "    [7],\n",
        "    [2,6,8],\n",
        "    [1,7]\n",
        "]\n",
        "\n",
        "# 각 노드 방문 정보\n",
        "visited = [False] * 9\n",
        "\n",
        "# 함수 호출\n",
        "dfs(graph, 1, visited)"
      ],
      "metadata": {
        "id": "paq5PSxXa4Pb",
        "colab": {
          "base_uri": "https://localhost:8080/"
        },
        "outputId": "cc538527-fa89-458f-f75e-e7d8dbba2f10"
      },
      "execution_count": null,
      "outputs": [
        {
          "output_type": "stream",
          "name": "stdout",
          "text": [
            "1 2 7 6 8 3 4 5 "
          ]
        }
      ]
    },
    {
      "cell_type": "markdown",
      "source": [
        "## 2. 음료수 얼려먹기"
      ],
      "metadata": {
        "id": "kDDoQPdiqbq3"
      }
    },
    {
      "cell_type": "code",
      "source": [
        "n, m = map(int, input().split())\n",
        "graph = []\n",
        "for i in range(n):\n",
        "    graph.append(list(map(int, input().split())))\n",
        "\n",
        "# dfs로 특정 노드 방문 뒤 연결된 모든 노드들도 방문\n",
        "def dfs(x,y):\n",
        "    if x<=-1 or x >= n or y <= -1 or y >= m:\n",
        "        return False\n",
        "    if graph[x][y] == 0:\n",
        "        graph[x][y] = 1\n",
        "        dfs(x-1, y)\n",
        "        dfs(x, y-1)\n",
        "        dfs(x+1, y)\n",
        "        dfs(x, y+1)\n",
        "        return True\n",
        "    return False\n",
        "\n",
        "# 모든 위치에 대해 음료수 채우기\n",
        "res = 0\n",
        "for i in range(n):\n",
        "    for j in range(m):\n",
        "        if dfs(i, j) == True:\n",
        "            res += 1\n",
        "print(res)"
      ],
      "metadata": {
        "colab": {
          "base_uri": "https://localhost:8080/"
        },
        "id": "QdZXTEUcqdRn",
        "outputId": "d51664ae-3a2b-4d55-88ae-315d10a8768e"
      },
      "execution_count": null,
      "outputs": [
        {
          "output_type": "stream",
          "name": "stdout",
          "text": [
            "3 3\n",
            "0 0 1\n",
            "0 1 0\n",
            "1 0 1\n",
            "3\n"
          ]
        }
      ]
    },
    {
      "cell_type": "markdown",
      "source": [
        "# BFS"
      ],
      "metadata": {
        "id": "t7_2wOsWbgUu"
      }
    },
    {
      "cell_type": "markdown",
      "source": [
        "## 1. 예제"
      ],
      "metadata": {
        "id": "pyvm6g_otI1H"
      }
    },
    {
      "cell_type": "code",
      "source": [
        "from collections import deque\n",
        "\n",
        "# BFS 메서드 정의\n",
        "def bfs(graph, start,visited):\n",
        "    queue = deque([start])\n",
        "    visited[start] = True\n",
        "\n",
        "    # 큐가 빌때까지 반복\n",
        "    while queue:\n",
        "        v = queue.popleft()\n",
        "        print(v, end=' ')\n",
        "\n",
        "        # 해당 원소와 연결된, 아직 방문하지 않은 원소들을 삽입\n",
        "        for i in graph[v]:\n",
        "            if not visited[i]:\n",
        "                queue.append(i)\n",
        "                visited[i] = True\n",
        "\n",
        "# 각 노드가 연결된 정보를 리스트 자료형으로 표현\n",
        "graph = [\n",
        "    [],\n",
        "    [2,3,8],\n",
        "    [1,7],\n",
        "    [1,4,5],\n",
        "    [3,5],\n",
        "    [3,4],\n",
        "    [7],\n",
        "    [2,6,8],\n",
        "    [1,7]\n",
        "]\n",
        "\n",
        "# 각 노드 방문 정보\n",
        "visited = [False] * 9\n",
        "\n",
        "# 함수 호출\n",
        "bfs(graph, 1, visited)"
      ],
      "metadata": {
        "colab": {
          "base_uri": "https://localhost:8080/"
        },
        "id": "eL9fAl6rbixd",
        "outputId": "4d66bcc3-afaa-4a29-cd39-6b967010c05a"
      },
      "execution_count": null,
      "outputs": [
        {
          "output_type": "stream",
          "name": "stdout",
          "text": [
            "1 2 3 8 7 4 5 6 "
          ]
        }
      ]
    },
    {
      "cell_type": "markdown",
      "source": [
        "## 2. 미로 탈출"
      ],
      "metadata": {
        "id": "klXx5lYtqQYC"
      }
    },
    {
      "cell_type": "code",
      "source": [
        "from collections import deque\n",
        "\n",
        "n,m = map(int, input().split())\n",
        "graph = []\n",
        "for i in range(n):\n",
        "    graph.append(list(map(int, input())))\n",
        "\n",
        "# 상 하 좌 우\n",
        "dx = [-1, 1, 0, 0]\n",
        "dy = [0, 0, -1, 1]\n",
        "\n",
        "# bfs\n",
        "def bfs(x,y):\n",
        "    queue = deque()\n",
        "    queue.append((x,y))\n",
        "\n",
        "    # 큐가 빌때까지 반복\n",
        "    while queue:\n",
        "        x,y = queue.popleft()\n",
        "        # 네 방향 위치 확인\n",
        "        for i in range(4):\n",
        "            nx = x + dx[i]\n",
        "            ny = y + dy[i]\n",
        "            # 맵 바깥이면 무시\n",
        "            if nx < 0 or ny < 0 or nx >= n or ny >= m:\n",
        "                continue\n",
        "            # 괴물은 안가\n",
        "            if graph[nx][ny] == 0:\n",
        "                continue\n",
        "            # 해당 노드 처음 방문하는 경우에만 최단거리 기록\n",
        "            if graph[nx][ny] == 1:\n",
        "                graph[nx][ny] = graph[x][y] + 1\n",
        "                queue.append((nx,ny))\n",
        "    \n",
        "    # 가장 오른쪽 아래까지 최단거리 반환\n",
        "    return graph[n-1][m-1]\n",
        "\n",
        "print(bfs(0,0))"
      ],
      "metadata": {
        "colab": {
          "base_uri": "https://localhost:8080/"
        },
        "id": "_PxpjG-stMb6",
        "outputId": "2b87c0d7-5dba-4445-c027-6f5698867575"
      },
      "execution_count": null,
      "outputs": [
        {
          "output_type": "stream",
          "name": "stdout",
          "text": [
            "3 3\n",
            "111\n",
            "001\n",
            "001\n",
            "5\n"
          ]
        }
      ]
    },
    {
      "cell_type": "markdown",
      "source": [
        "# 정렬"
      ],
      "metadata": {
        "id": "PDCBw73paLgV"
      }
    },
    {
      "cell_type": "markdown",
      "source": [
        "## 1. 선택 정렬\n",
        "- 매번 가장 작은 데이터를 선택해 바꾸기 \n",
        "- 파이썬은 스와프 가능\n",
        "- O(N2)"
      ],
      "metadata": {
        "id": "HsTBnYPOaNVV"
      }
    },
    {
      "cell_type": "code",
      "source": [
        "array = [7, 5, 9, 0, 3, 1, 6, 2, 4, 8]\n",
        "\n",
        "for i in range(len(array)):\n",
        "    min_index = i\n",
        "    for j in range(i+1, len(array)):\n",
        "        if array[min_index] > array[j]:\n",
        "            min_index = j  # min_index보다 작은 놈들 중 젤 작은 놈 가져와라 \n",
        "    array[i], array[min_index] = array[min_index], array[i] # 둘이 위치 바꿔라 \n",
        "\n",
        "print(array)"
      ],
      "metadata": {
        "colab": {
          "base_uri": "https://localhost:8080/"
        },
        "id": "GbMaiJ_naOE-",
        "outputId": "bfc21537-590c-46fd-e2d2-ca5754518918"
      },
      "execution_count": null,
      "outputs": [
        {
          "output_type": "stream",
          "name": "stdout",
          "text": [
            "[0, 1, 2, 3, 4, 5, 6, 7, 8, 9]\n"
          ]
        }
      ]
    },
    {
      "cell_type": "markdown",
      "source": [
        "## 2. 삽입 정렬\n",
        "- 데이터를 하나씩 크기 비교해서 적절한 위치에 삽입\n",
        "- 오름차순, 자기보다 작은 거 처음 만나면 멈추면 된다\n",
        "- 데이터가 거의 정렬되어있으면 매우 빠름"
      ],
      "metadata": {
        "id": "y5Da2HqmqVTg"
      }
    },
    {
      "cell_type": "code",
      "source": [
        "array = [7, 5, 9, 0, 3, 1, 6, 2, 4, 8]\n",
        "\n",
        "for i in range(1, len(array)):\n",
        "    for j in range(i, 0, -1):\n",
        "        if array[j] < array[j-1]:\n",
        "            array[j], array[j-1] = array[j-1], array[j]\n",
        "        else:\n",
        "            break"
      ],
      "metadata": {
        "id": "i4iSa5BzqYbk"
      },
      "execution_count": null,
      "outputs": []
    },
    {
      "cell_type": "markdown",
      "source": [
        "## 3. 퀵 정렬\n",
        "- 가장 많이 사용\n",
        "- 기준 데이터 설정 후 그보다 크거나 작은걸로 나눠서 분리\n",
        "- 재귀함수로 간단히 코딩 가능\n",
        "- NlogN\n",
        "- 이미 정렬되어 있는 경우에는 매우 느림"
      ],
      "metadata": {
        "id": "Wq5oAsuxbiu2"
      }
    },
    {
      "cell_type": "code",
      "source": [
        "array = [5,7,9,0,3,1,6,2,4,8]\n",
        "\n",
        "def quick_sort(array, start, end):\n",
        "    if start >= end:\n",
        "        return\n",
        "    pivot = start\n",
        "    left = start + 1\n",
        "    right = end\n",
        "    while left < right:\n",
        "        # 피벗보다 큰 데이터 찾을 때까지 반복\n",
        "        while left <= end and array[left] <= array[pivot]:\n",
        "            left += 1\n",
        "        # 피벗보다 작은 데이터를 찾을 때까지 반복\n",
        "        while right > start and array[right] >= array[pivot]:\n",
        "            right -= 1\n",
        "        if left > right:\n",
        "            array[right], array[pivot] = array[pivot], array[right]\n",
        "        else:\n",
        "            array[left], array[right] = array[right], array[left]\n",
        "    \n",
        "    quick_sort(array, start, right-1)\n",
        "    quick_sort(array, right+1, end)\n",
        "\n",
        "quick_sort(array, 0, len(array) - 1)\n",
        "print(array)"
      ],
      "metadata": {
        "colab": {
          "base_uri": "https://localhost:8080/"
        },
        "id": "5Gn9ES5YbmSC",
        "outputId": "20765d78-73fe-484c-f55d-77b4ec0716ae"
      },
      "execution_count": null,
      "outputs": [
        {
          "output_type": "stream",
          "name": "stdout",
          "text": [
            "[0, 1, 2, 4, 3, 5, 6, 8, 7, 9]\n"
          ]
        }
      ]
    },
    {
      "cell_type": "code",
      "source": [
        "array = [5,7,9,0,3,1,6,2,4,8]\n",
        "\n",
        "def quick_sort(array):\n",
        "    # 리스트 하나 이하의 원소만을 담고 있다면 종료\n",
        "    if len(array) <= 1:\n",
        "        return array\n",
        "    \n",
        "    pivot = array[0] # 피벗은 첫번째\n",
        "    tail = array[1:] # 피벗을 제외한 리스트\n",
        "    \n",
        "    left_side = [x for x in tail if x <= pivot] # 분할된 왼쪽 부분\n",
        "    right_side = [x for x in tail if x > pivot] # 분할된 오른쪽 부분\n",
        "\n",
        "    # 분할 이후 왼쪽과 오른쪽에서 각각 정렬 수행, 전체 리스트 반환\n",
        "    return quick_sort(left_side) + [pivot] + quick_sort(right_side)\n",
        "\n",
        "print(quick_sort(array))"
      ],
      "metadata": {
        "colab": {
          "base_uri": "https://localhost:8080/"
        },
        "id": "oR-AGofFgYPD",
        "outputId": "60e68815-3f91-44b4-9c1c-8903ce065765"
      },
      "execution_count": null,
      "outputs": [
        {
          "output_type": "stream",
          "name": "stdout",
          "text": [
            "[0, 1, 2, 3, 4, 5, 6, 7, 8, 9]\n"
          ]
        }
      ]
    },
    {
      "cell_type": "markdown",
      "source": [
        "## 4. 계수 정렬\n",
        "- 데이터의 크기범위가 제한되어 정수형태로 표현할 수 있을때만 사용가능하지만 매우 빠름\n",
        "- 가장 큰거랑 작은거 차이가 100만 넘지 않을때 효과적\n",
        "- 가장 큰 데이터와 가장 작은 데이터의 범위가 모두 담길 수 있는 하나의 리스트 생성\n",
        "- 데이터를 하나씩 확인하며 값과 동일한 인덱스의 데이터를 1씩 증가시키는 방식\n",
        "- 동일한 값을 여러개 가질때 효율적"
      ],
      "metadata": {
        "id": "f6seFEWYt5lI"
      }
    },
    {
      "cell_type": "code",
      "source": [
        "array = [7,5,9,0,3,1,6,2,9,1,4,8,0,5,2]\n",
        "\n",
        "count = [0] * (max(array)+ 1)\n",
        "for i in range(len(array)):\n",
        "    count[array[i]] += 1\n",
        "\n",
        "for i in range(len(count)):\n",
        "    for j in range(count[i]):\n",
        "        print(i, end = \" \")"
      ],
      "metadata": {
        "colab": {
          "base_uri": "https://localhost:8080/"
        },
        "id": "VBXzCF-bubU0",
        "outputId": "426175d6-640e-45af-c532-0d9eddf13bc0"
      },
      "execution_count": null,
      "outputs": [
        {
          "output_type": "stream",
          "name": "stdout",
          "text": [
            "0 0 1 1 2 2 3 4 5 5 6 7 8 9 9 "
          ]
        }
      ]
    },
    {
      "cell_type": "code",
      "source": [
        "array = [('바나나', 2), ('포도', 1), ('귤', 3)]\n",
        "def setting(data):\n",
        "    return data[1]\n",
        "sorted(array, key=setting)"
      ],
      "metadata": {
        "colab": {
          "base_uri": "https://localhost:8080/"
        },
        "id": "UGh6aalPubQq",
        "outputId": "34b0b8b5-bb9b-438e-c544-8ac90b081633"
      },
      "execution_count": null,
      "outputs": [
        {
          "output_type": "execute_result",
          "data": {
            "text/plain": [
              "[('포도', 1), ('바나나', 2), ('귤', 3)]"
            ]
          },
          "metadata": {},
          "execution_count": 7
        }
      ]
    },
    {
      "cell_type": "markdown",
      "source": [
        "## 5. 실전문제"
      ],
      "metadata": {
        "id": "w3fZV82dH7k0"
      }
    },
    {
      "cell_type": "markdown",
      "source": [
        "### 1) 위에서 아래로"
      ],
      "metadata": {
        "id": "RtKNY5TG7Pat"
      }
    },
    {
      "cell_type": "code",
      "source": [
        "n = int(input())\n",
        "array = []\n",
        "for i in range(n):\n",
        "    array.append(int(input()))\n",
        "array = sorted(array, reverse=True)\n",
        "print(array)"
      ],
      "metadata": {
        "colab": {
          "base_uri": "https://localhost:8080/"
        },
        "id": "WuOu2v9B7SVA",
        "outputId": "69b5099f-3a2b-430e-a617-712e77794703"
      },
      "execution_count": null,
      "outputs": [
        {
          "output_type": "stream",
          "name": "stdout",
          "text": [
            "3\n",
            "10\n",
            "5\n",
            "19\n",
            "[19, 10, 5]\n"
          ]
        }
      ]
    },
    {
      "cell_type": "markdown",
      "source": [
        "### 2) 성적이 낮은 순서로 학생 출력하기"
      ],
      "metadata": {
        "id": "dFZeLZ7RFgFO"
      }
    },
    {
      "cell_type": "code",
      "source": [
        "n = int(input())\n",
        "array = []\n",
        "for i in range(n):\n",
        "    a = input().split()\n",
        "    array.append((a[0], int(a[1])))\n",
        "\n",
        "array = sorted(array, key = lambda x: x[1])\n",
        "\n",
        "for i in array:\n",
        "    print(i[0], end=' ')"
      ],
      "metadata": {
        "colab": {
          "base_uri": "https://localhost:8080/"
        },
        "id": "kS2QfliEFkGE",
        "outputId": "3ef79495-2a9d-4c28-f6a2-8dedcf1c573c"
      },
      "execution_count": null,
      "outputs": [
        {
          "output_type": "stream",
          "name": "stdout",
          "text": [
            "2\n",
            "홍 95\n",
            "김 92\n",
            "김 홍 "
          ]
        }
      ]
    },
    {
      "cell_type": "markdown",
      "source": [
        "### 3) 두 배열의 원소 교체"
      ],
      "metadata": {
        "id": "EouPdoqSGMFv"
      }
    },
    {
      "cell_type": "code",
      "source": [
        "n, k = map(int, input().split())\n",
        "a = list(map(int, input().split()))\n",
        "b = list(map(int, input().split()))\n",
        "\n",
        "a.sort()\n",
        "b = sorted(b, reverse=True)\n",
        "for i in range(k):\n",
        "    if a[i] < b[i]:\n",
        "        a[i], b[i] = b[i], a[i]\n",
        "    else:\n",
        "        break\n",
        "print(sum(a))"
      ],
      "metadata": {
        "colab": {
          "base_uri": "https://localhost:8080/"
        },
        "id": "B8ZuOPocGRFY",
        "outputId": "4ebe7493-413e-4919-81fc-ef4552dcbe8a"
      },
      "execution_count": null,
      "outputs": [
        {
          "output_type": "stream",
          "name": "stdout",
          "text": [
            "5 3\n",
            "1 2 5 4 3\n",
            "5 5 6 6 5\n",
            "26\n"
          ]
        }
      ]
    },
    {
      "cell_type": "markdown",
      "source": [
        "# 이진 탐색\n",
        "- 내부 데이터 정렬되어있어야만 사용 가능\n",
        "- 탐색 범위를 절반씩 좁혀감\n",
        "- 시작점, 끝점, 중간점\n",
        "- 데이터 범위가 2000만 넘어가면 O(logN)인 알고리즘을 써야한다.\n",
        "- 과정 \n",
        "1. 찾으려는 값이 중간점보다 작으면 중간점 - 1을 새로운 끝점으로 한다.\n",
        "2. 반대로 중간점보다 크면 중간점 + 1을 새로운 시작점으로 한다.\n",
        "3. 위를 재귀함수로 반복 \n",
        "4. 중간점이 찾으려는 값이면 그냥 mid 바로 출력 \n",
        "5. 중간점은 시작 + 끝을 2로 나눈 몫 \n"
      ],
      "metadata": {
        "id": "FFf7eOseHwtF"
      }
    },
    {
      "cell_type": "markdown",
      "source": [
        "## 1. 예제"
      ],
      "metadata": {
        "id": "jUr2GytDG7PT"
      }
    },
    {
      "cell_type": "code",
      "source": [
        "def binary_search(array, target, start, end):\n",
        "    if start > end:\n",
        "        return None\n",
        "    mid = (start + end) // 2\n",
        "    if array[mid] == target:\n",
        "        return mid\n",
        "    elif array[mid] > target:\n",
        "        return binary_search(array, target, start, mid - 1)\n",
        "    else:\n",
        "        return binary_search(array, target, mid + 1, end)\n",
        "\n",
        "res = binary_search([1,3,5,7,9,11,13,15,17,19], 11, 0, 9)\n",
        "print(res + 1)"
      ],
      "metadata": {
        "colab": {
          "base_uri": "https://localhost:8080/"
        },
        "id": "LSr2N7Zmy-L9",
        "outputId": "fa8aadf8-6001-4486-9d25-4de79c4e68d5"
      },
      "execution_count": null,
      "outputs": [
        {
          "output_type": "stream",
          "name": "stdout",
          "text": [
            "6\n"
          ]
        }
      ]
    },
    {
      "cell_type": "code",
      "source": [
        "# 재귀 함수\n",
        "def binary_search(array, target, start, end):\n",
        "    if start > end:\n",
        "        return None\n",
        "    mid = (start + end) // 2\n",
        "    if array[mid] == target:\n",
        "        return mid\n",
        "    elif array[mid] > target:\n",
        "        return binary_search(array, target, start, mid-1)\n",
        "    else:\n",
        "        return binary_search(array, target, mid + 1, end)\n",
        "\n",
        "n, target = list(map(int, input().split()))\n",
        "array = list(map(int, input().split()))\n",
        "\n",
        "res = binary_search(array, target, 0, n-1)\n",
        "if res == None:\n",
        "    print('원소가 존재하지 않습니다.')\n",
        "else:\n",
        "    print(res + 1)"
      ],
      "metadata": {
        "colab": {
          "base_uri": "https://localhost:8080/"
        },
        "id": "gJdTEPE-Kq_-",
        "outputId": "8b44eb17-5c3a-4dad-db74-79db09337ca7"
      },
      "execution_count": null,
      "outputs": [
        {
          "output_type": "stream",
          "name": "stdout",
          "text": [
            "10 7\n",
            "1 3 5 7 9 11 13 15 17 19\n",
            "4\n"
          ]
        }
      ]
    },
    {
      "cell_type": "code",
      "source": [
        "# 입력 데이터가 많으면 시간 초과 피하기 위해 쓰는 sys \n",
        "import sys\n",
        "\n",
        "input = sys.stdin.readline().rstrip()"
      ],
      "metadata": {
        "colab": {
          "base_uri": "https://localhost:8080/",
          "height": 35
        },
        "id": "psXJpG5eG47E",
        "outputId": "436486e6-4b1a-4df1-9d08-0b65d6c5e929"
      },
      "execution_count": null,
      "outputs": [
        {
          "output_type": "execute_result",
          "data": {
            "text/plain": [
              "''"
            ],
            "application/vnd.google.colaboratory.intrinsic+json": {
              "type": "string"
            }
          },
          "metadata": {},
          "execution_count": 20
        }
      ]
    },
    {
      "cell_type": "markdown",
      "source": [
        "## 2. 부품 찾기"
      ],
      "metadata": {
        "id": "QCQKp3bCHONa"
      }
    },
    {
      "cell_type": "code",
      "source": [
        "n = int(input())\n",
        "store = list(map(int, input().split()))\n",
        "m = int(input())\n",
        "request = list(map(int, input().split()))\n",
        "\n",
        "store.sort()\n",
        "request.sort()\n",
        "\n",
        "def binary_search(array, target, start, end):\n",
        "    if start > end:\n",
        "        return None\n",
        "    mid = (start + end) // 2\n",
        "    if array[mid] == target:\n",
        "        return mid\n",
        "    elif array[mid] < target:\n",
        "        return binary_search(array, target, mid + 1, end)\n",
        "    else:\n",
        "        return binary_search(array, target, start, mid - 1)\n",
        "\n",
        "for i in request:\n",
        "    res = binary_search(store, i, 0, n-1)\n",
        "    if res != None:\n",
        "        print(\"yes\", end=\" \")\n",
        "    else:\n",
        "        print(\"no\", end=\" \")"
      ],
      "metadata": {
        "colab": {
          "base_uri": "https://localhost:8080/"
        },
        "id": "NG-kH6zdHPkp",
        "outputId": "6ac6b849-fec9-4b67-84d1-b06e7341036b"
      },
      "execution_count": null,
      "outputs": [
        {
          "output_type": "stream",
          "name": "stdout",
          "text": [
            "5\n",
            "8 3 7 9 2\n",
            "3\n",
            "5 7 9\n",
            "no yes yes "
          ]
        }
      ]
    },
    {
      "cell_type": "code",
      "source": [
        "n = int(input())\n",
        "store = set(map(int, input().split()))\n",
        "m = int(input())\n",
        "request = list(map(int, input().split()))\n",
        "\n",
        "for i in request:\n",
        "    if i in store:\n",
        "        print('yes', end=' ')\n",
        "    else:\n",
        "        print('no', end=' ')"
      ],
      "metadata": {
        "colab": {
          "base_uri": "https://localhost:8080/"
        },
        "id": "3zCtMJs2KAYD",
        "outputId": "972b7c38-9aec-4117-948a-c17f88428829"
      },
      "execution_count": null,
      "outputs": [
        {
          "output_type": "stream",
          "name": "stdout",
          "text": [
            "5\n",
            "8 3 7 9 2\n",
            "3\n",
            "5 7 9\n",
            "no yes yes "
          ]
        }
      ]
    },
    {
      "cell_type": "markdown",
      "source": [
        "## 3. 떡볶이 떡 만들기"
      ],
      "metadata": {
        "id": "py3xQsj9JnT3"
      }
    },
    {
      "cell_type": "code",
      "source": [
        "n, m = map(int, input().split()) # 떡 개수 n과 요청한 떡 길이 m(target)\n",
        "array = list(map(int, input().split()))\n",
        "start = 0\n",
        "end = max(array)\n",
        "\n",
        "def binary_search(array, target, start, end): # end는 가장 긴 떡 길이 max(array)\n",
        "    if start > end:\n",
        "        return None\n",
        "    \n",
        "    mid = (start + end) // 2\n",
        "    res = 0\n",
        "    for i in array:\n",
        "        if i > mid:\n",
        "            res += (i - mid)\n",
        "    if res == target:\n",
        "        return mid\n",
        "    elif res > target:\n",
        "        return binary_search(array, target, mid + 1, end)\n",
        "    else:\n",
        "        return binary_search(array, target, start, mid - 1)\n",
        "        \n",
        "res = binary_search(array, m, start, end)\n",
        "print(res)"
      ],
      "metadata": {
        "colab": {
          "base_uri": "https://localhost:8080/"
        },
        "id": "cDNFwjcxKmsg",
        "outputId": "e75838f3-3a1c-4c4e-b394-7389f96ebb37"
      },
      "execution_count": null,
      "outputs": [
        {
          "output_type": "stream",
          "name": "stdout",
          "text": [
            "4 6\n",
            "19 15 10 17\n",
            "15\n"
          ]
        }
      ]
    },
    {
      "cell_type": "markdown",
      "source": [
        "# 다이나믹 프로그래밍\n",
        "- 한번 계산한 문제는 다시 계산하지 않도록 하는 ..\n",
        "- 조건\n",
        "1. 큰 문제를 작은 문제로 나눌 수 있다,\n",
        "2. 작은 문제에서 구한 정답은 그것을 포함하는 큰 문제에서도 동일하다. "
      ],
      "metadata": {
        "id": "OsfUAudSgC9v"
      }
    },
    {
      "cell_type": "code",
      "source": [
        "# 탑 다운 방식(메모이제이션)\n",
        "array = [0] * 100\n",
        "def fibo(x):\n",
        "    if x == 1 or x == 2:\n",
        "        return 1\n",
        "    if array[x] != 0:\n",
        "        return array[x]\n",
        "    array[x] = fibo(x-1) + fibo(x-2)\n",
        "    return array[x]\n",
        "\n",
        "fibo(99)"
      ],
      "metadata": {
        "colab": {
          "base_uri": "https://localhost:8080/"
        },
        "id": "kqRThsONgLuB",
        "outputId": "f0eb8ed5-9abd-4e7a-c92a-166615010c72"
      },
      "execution_count": null,
      "outputs": [
        {
          "output_type": "execute_result",
          "data": {
            "text/plain": [
              "218922995834555169026"
            ]
          },
          "metadata": {},
          "execution_count": 6
        }
      ]
    },
    {
      "cell_type": "code",
      "source": [
        "# 바텀 업 방식(반복적)\n",
        "d = [0] * 100\n",
        "\n",
        "d[1] = 1\n",
        "d[2] = 1\n",
        "n = 99\n",
        "\n",
        "for i in range(3, n+1):\n",
        "    d[i] = d[i-1] + d[i-2]\n",
        "print(d[n])"
      ],
      "metadata": {
        "colab": {
          "base_uri": "https://localhost:8080/"
        },
        "id": "QDMuWNzUUVod",
        "outputId": "73592c48-21ad-4623-c358-19f32b047efb"
      },
      "execution_count": null,
      "outputs": [
        {
          "output_type": "stream",
          "name": "stdout",
          "text": [
            "218922995834555169026\n"
          ]
        }
      ]
    },
    {
      "cell_type": "markdown",
      "source": [
        "## 1. 1로 만들기"
      ],
      "metadata": {
        "id": "sBHYjPABYIrB"
      }
    },
    {
      "cell_type": "code",
      "source": [
        "x = int(input())\n",
        "d = [0] * 30001\n",
        "for i in range(2, x+1):\n",
        "    d[i] = d[i- 1] + 1     # 이전 회차의 최적값 + 1 을 일단 d[i]에 저장 \n",
        "    if i % 2 == 0:\n",
        "        d[i] = min(d[i], d[i//2] + 1) # 2로 나누어지면 나눈 몫에 해당하는 값 + 1을 가져와서 누가 더 짧나 비교해서 저장 \n",
        "    if i % 3 == 0:\n",
        "        d[i] = min(d[i], d[i//3] + 1) # 3로 나누어지면 나눈 몫에 해당하는 값 + 1을 가져와서 누가 더 짧나 비교해서 저장\n",
        "    if i % 5 == 0:\n",
        "        d[i] = min(d[i], d[i//5] + 1) # 5로 나누어지면 나눈 몫에 해당하는 값 + 1을 가져와서 누가 더 짧나 비교해서 저장\n",
        "        \n",
        "print(d[x])  # 결국 + 1은 호출 횟수를 더해주는 개념, 어쨌든 이전 순번에서 추가적인 계산이 한번 더 들어간 거니깐 "
      ],
      "metadata": {
        "colab": {
          "base_uri": "https://localhost:8080/"
        },
        "id": "VZbgs-_XYLLo",
        "outputId": "63a32eab-4765-4e49-bb18-8fe8b3e2cd9e"
      },
      "execution_count": null,
      "outputs": [
        {
          "output_type": "stream",
          "name": "stdout",
          "text": [
            "30000\n",
            "8\n"
          ]
        }
      ]
    },
    {
      "cell_type": "markdown",
      "source": [
        "## 2. 개미 전사\n"
      ],
      "metadata": {
        "id": "NJQiOQ5DxzV7"
      }
    },
    {
      "cell_type": "code",
      "source": [
        "n = int(input())\n",
        "array = list(map(int, input().split()))\n",
        "\n",
        "d = [0] * 100\n",
        "d[0] = array[0]\n",
        "d[1] = max(array[0], array[1])\n",
        "for i in range(2, n):\n",
        "    d[i] = max(d[i-1], d[i-2] + array[i])\n",
        "\n",
        "print(d[n-1])"
      ],
      "metadata": {
        "colab": {
          "base_uri": "https://localhost:8080/"
        },
        "id": "nn43tXhtx1f_",
        "outputId": "87039341-c47c-449c-98fa-b170d14d3fbb"
      },
      "execution_count": null,
      "outputs": [
        {
          "output_type": "stream",
          "name": "stdout",
          "text": [
            "6\n",
            "1 3 9 8 4 2\n",
            "14\n"
          ]
        }
      ]
    },
    {
      "cell_type": "markdown",
      "source": [
        "## 3. 바닥 공사"
      ],
      "metadata": {
        "id": "VUN4Cwlv2a5a"
      }
    },
    {
      "cell_type": "code",
      "source": [
        "n = int(input())\n",
        "d = [0] * 1001\n",
        "d[1] = 1\n",
        "d[2] = 3\n",
        "for i in range(3, n + 1):\n",
        "    d[i] = (d[i-1] + d[i-2] * 2) % 796796  # 2X1 포함 안시킨건 왼쪽 경우랑 겹치기 때문이다. \n",
        "print(d[n])"
      ],
      "metadata": {
        "colab": {
          "base_uri": "https://localhost:8080/"
        },
        "id": "ps8eeOHr2c33",
        "outputId": "ebaf9412-cbe8-4c68-b6d4-03f8a7b35eb0"
      },
      "execution_count": null,
      "outputs": [
        {
          "output_type": "stream",
          "name": "stdout",
          "text": [
            "3\n",
            "5\n"
          ]
        }
      ]
    },
    {
      "cell_type": "markdown",
      "source": [
        "## 4. 효율적인 화폐 구성\n"
      ],
      "metadata": {
        "id": "T92zOZJU-BO1"
      }
    },
    {
      "cell_type": "code",
      "source": [
        "n, m = map(int, input().split())\n",
        "array = []\n",
        "for i in range(n):\n",
        "    array.append(int(input()))\n",
        "\n",
        "d = [99999] * (m + 1)\n",
        "d[0] = 0\n",
        "for i in range(n):\n",
        "    for j in range(array[i], m + 1):\n",
        "        if d[j - array[i]] != 99999:\n",
        "            d[j] = min(d[j], d[j - array[i]] + 1)\n",
        "\n",
        "if d[m] == 99999:\n",
        "    print(-1)\n",
        "else:\n",
        "    print(d[m])"
      ],
      "metadata": {
        "colab": {
          "base_uri": "https://localhost:8080/"
        },
        "id": "I-Y7q9il-D2G",
        "outputId": "8c4f86c5-7ea4-4744-8383-9c6c51a375eb"
      },
      "execution_count": null,
      "outputs": [
        {
          "output_type": "stream",
          "name": "stdout",
          "text": [
            "3 100\n",
            "3\n",
            "5\n",
            "7\n",
            "16\n"
          ]
        }
      ]
    },
    {
      "cell_type": "markdown",
      "source": [
        "# 최단 경로"
      ],
      "metadata": {
        "id": "lOLKfw5HSmYP"
      }
    },
    {
      "cell_type": "markdown",
      "source": [
        "## 1. 다익스트라 최단 경로 알고리즘\n",
        "- 그래프에서 여러 개 노드 있을 때, 특정 노드에서 출발하여 다른 노드로 가는 각각의 최단 경로를 구해줌\n",
        "- 음의 간선이 없을 때 정상 작동 : 0보다 작은 간선\n",
        "- 기본적으론 그리디\n",
        "- 매번 가장 비용이 적은 노드 선택하는 과정 반복\n",
        "- 노드와 간선 개수가 적으면 쓰자."
      ],
      "metadata": {
        "id": "rmKUZM-kLn0A"
      }
    },
    {
      "cell_type": "markdown",
      "source": [
        "### 기본"
      ],
      "metadata": {
        "id": "I28paJwnVvZM"
      }
    },
    {
      "cell_type": "code",
      "source": [
        "import sys\n",
        "# input = sys.stdin.readline\n",
        "\n",
        "INF = int(1e9)\n",
        "\n",
        "# 노드 개수, 간선 개수\n",
        "n, m = map(int, input().split())\n",
        "\n",
        "# 시작 노드 번호\n",
        "start = int(input())\n",
        "\n",
        "# 각 노드에 연결되어 있는 노드 정보 담는 리스트 \n",
        "graph = [[] for i in range(n + 1)]\n",
        "\n",
        "# 방문한 적 있는지 체크 목적 리스트\n",
        "visited = [False] * (n + 1)\n",
        "\n",
        "# 최단 거리 테이블 모두 무한으로 초기화\n",
        "distance = [INF] * (n + 1)\n",
        "\n",
        "# 모든 간선 정보 입력\n",
        "for _ in range(m):\n",
        "    a,b,c = map(int, input().split()) # a 노드에서 b 노드 가는 비용이 c\n",
        "    graph[c].append((b,c))\n",
        "\n",
        "# 방문하지 않은 노드 중 가장 최단 거리가 짧은 노드의 번호 반환\n",
        "def get_smallest_node():\n",
        "    min_value = INF\n",
        "    index = 0\n",
        "    for i in range(1, n+1):\n",
        "        if distance[i] < min_value and not visited[i]:\n",
        "            min_value = distance[i]\n",
        "            index = i\n",
        "    return index\n",
        "\n",
        "def dijkstra(start):\n",
        "    distance[start] = 0\n",
        "    visited[start] = True\n",
        "    for j in graph[start]:\n",
        "        distance[j[0]] = j[1]\n",
        "    # 시작 노드 제외 전체 n-1개 노드에 대해 반복\n",
        "    for i in range(n-1):\n",
        "        # 현재 최단 거리 가장 짧은 노드 꺼내서 방문 처리\n",
        "        now = get_smallest_node()\n",
        "        visited[now] = True\n",
        "        # 현재 노드와 연결된 다른 노드 확인\n",
        "        for j in graph[now]:\n",
        "            cost = distance[now] + j[1]\n",
        "            # 현재 노드 거쳐 다른 노드로 이동하는 거리가 더 짧은 경우\n",
        "            if cost < distance[j[0]]:\n",
        "                distance[j[0]] = cost\n",
        "\n",
        "dijkstra(start)\n",
        "\n",
        "# 모든 노드로 가기 위한 최단 거리 출력\n",
        "for i in range(1, n+1):\n",
        "    # 도달할 수 없는 경우 무한 출력\n",
        "    if distance[i] == INF:\n",
        "        print('infinity')\n",
        "    else:\n",
        "        print(distance[i])"
      ],
      "metadata": {
        "id": "C2sk1mDSSoxm"
      },
      "execution_count": null,
      "outputs": []
    },
    {
      "cell_type": "markdown",
      "source": [
        "### 개선된 버전(heap 자료구조 사용)\n",
        "- 특정 노드까지의 최단거리에 대한 정보를 힙에 담아서 처리\n",
        "- 우선순위 큐(heapq)"
      ],
      "metadata": {
        "id": "kveh6_uUVxLr"
      }
    },
    {
      "cell_type": "code",
      "source": [
        "import heapq\n",
        "import sys\n",
        "# input = sys.stdin.realine\n",
        "INF = int(1e9)\n",
        "\n",
        "# 노드 개수, 간선 개수 입력\n",
        "n, m = map(int, input().split())\n",
        "# 시작 노드\n",
        "start = int(input())\n",
        "# 각 노드에 연결되어 있는 노드에 대한 정보 담는 리스트\n",
        "graph = [[] for i in range(n+1)]\n",
        "# 최단 거리 테이블 모두 무한으로 초기화\n",
        "distance = [INF] * (n+1)\n",
        "\n",
        "# 모든 간선 정보 입력받기\n",
        "for _ in range(m):\n",
        "    a, b, c = map(int, input().split())\n",
        "    graph[a].append((b,c))  # a에서 b로 가는 비용이 c\n",
        "\n",
        "def dijkstra(start):\n",
        "    q = []\n",
        "    # 시작 노드로 가기 위한 최단 경로는 0으로 설정하여 큐에 삽입\n",
        "    heapq.heappush(q, (0,start))\n",
        "    distance[start] = 0\n",
        "    while q: # 큐가 비어있지 않으면\n",
        "        # 가장 최단 거리가 짧은 노드에 대한 정보 꺼내기\n",
        "        dist, now = heapq.heappop(q)\n",
        "        # 현재 노드가 이미 처리된 적이 있는 노드면 무시\n",
        "        if distance[now] < dist:\n",
        "            continue\n",
        "        # 현재 노드와 연결된 다른 인접 노드들 확인\n",
        "        for i in graph[now]:\n",
        "            cost = dist + i[1]\n",
        "            # 현재 노드 거쳐서, 다른 노드로 이동하는 거리가 더 짧은 경우\n",
        "            if cost < distance[i[0]]:\n",
        "                distance[i[0]] = cost\n",
        "                heapq.heappush(q, (cost, i[0]))\n",
        "\n",
        "# 알고리즘 수행\n",
        "dijkstra(start)\n",
        "\n",
        "# 모든 노드로 가기 위한 최단 거리 출력\n",
        "for i in range(1, n+1):\n",
        "    # 도달 불가할 경우 INF\n",
        "    if distance[i] == INF:\n",
        "        print('infinity')\n",
        "    else:\n",
        "        print(distance[i])"
      ],
      "metadata": {
        "id": "3LFfpBqoVyU8"
      },
      "execution_count": null,
      "outputs": []
    },
    {
      "cell_type": "code",
      "source": [
        "import heapq\n",
        "INF = int(1e9)\n",
        "n, m = map(int, input().split())\n",
        "start = int(input())\n",
        "distance = [INF] * (n+1)\n",
        "graph = [[] for i in range(n + 1)]\n",
        "for i in range(m):\n",
        "    a,b,c = map(int, input().split())\n",
        "    graph[a].append((b,c))\n",
        "\n",
        "def algorithm(start):\n",
        "    q = []\n",
        "    heapq.heappush(q, (0, start))\n",
        "    distance[start] = 0\n",
        "\n",
        "    while q:\n",
        "        dist, now = heapq.heappop(q)\n",
        "        if distance[now] < dist:\n",
        "            continue\n",
        "        for i in graph[now]:\n",
        "            cost = dist + i[1]\n",
        "            if cost < distance[i[0]]:\n",
        "                distance[i[0]] = cost\n",
        "                heapq.heappush(q, (cost, i[0]))\n",
        "\n",
        "algorithm(start)\n",
        "\n",
        "for i in range(1, n+1):\n",
        "    if distance[i] == INF:\n",
        "        print('ohmygod')\n",
        "    else:\n",
        "        print(distance[i])"
      ],
      "metadata": {
        "colab": {
          "base_uri": "https://localhost:8080/"
        },
        "id": "gO9bmHGFKfP-",
        "outputId": "b99b2c3d-7522-4d20-b76a-5525bf49dc2e"
      },
      "execution_count": null,
      "outputs": [
        {
          "output_type": "stream",
          "name": "stdout",
          "text": [
            "6 11\n",
            "1\n",
            "1 2 2\n",
            "1 3 5\n",
            "1 4 1\n",
            "2 3 3\n",
            "2 4 2\n",
            "3 2 3\n",
            "3 6 5\n",
            "4 3 3\n",
            "4 5 1\n",
            "5 3 1\n",
            "5 6 2\n",
            "0\n",
            "2\n",
            "3\n",
            "1\n",
            "2\n",
            "4\n"
          ]
        }
      ]
    },
    {
      "cell_type": "markdown",
      "source": [
        "## 2. 플로이드 워셜 알고리즘\n",
        "- 모든 지점에서 다른 모든 지점까지의 최단 경로를 모두 구해야하는 경우\n",
        "- 단계마다 거쳐 가는 노드를 기준으로 알고리즘 수행\n",
        "- 2차원 리스트에 '최단 거리' 정보를 저장한다는 특징\n",
        "- 다이나믹 프로그래밍이다.\n",
        "- 노드와 간선 개수가 많으면 쓰자."
      ],
      "metadata": {
        "id": "JU3ZbxvCN5_m"
      }
    },
    {
      "cell_type": "code",
      "source": [
        "INF = int(1e9)\n",
        "\n",
        "# 노드 개수 및 간선 개수 입력\n",
        "n = int(input())\n",
        "m = int(input())\n",
        "# 2차원 리스트 만들고 모든 값 무한으로 초기화 \n",
        "graph = [[INF] * (n+1) for _ in range(n+1)]\n",
        "\n",
        "# 자기 자신에개 가는 비용은 0으로 초기화 \n",
        "for a in range(1, n+1):\n",
        "    for b in range(1, n+1):\n",
        "        if a == b:\n",
        "            graph[a][b] = 0\n",
        "\n",
        "# 각 간선에 대한 정보 입력받아 값으로 초기화 \n",
        "for _ in range(m):\n",
        "    a, b, c = map(int, input().split())\n",
        "    graph[a][b] = c\n",
        "\n",
        "# 점화식에 따라 알고리즘 수행\n",
        "for k in range(1, n+1):\n",
        "    for a in range(1, n+1):\n",
        "        for b in range(1, n+1):\n",
        "            graph[a][b] = min(graph[a][b], graph[a][k] + graph[k][b])\n",
        "\n",
        "# 수행 결과 출력\n",
        "for a in range(1, n+1):\n",
        "    for b in range(1, n+1):\n",
        "        if graph[a][b] == INF:\n",
        "            print('INFINITY', end = ' ')\n",
        "        else:\n",
        "            print(graph[a][b], end = ' ')\n",
        "    print()"
      ],
      "metadata": {
        "colab": {
          "base_uri": "https://localhost:8080/"
        },
        "id": "OmTJ3DdWN-5R",
        "outputId": "3e8b5872-cdd0-4c73-bfb1-35ecd35198a4"
      },
      "execution_count": null,
      "outputs": [
        {
          "output_type": "stream",
          "name": "stdout",
          "text": [
            "4\n",
            "7\n",
            "1 2 4\n",
            "1 4 6\n",
            "2 1 3\n",
            "2 3 7\n",
            "3 1 5\n",
            "3 4 4\n",
            "4 3 2\n",
            "0 4 8 6 \n",
            "3 0 7 9 \n",
            "5 9 0 4 \n",
            "7 11 2 0 \n"
          ]
        }
      ]
    },
    {
      "cell_type": "markdown",
      "source": [
        "## 3. 실전 문제"
      ],
      "metadata": {
        "id": "MICZsp4rBzrJ"
      }
    },
    {
      "cell_type": "markdown",
      "source": [
        "### 미래도시"
      ],
      "metadata": {
        "id": "K0PTT3a1gBB5"
      }
    },
    {
      "cell_type": "code",
      "source": [
        "n, m = map(int, input().split())\n",
        "graph = [[INF]*(n+1) for _ in range(n+1)]\n",
        "INF = int(1e9)\n",
        "\n",
        "for a in range(1, n+1):\n",
        "    for b in range(1, n+1):\n",
        "        if a == b:\n",
        "            graph[a][b] = 0\n",
        "\n",
        "for _ in range(m):\n",
        "    a, b = map(int, input().split())\n",
        "    graph[a][b] = 1\n",
        "    graph[b][a] = 1\n",
        "\n",
        "x, k = map(int, input().split())\n",
        "\n",
        "for k in range(1, n+1):\n",
        "    for a in range(1, n+1):\n",
        "        for b in range(1, n+1):\n",
        "            graph[a][b] = min(graph[a][b], graph[a][k] + graph[k][b])\n",
        "\n",
        "distance = graph[1][k] + graph[k][x]\n",
        "if distance >= INF:\n",
        "    print('-1')\n",
        "else:\n",
        "    print(distance)"
      ],
      "metadata": {
        "colab": {
          "base_uri": "https://localhost:8080/"
        },
        "id": "jHMA-729gDnn",
        "outputId": "e3cdd559-df12-4fa8-ab46-58c706d5e8ff"
      },
      "execution_count": null,
      "outputs": [
        {
          "output_type": "stream",
          "name": "stdout",
          "text": [
            "5 7\n",
            "1 2\n",
            "1 3\n",
            "1 4\n",
            "2 4\n",
            "3 4\n",
            "3 5\n",
            "4 5\n",
            "4 5\n",
            "3\n"
          ]
        }
      ]
    },
    {
      "cell_type": "markdown",
      "source": [
        "### 전보"
      ],
      "metadata": {
        "id": "vuS9oFvFiOYr"
      }
    },
    {
      "cell_type": "code",
      "source": [
        "import heapq\n",
        "n,m,start = map(int, input().split())\n",
        "INF = int(1e9)\n",
        "# 각 노드 연결 정보 리스트\n",
        "graph = [[] for i in range(n+1)]\n",
        "# 최단 거리 테이블\n",
        "distance = [INF] * (n+1)\n",
        "\n",
        "# 간선정보 입력\n",
        "for _ in range(m):\n",
        "    x, y, z = map(int, input().split())\n",
        "    graph[x].append((y,z))\n",
        "\n",
        "def dijkstra(start):\n",
        "    q = []\n",
        "    heapq.heappush(q, (0, start))\n",
        "    distance[start] = 0\n",
        "    while q:\n",
        "        dist, now = heapq.heappop(q)\n",
        "        if distance[now] < dist:\n",
        "            continue\n",
        "        for i in graph[now]:\n",
        "            cost = dist + i[1]\n",
        "            if cost < distance[i[0]]:\n",
        "                distance[i[0]] = cost\n",
        "                heapq.heappush(q, (cost, i[0]))\n",
        "\n",
        "dijkstra(start)\n",
        "\n",
        "count = 0\n",
        "max_distance = 0 # 도달 노드 중 가장 멀리 있는 노드와의 최단 거리\n",
        "for d in distance:\n",
        "    if d != INF:\n",
        "        count += 1\n",
        "        max_distance = max(max_distance, d)\n",
        "\n",
        "print(count - 1, max_distance)"
      ],
      "metadata": {
        "colab": {
          "base_uri": "https://localhost:8080/"
        },
        "id": "aySHyBfWiSxM",
        "outputId": "cb652c75-25aa-4d6a-bf46-8b5638b85636"
      },
      "execution_count": null,
      "outputs": [
        {
          "output_type": "stream",
          "name": "stdout",
          "text": [
            "3 2 1\n",
            "1 2 4\n",
            "1 3 2\n",
            "2 4\n"
          ]
        }
      ]
    },
    {
      "cell_type": "markdown",
      "source": [
        "# 그래프 이론"
      ],
      "metadata": {
        "id": "HF5tIIgLnDg7"
      }
    },
    {
      "cell_type": "markdown",
      "source": [
        "## 1. 서로소 집합\n",
        "- 공통원소가 없는 두 집합"
      ],
      "metadata": {
        "id": "bSLkShszDA9b"
      }
    },
    {
      "cell_type": "code",
      "source": [
        "def find_parent(parent, x):\n",
        "    if parent[x] != x:\n",
        "        parent[x] = find_parent(parent, parent[x])\n",
        "    return parent[x]\n",
        "\n",
        "def union_parent(parent, a, b):\n",
        "    a = find_parent(parent, a)\n",
        "    b = find_parent(parent, b)\n",
        "    if a < b:\n",
        "        parent[b] = a\n",
        "    else:\n",
        "        parent[a] = b\n",
        "\n",
        "# 노드와 간선 \n",
        "v, e = map(int, input().split())\n",
        "parent = [0] * (v+1)\n",
        "\n",
        "for i in range(1, v+1):\n",
        "    parent[i] = i\n",
        "\n",
        "for i in range(e):\n",
        "    a, b = map(int, input().split())\n",
        "    union_parent(parent, a, b)\n",
        "\n",
        "print('각 원소가 속한 집합: ', end = ' ')\n",
        "for i in range(1, v+1):\n",
        "    print(find_parent(parent, i), end = ' ')\n",
        "print()\n",
        "\n",
        "print('부모 테이블: ', end = ' ')\n",
        "for i in range(1, v+1):\n",
        "    print(parent[i], end = ' ')"
      ],
      "metadata": {
        "id": "M_gn33V0nHq5",
        "colab": {
          "base_uri": "https://localhost:8080/"
        },
        "outputId": "6ecd6cde-53f0-45cf-e10c-60bdf0c05452"
      },
      "execution_count": null,
      "outputs": [
        {
          "output_type": "stream",
          "name": "stdout",
          "text": [
            "6 4\n",
            "1 4\n",
            "2 3\n",
            "2 4\n",
            "5 6\n",
            "각 원소가 속한 집합:  1 1 1 1 5 5 \n",
            "부모 테이블:  1 1 2 1 5 5 "
          ]
        }
      ]
    },
    {
      "cell_type": "code",
      "source": [
        "# 사이클 판별\n",
        "def find_parent(parent, x):\n",
        "    if parent[x] != x:\n",
        "        parent[x] = find_parent(parent, parent[x])\n",
        "    return parent[x]\n",
        "\n",
        "# 두 원소가 속한 집합 합치기\n",
        "def union_parent(parent, a, b):\n",
        "    a = find_parent(parent, a)\n",
        "    b = find_parent(parent, b)\n",
        "    if a < b:\n",
        "        parent[b] = a\n",
        "    else:\n",
        "        parent[a] = b\n",
        "\n",
        "# 노드, 간선 입력\n",
        "v, e = map(int, input().split())\n",
        "parent = [0] * (v+1)\n",
        "\n",
        "# 부모 테이블에서 부모를 자기 자신으로 초기화\n",
        "for i in range(1, v+1):\n",
        "    parent[i] = i\n",
        "\n",
        "cycle = False\n",
        "for i in range(e):\n",
        "    a, b = map(int, input().split())\n",
        "    if find_parent(parent, a) == find_parent(parent, b):\n",
        "        cycle = True\n",
        "        break\n",
        "    else:\n",
        "        union_parent(parent, a, b)\n",
        "    \n",
        "if cycle:\n",
        "    print('사이클이 발생하였습니다.')\n",
        "else:\n",
        "    print('사이클이 발생하지 않았습니다.')"
      ],
      "metadata": {
        "colab": {
          "base_uri": "https://localhost:8080/"
        },
        "id": "qu0_76cq7LZl",
        "outputId": "df8b8fa0-eba7-49bf-bf89-b58942c1a044"
      },
      "execution_count": null,
      "outputs": [
        {
          "output_type": "stream",
          "name": "stdout",
          "text": [
            "3 3\n",
            "1 2\n",
            "1 3\n",
            "2 3\n",
            "사이클이 발생하였습니다.\n"
          ]
        }
      ]
    },
    {
      "cell_type": "markdown",
      "source": [
        "## 2. 신장 트리 \n",
        "- 모든 노드를 포함하면서 사이클이 존재하지 않는 부분 \n",
        "- N개 도시에서 전체 도시를 연결될 수 있게 도로 설치, 모두 연결, 최소 비용"
      ],
      "metadata": {
        "id": "PJ2Cp15l869r"
      }
    },
    {
      "cell_type": "markdown",
      "source": [
        "### 크루스칼 알고리즘\n",
        "- 최소 신장 트리 알고리즘\n",
        "- 그리디\n",
        "- 모든 간서에 대해 정렬 수행 후 가장 거리가 짧은 간선부터 집합에 포함\n",
        "- 사이클 발생시킬 수 있는 간선은 집합에 포함 X\n",
        "- 간선 개수 : 노드 개수 - 1 (트리 자료 구조니깐!)"
      ],
      "metadata": {
        "id": "jviBg3IFp0Ps"
      }
    },
    {
      "cell_type": "code",
      "source": [
        "# 원소 x의 집합 찾기 \n",
        "def find_parent(parent, x):\n",
        "    if parent[x] != x:\n",
        "        parent[x] = find_parent(parent, parent[x])\n",
        "    return parent[x]\n",
        "\n",
        "# 두 원소가 속한 집합 합치기\n",
        "def union_parent(parent, a, b):\n",
        "    a = find_parent(parent, a)\n",
        "    b = find_parent(parent, b)\n",
        "    if a < b:\n",
        "        parent[b] = a\n",
        "    else:\n",
        "        parent[a] = b\n",
        "\n",
        "# 노드 개수와 간선 개수 입력 받기\n",
        "v, e = map(int, input().split())\n",
        "parent = [0] * (v+1)\n",
        "\n",
        "# 간선 리스트와 결과\n",
        "edges = []\n",
        "res = 0\n",
        "\n",
        "# 부모 테이블 상에서 자기자신으로 초기화\n",
        "for i in range(1, v+1):\n",
        "    parent[i] = i\n",
        "\n",
        "# 모든 간선 정보 입력받기 \n",
        "for _ in range(e):\n",
        "    a, b, cost = map(int, input().split())\n",
        "    edges.append((cost, a, b))\n",
        "\n",
        "# 간선 비용순으로 정렬\n",
        "edges.sort()\n",
        "\n",
        "# 간선 일일히 확인하며 \n",
        "for edge in edges:\n",
        "    cost, a, b = edge\n",
        "    # 사이클 발생 안하면 집합에 포함\n",
        "    if find_parent(parent, a) != find_parent(parent, b):\n",
        "        union_parent(parent, a, b)\n",
        "        res += cost\n",
        "print(res)"
      ],
      "metadata": {
        "id": "M6LALS4R8-RC",
        "colab": {
          "base_uri": "https://localhost:8080/"
        },
        "outputId": "6c2cc7b3-f1d8-4eb1-e380-d87a7aee1e3a"
      },
      "execution_count": 1,
      "outputs": [
        {
          "output_type": "stream",
          "name": "stdout",
          "text": [
            "7 9\n",
            "1 2 29\n",
            "1 5 75\n",
            "2 3 35\n",
            "2 6 34\n",
            "3 4 7\n",
            "4 6 23\n",
            "4 7 13\n",
            "5 6 53\n",
            "6 7 25\n",
            "159\n"
          ]
        }
      ]
    },
    {
      "cell_type": "markdown",
      "source": [
        "## 3. 위상 정렬\n",
        "- 방향 그래프의 모든 노드를 '방향에 거스르지 않도록 순서대로 나열하는 것'\n",
        "- 진입 차수 : 특정 노드로 들어오는 간선의 개수\n",
        "- 알고리즘 개요\n",
        "1. 진입 차수가 0인 노드를 큐에 넣는다. \n",
        "2. 큐가 빌 때까지 다음의 과정을 반복한다.\n",
        "    1. 큐에서 원소를 꺼내 해당 노드에서 출발하는 간선을 그래프에서 제거한다.\n",
        "    2. 새롭게 진입차수가 0이 된 노드를 큐에 넣는다."
      ],
      "metadata": {
        "id": "SkOMsE2ZuafR"
      }
    },
    {
      "cell_type": "code",
      "source": [
        "from collections import deque\n",
        "\n",
        "# 노드 개수와 간선 개수 입력\n",
        "v, e = map(int, input().split())\n",
        "# 모든 노드에 대한 진입차수 0으로 초기화\n",
        "indegree = [0] * (v+1)\n",
        "# 각 노드에 연결된 간선 정보 담기 위한 그래프 초기화\n",
        "graph = [[] for i in range(v+1)]\n",
        "\n",
        "# 모든 간선 정보 입력\n",
        "for _ in range(e):\n",
        "    a, b = map(int, input().split())\n",
        "    graph[a].append(b) # a에서 b로 이동 가능 \n",
        "    indegree[b] += 1\n",
        "\n",
        "# 위상 정렬 함수\n",
        "def topology_sort():\n",
        "    res = []\n",
        "    q = deque()\n",
        "\n",
        "    for i in range(1, v+1):\n",
        "        if indegree[i] == 0:\n",
        "            q.append(i)\n",
        "    \n",
        "    while q:\n",
        "        now = q.popleft()\n",
        "        res.append(now)\n",
        "        for i in graph[now]:\n",
        "            indegree[i] -= 1\n",
        "            # 새롭게 진입차수가 0이 되는 노드를 q에 삽입 \n",
        "            if indegree[i] == 0:\n",
        "                q.append(i)\n",
        "\n",
        "    for i in res:\n",
        "        print(i, end = ' ')\n",
        "\n",
        "topology_sort()"
      ],
      "metadata": {
        "colab": {
          "base_uri": "https://localhost:8080/"
        },
        "id": "W6Hk9793ufVF",
        "outputId": "8c79069b-f5e2-46e3-daa4-5ef0272a703f"
      },
      "execution_count": 3,
      "outputs": [
        {
          "output_type": "stream",
          "name": "stdout",
          "text": [
            "7 8\n",
            "1 2\n",
            "1 5\n",
            "2 3\n",
            "2 6\n",
            "3 4\n",
            "4 7\n",
            "5 6\n",
            "6 4\n",
            "1 2 5 3 6 4 7 "
          ]
        }
      ]
    },
    {
      "cell_type": "markdown",
      "source": [
        "## 4. 실전 문제"
      ],
      "metadata": {
        "id": "hyo95OJ10nAU"
      }
    },
    {
      "cell_type": "markdown",
      "source": [
        "### 팀 결성(서로소)"
      ],
      "metadata": {
        "id": "P-t7kuq40rb0"
      }
    },
    {
      "cell_type": "code",
      "source": [
        "def find_parent(parent, x):\n",
        "    if parent[x] != x:\n",
        "        parent[x] = find_parent(parent, parent[x])\n",
        "    return parent[x]\n",
        "\n",
        "def union_parent(parent, a, b):\n",
        "    a = find_parent(parent, a)\n",
        "    b = find_parent(parent, b)\n",
        "    if a < b:\n",
        "        parent[b] = a\n",
        "    else:\n",
        "        parent[a] = b\n",
        "\n",
        "n,m = map(int, input().split())\n",
        "parent = [0] * (n+1)\n",
        "for i in range(0, n+1):\n",
        "    parent[i] = i\n",
        "\n",
        "for i in range(m):\n",
        "    oper, a, b = map(int, input().split())\n",
        "    if oper == 0:\n",
        "        union_parent(parent, a,b)\n",
        "    elif oper == 1:\n",
        "        if find_parent(parent, a) != find_parent(parent, b):\n",
        "            print('NO')\n",
        "        else:\n",
        "            print('YES')"
      ],
      "metadata": {
        "colab": {
          "base_uri": "https://localhost:8080/"
        },
        "id": "xBn1_IUh0og-",
        "outputId": "e5b1de1c-caba-46c3-a55b-5f21ee651800"
      },
      "execution_count": 5,
      "outputs": [
        {
          "name": "stdout",
          "output_type": "stream",
          "text": [
            "7 8\n",
            "0 1 3\n",
            "1 1 7\n",
            "NO\n",
            "0 7 6\n",
            "1 7 1\n",
            "NO\n",
            "0 3 7\n",
            "0 4 2\n",
            "1 1 1\n",
            "YES\n",
            "0 1 1\n"
          ]
        }
      ]
    },
    {
      "cell_type": "markdown",
      "source": [
        "### 도시 분할 계획\n",
        "- 최소 신장 트리를 크루스칼 알고리즘으로 만든 후 가장 비용이 큰 간선을 잘라내자"
      ],
      "metadata": {
        "id": "WE6VDtjm2vj2"
      }
    },
    {
      "cell_type": "code",
      "source": [
        "def find_parent(parent, x):\n",
        "    if parent[x] != x:\n",
        "        parent[x] = find_parent(parent, parent[x])\n",
        "    return parent[x]\n",
        "\n",
        "def union_parent(parent, a, b):\n",
        "    a = find_parent(parent, b)\n",
        "    b = find_parent(parent, b)\n",
        "    if a < b:\n",
        "        parent[b] = a\n",
        "    else:\n",
        "        parent[a] = b\n",
        "\n",
        "n,m = map(int, input().split())\n",
        "parent = [0] * (n+1)\n",
        "edges = []\n",
        "res = 0\n",
        "\n",
        "for i in range(1, n+1):\n",
        "    parent[i] = i\n",
        "\n",
        "for _ in range(m):\n",
        "    a, b, cost = map(int, input().split())\n",
        "    edges.append((cost, a, b))\n",
        "\n",
        "edges.sort()\n",
        "last = 0\n",
        "\n",
        "for edge in edges:\n",
        "    cost, a, b = edge\n",
        "    if find_parent(parent, a) != find_parent(parent, b):\n",
        "        union_parent(parent, a, b)\n",
        "        res += cost\n",
        "        last = cost\n",
        "\n",
        "print(res - cost)"
      ],
      "metadata": {
        "colab": {
          "base_uri": "https://localhost:8080/"
        },
        "id": "7If7unZr2vWi",
        "outputId": "87351f21-9a06-46ba-e556-e91180b4ce2b"
      },
      "execution_count": 6,
      "outputs": [
        {
          "name": "stdout",
          "output_type": "stream",
          "text": [
            "7 12\n",
            "1 2 3\n",
            "1 3 2\n",
            "3 2 1\n",
            "2 5 2\n",
            "3 4 4\n",
            "7 3 6\n",
            "5 1 5\n",
            "1 6 2\n",
            "6 4 1\n",
            "6 5 3\n",
            "4 5 3\n",
            "6 7 4\n"
          ]
        }
      ]
    },
    {
      "cell_type": "markdown",
      "source": [
        "### 커리큘럼(위상 정렬)"
      ],
      "metadata": {
        "id": "BslSINxv6-oE"
      }
    },
    {
      "cell_type": "code",
      "source": [
        "from collections import deque\n",
        "import copy\n",
        "\n",
        "n = int(input())\n",
        "indegree = [0] * (n+1)\n",
        "graph = [[] for i in range(n+1)]\n",
        "time = [0] * (n+1)\n",
        "\n",
        "# 방향 그래프 모든 간선 정보 입력받기 \n",
        "for i in range(1, n+1):\n",
        "    data = list(map(int, input().split()))\n",
        "    time[i] = data[0]   # 시간 정보 \n",
        "    for x in data[1:-1]:\n",
        "        indegree[i] += 1\n",
        "        graph[x].append(i)\n",
        "\n",
        "# 위상 정렬 함수\n",
        "def topology_sort():\n",
        "    res = copy.deepcopy(time)\n",
        "    q = deque()\n",
        "    # 처음 시작할 때는 진입차수 0인 노드를 큐에 삽입\n",
        "    for i in range(1, n+1):\n",
        "        if indegree[i] == 0:\n",
        "            q.append(i)\n",
        "        \n",
        "    while q:\n",
        "        now = q.popleft()\n",
        "        # 꺼낸 원소와 연결된 노드들의 진입차수에서 1 빼기\n",
        "        for i in graph[now]:\n",
        "            res[i] = max(res[i], res[now] + time[i])\n",
        "            indegree[i] -= 1\n",
        "            if indegree[i] == 0:\n",
        "                q.append(i)\n",
        "    for i in range(1, n+1):\n",
        "        print(res[i])\n",
        "\n",
        "topology_sort()"
      ],
      "metadata": {
        "colab": {
          "base_uri": "https://localhost:8080/"
        },
        "id": "jq_8lk1M7CmY",
        "outputId": "5b645923-5336-4971-b7a2-32dfaabaf700"
      },
      "execution_count": 3,
      "outputs": [
        {
          "output_type": "execute_result",
          "data": {
            "text/plain": [
              "[[], [2, 3, 4], [], [4, 5], [], []]"
            ]
          },
          "metadata": {},
          "execution_count": 3
        }
      ]
    }
  ]
}