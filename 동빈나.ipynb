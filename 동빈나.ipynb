{
  "nbformat": 4,
  "nbformat_minor": 0,
  "metadata": {
    "colab": {
      "provenance": [],
      "collapsed_sections": [
        "AV8wPSO2PwzQ",
        "_C5f5QqJA9LE",
        "lfKQLuNSMmzr",
        "5P1poDHhNGvI",
        "MaW8rnRFP44T"
      ],
      "authorship_tag": "ABX9TyP1K6T5N+6iOVZLYCGUan2r",
      "include_colab_link": true
    },
    "kernelspec": {
      "name": "python3",
      "display_name": "Python 3"
    },
    "language_info": {
      "name": "python"
    }
  },
  "cells": [
    {
      "cell_type": "markdown",
      "metadata": {
        "id": "view-in-github",
        "colab_type": "text"
      },
      "source": [
        "<a href=\"https://colab.research.google.com/github/ohilikeit/Coding_Test_Practice/blob/main/%EB%8F%99%EB%B9%88%EB%82%98.ipynb\" target=\"_parent\"><img src=\"https://colab.research.google.com/assets/colab-badge.svg\" alt=\"Open In Colab\"/></a>"
      ]
    },
    {
      "cell_type": "markdown",
      "source": [
        "# 그리디"
      ],
      "metadata": {
        "id": "AV8wPSO2PwzQ"
      }
    },
    {
      "cell_type": "markdown",
      "source": [
        "## 1. 큰 수의 법칙"
      ],
      "metadata": {
        "id": "_C5f5QqJA9LE"
      }
    },
    {
      "cell_type": "code",
      "execution_count": 2,
      "metadata": {
        "colab": {
          "base_uri": "https://localhost:8080/"
        },
        "id": "I_wsT7kdA6Y1",
        "outputId": "874f3d35-1b7c-4628-b7a9-fdd5959a1eb1"
      },
      "outputs": [
        {
          "output_type": "stream",
          "name": "stdout",
          "text": [
            "5 8 3\n",
            "2 4 5 4 6\n",
            "46\n"
          ]
        }
      ],
      "source": [
        "n, m, k = map(int, input().split())\n",
        "df = list(map(int, input().split()))\n",
        "\n",
        "df.sort()\n",
        "first = df[-1]\n",
        "second = df[-2]\n",
        "\n",
        "res = 0\n",
        "\n",
        "cnt = m // (k + 1) * k + m % (k+1)\n",
        "res = cnt * first + (m - cnt) * second\n",
        "\n",
        "print(res)"
      ]
    },
    {
      "cell_type": "markdown",
      "source": [
        "## 2. 카드 게임"
      ],
      "metadata": {
        "id": "lfKQLuNSMmzr"
      }
    },
    {
      "cell_type": "code",
      "source": [
        "n, m = map(int, input().split())\n",
        "\n",
        "res = 0\n",
        "for i in range(n):\n",
        "  lst = list(map(int, input().split()))\n",
        "  res = max(res, min(lst))\n",
        "print(res)"
      ],
      "metadata": {
        "colab": {
          "base_uri": "https://localhost:8080/"
        },
        "id": "SlQBLLz9MnHn",
        "outputId": "aeefab30-8015-42d0-8947-48221fcec57e"
      },
      "execution_count": 1,
      "outputs": [
        {
          "output_type": "stream",
          "name": "stdout",
          "text": [
            "3 3\n",
            "3 1 2\n",
            "4 1 4\n",
            "2 2 2\n",
            "2\n"
          ]
        }
      ]
    },
    {
      "cell_type": "markdown",
      "source": [
        "## 3. 1이 될 때까지"
      ],
      "metadata": {
        "id": "5P1poDHhNGvI"
      }
    },
    {
      "cell_type": "code",
      "source": [
        "n, k = map(int, input().split())\n",
        "\n",
        "num = 0\n",
        "while n >= k:\n",
        "    if not n % k == 0:\n",
        "        n -= 1\n",
        "        num += 1\n",
        "    else:\n",
        "        n //= k\n",
        "        num += 1\n",
        "    \n",
        "    if n == 1:\n",
        "        break\n",
        "print(num)"
      ],
      "metadata": {
        "colab": {
          "base_uri": "https://localhost:8080/"
        },
        "id": "d7N81CyDNG-I",
        "outputId": "676e3077-1ed3-474f-be56-27e1b13faccc"
      },
      "execution_count": 7,
      "outputs": [
        {
          "output_type": "stream",
          "name": "stdout",
          "text": [
            "25 5\n",
            "2\n"
          ]
        }
      ]
    },
    {
      "cell_type": "markdown",
      "source": [
        "# 구현"
      ],
      "metadata": {
        "id": "7Ls2V0uIPzqb"
      }
    },
    {
      "cell_type": "markdown",
      "source": [
        "## 1. 왕실의 나이트"
      ],
      "metadata": {
        "id": "MaW8rnRFP44T"
      }
    },
    {
      "cell_type": "code",
      "source": [
        "inp = input()\n",
        "row = int(inp[1])\n",
        "column = int(ord(inp[0])) - int(ord('a')) + 1\n",
        "\n",
        "things = [(2,1), (2,-1), (-2,1), (-2,-1), (1,2), (-1, 2), (1,-2), (-1,-2)]\n",
        "res = 0\n",
        "for thing in things:\n",
        "    test_row = row + thing[0]\n",
        "    test_col = column + thing[1]\n",
        "\n",
        "    if test_row < 1 or test_row > 8 or test_col < 1 or test_col > 8:\n",
        "        continue\n",
        "    res += 1\n",
        "\n",
        "print(res)"
      ],
      "metadata": {
        "colab": {
          "base_uri": "https://localhost:8080/"
        },
        "id": "L9fONvMFU7ub",
        "outputId": "2d99cf3f-8fe2-4fd0-9104-648f1fa5f793"
      },
      "execution_count": 5,
      "outputs": [
        {
          "output_type": "stream",
          "name": "stdout",
          "text": [
            "d4\n",
            "8\n"
          ]
        }
      ]
    },
    {
      "cell_type": "markdown",
      "source": [
        "## 2. 게임 개발"
      ],
      "metadata": {
        "id": "Kq8zcVykWUT8"
      }
    },
    {
      "cell_type": "code",
      "source": [
        "n, m = map(int, input().split())\n",
        "\n",
        "# 방문 위치 저장 맵 생성하여 0으로 초기화\n",
        "d = [[0] * m for _ in range(n)]\n",
        "\n",
        "# 현재 위치 + 방향 \n",
        "x, y, direction = map(int, input().split())\n",
        "d[x][y] = 1\n",
        "\n",
        "# 전체 맵 정보 입력 \n",
        "array = []\n",
        "for i in range(n):\n",
        "    array.append(list(map(int, input().split())))\n",
        "\n",
        "# 북, 동, 남, 서\n",
        "dx = [-1, 0, 1, 0]\n",
        "dy = [0, 1, 0, -1]\n",
        "\n",
        "# 왼쪽으로 회전\n",
        "def turn_left():\n",
        "    global direction\n",
        "    direction -= 1\n",
        "    if direction == -1:\n",
        "        direction = 3\n",
        "\n",
        "# 시뮬레이션\n",
        "count = 1\n",
        "turn_time = 0\n",
        "while True:\n",
        "    # 왼쪽 회전 \n",
        "    turn_left()\n",
        "    nx = x + dx[direction]\n",
        "    ny = y + dx[direction]\n",
        "\n",
        "    # 회전한 후 아직 가보지 않은 칸이면 이동\n",
        "    if d[nx][ny] == 0 and array[nx][ny] == 0:\n",
        "        d[nx][ny] = 1\n",
        "        x = nx\n",
        "        y = ny\n",
        "        count += 1\n",
        "        turn_time = 0\n",
        "        continue\n",
        "    # 회전한 후 정면에 가보지 않은 칸이 없거나 바다인 경우\n",
        "    else:\n",
        "        turn_time += 1\n",
        "\n",
        "    # 네 방향 모두 못갈 경우\n",
        "    if turn_time == 4:\n",
        "        nx = x - dx[direction]\n",
        "        ny = y - dy[direction]\n",
        "\n",
        "        # 뒤로 갈 수 있음 이동하기 \n",
        "        if array[nx][ny] == 0:\n",
        "            x = nx\n",
        "            y = ny\n",
        "        else:\n",
        "            break\n",
        "        turn_time = 0\n",
        "\n",
        "print(count)"
      ],
      "metadata": {
        "colab": {
          "base_uri": "https://localhost:8080/"
        },
        "id": "DUOi_wgYWVKP",
        "outputId": "1eeb9881-8a63-4d09-b3f7-362263446d40"
      },
      "execution_count": 7,
      "outputs": [
        {
          "output_type": "stream",
          "name": "stdout",
          "text": [
            "4 4\n",
            "1 1 0\n",
            "1 1 1 1\n",
            "1 0 0 1\n",
            "1 1 0 1\n",
            "1 1 1 1\n",
            "3\n"
          ]
        }
      ]
    },
    {
      "cell_type": "code",
      "source": [
        "n, m = map(int, input().split())\n",
        "d = [[0] * m for _ in range(n)]\n",
        "\n",
        "x, y, direction = map(int, input().split())\n",
        "d[x][y] = 1\n",
        "\n",
        "# 북 동 남 서\n",
        "dx = [-1, 0, 1, 0]\n",
        "dy = [0, 1, 0, -1]\n",
        "\n",
        "1 \n",
        "# 실제 맵\n",
        "array = []\n",
        "for i in range(n):\n",
        "    array.append(list(map(int, input().split())))\n",
        "\n",
        "# 방향\n",
        "def turn_left():\n",
        "    global direction\n",
        "    direction -= 1\n",
        "    if direction == -1:\n",
        "        direction = 3\n",
        "\n",
        "# 시뮬레이션\n",
        "count = 1\n",
        "turn_time = 0\n",
        "while True:\n",
        "    turn_left()\n",
        "    nx = x + dx[direction]\n",
        "    ny = y + dy[direction]\n",
        "\n",
        "    # 가보지 않은 칸 존재\n",
        "    if d[nx][ny] == 0 and array[nx][ny] == 0:\n",
        "        d[nx][ny] = 1\n",
        "        x = nx\n",
        "        y = ny\n",
        "        count += 1\n",
        "        turn_time = 0\n",
        "        continue\n",
        "    # 회전 후 가본칸이면\n",
        "    else:\n",
        "        turn_time += 1\n",
        "    \n",
        "    # 네 방향 다 막혔으면\n",
        "    if turn_time == 4:\n",
        "        nx = x - dx[direction]\n",
        "        ny = y - dx[direction]\n",
        "\n",
        "        if array[nx][ny] == 0:\n",
        "            x = nx\n",
        "            y = ny\n",
        "        else:\n",
        "            break\n",
        "        turn_time = 0\n",
        "\n",
        "print(count)"
      ],
      "metadata": {
        "colab": {
          "base_uri": "https://localhost:8080/",
          "height": 356
        },
        "id": "gGyVNu5yjRpV",
        "outputId": "2ce21725-3b28-47d8-892d-b8df3c0790a1"
      },
      "execution_count": 18,
      "outputs": [
        {
          "name": "stdout",
          "output_type": "stream",
          "text": [
            "4 4\n",
            "1 1 0\n",
            "1 1 1 1\n",
            "1 0 0 1\n",
            "1 1 0 1\n",
            "1 1 1 1\n"
          ]
        },
        {
          "output_type": "error",
          "ename": "TypeError",
          "evalue": "ignored",
          "traceback": [
            "\u001b[0;31m---------------------------------------------------------------------------\u001b[0m",
            "\u001b[0;31mTypeError\u001b[0m                                 Traceback (most recent call last)",
            "\u001b[0;32m<ipython-input-18-b1629d42e80e>\u001b[0m in \u001b[0;36m<module>\u001b[0;34m\u001b[0m\n\u001b[1;32m     31\u001b[0m \u001b[0;34m\u001b[0m\u001b[0m\n\u001b[1;32m     32\u001b[0m     \u001b[0;31m# 가보지 않은 칸 존재\u001b[0m\u001b[0;34m\u001b[0m\u001b[0;34m\u001b[0m\u001b[0;34m\u001b[0m\u001b[0m\n\u001b[0;32m---> 33\u001b[0;31m     \u001b[0;32mif\u001b[0m \u001b[0md\u001b[0m\u001b[0;34m[\u001b[0m\u001b[0mnx\u001b[0m\u001b[0;34m]\u001b[0m\u001b[0;34m[\u001b[0m\u001b[0mny\u001b[0m\u001b[0;34m]\u001b[0m \u001b[0;34m==\u001b[0m \u001b[0;36m0\u001b[0m \u001b[0;32mand\u001b[0m \u001b[0marray\u001b[0m\u001b[0;34m[\u001b[0m\u001b[0mdx\u001b[0m\u001b[0;34m]\u001b[0m\u001b[0;34m[\u001b[0m\u001b[0mdy\u001b[0m\u001b[0;34m]\u001b[0m \u001b[0;34m==\u001b[0m \u001b[0;36m0\u001b[0m\u001b[0;34m:\u001b[0m\u001b[0;34m\u001b[0m\u001b[0;34m\u001b[0m\u001b[0m\n\u001b[0m\u001b[1;32m     34\u001b[0m         \u001b[0md\u001b[0m\u001b[0;34m[\u001b[0m\u001b[0mnx\u001b[0m\u001b[0;34m]\u001b[0m\u001b[0;34m[\u001b[0m\u001b[0mny\u001b[0m\u001b[0;34m]\u001b[0m \u001b[0;34m=\u001b[0m \u001b[0;36m1\u001b[0m\u001b[0;34m\u001b[0m\u001b[0;34m\u001b[0m\u001b[0m\n\u001b[1;32m     35\u001b[0m         \u001b[0mx\u001b[0m \u001b[0;34m=\u001b[0m \u001b[0mnx\u001b[0m\u001b[0;34m\u001b[0m\u001b[0;34m\u001b[0m\u001b[0m\n",
            "\u001b[0;31mTypeError\u001b[0m: list indices must be integers or slices, not list"
          ]
        }
      ]
    },
    {
      "cell_type": "code",
      "source": [
        "for i in range(10):\n",
        "    if i % 2 == 1:\n",
        "        continue\n",
        "        print(i + 10)\n",
        "    else:\n",
        "        print(i)\n",
        "        print(i + 100)"
      ],
      "metadata": {
        "colab": {
          "base_uri": "https://localhost:8080/"
        },
        "id": "fSXWoHGzme-Y",
        "outputId": "524a8b89-814d-4492-d844-3716551f3aab"
      },
      "execution_count": 12,
      "outputs": [
        {
          "output_type": "stream",
          "name": "stdout",
          "text": [
            "0\n",
            "100\n",
            "2\n",
            "102\n",
            "4\n",
            "104\n",
            "6\n",
            "106\n",
            "8\n",
            "108\n"
          ]
        }
      ]
    },
    {
      "cell_type": "markdown",
      "source": [
        "# DFS, BFS"
      ],
      "metadata": {
        "id": "jJMGcqorhcB5"
      }
    },
    {
      "cell_type": "markdown",
      "source": [
        "## 1. "
      ],
      "metadata": {
        "id": "qBNqma_uhgRE"
      }
    }
  ]
}