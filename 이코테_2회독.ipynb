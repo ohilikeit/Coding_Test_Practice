{
  "nbformat": 4,
  "nbformat_minor": 0,
  "metadata": {
    "colab": {
      "provenance": [],
      "collapsed_sections": [
        "-iAZCfy0I1E0",
        "Ev8X9BWsXo_k",
        "2tjGvPziXqTM",
        "81RVlhDmXvhY",
        "COrPBvS7XxpX",
        "crGR6CsyXyaS",
        "C-Nnt8ySX0oI"
      ],
      "authorship_tag": "ABX9TyNBDl/4cdoOV0UhtAJcxGDb",
      "include_colab_link": true
    },
    "kernelspec": {
      "name": "python3",
      "display_name": "Python 3"
    },
    "language_info": {
      "name": "python"
    }
  },
  "cells": [
    {
      "cell_type": "markdown",
      "metadata": {
        "id": "view-in-github",
        "colab_type": "text"
      },
      "source": [
        "<a href=\"https://colab.research.google.com/github/ohilikeit/Coding_Test_Practice/blob/main/%EC%9D%B4%EC%BD%94%ED%85%8C_2%ED%9A%8C%EB%8F%85.ipynb\" target=\"_parent\"><img src=\"https://colab.research.google.com/assets/colab-badge.svg\" alt=\"Open In Colab\"/></a>"
      ]
    },
    {
      "cell_type": "markdown",
      "source": [
        "# 그리디\n",
        "- 지금 당장 좋은 것만 고르는 방법"
      ],
      "metadata": {
        "id": "-iAZCfy0I1E0"
      }
    },
    {
      "cell_type": "markdown",
      "source": [
        "## 1. 큰 수의 법칙"
      ],
      "metadata": {
        "id": "yM0e3FU-SDG6"
      }
    },
    {
      "cell_type": "code",
      "execution_count": null,
      "metadata": {
        "colab": {
          "base_uri": "https://localhost:8080/"
        },
        "id": "Hd1qeHSaH48s",
        "outputId": "9686f862-a8b2-4852-ee89-738da6fb0ddb"
      },
      "outputs": [
        {
          "output_type": "stream",
          "name": "stdout",
          "text": [
            "5 8 3\n",
            "2 4 5 4 6\n",
            "46\n"
          ]
        }
      ],
      "source": [
        "n, m, k = map(int, input().split())\n",
        "array = list(map(int, input().split()))\n",
        "\n",
        "res = 0\n",
        "array.sort()\n",
        "first = array[-1]\n",
        "second = array[-2]\n",
        "\n",
        "res = (m // (k + 1)) * (first * k + second) + (m % (k + 1)) * first\n",
        "print(res)"
      ]
    },
    {
      "cell_type": "markdown",
      "source": [
        "## 2. 숫자 카드 게임"
      ],
      "metadata": {
        "id": "IsrxvEQlUibc"
      }
    },
    {
      "cell_type": "code",
      "source": [
        "n,m = map(int, input().split())\n",
        "res = 0\n",
        "for i in range(n):\n",
        "    data = list(map(int, input().split()))\n",
        "    df = min(data)\n",
        "    res = max(res, df)\n",
        "print(res)"
      ],
      "metadata": {
        "colab": {
          "base_uri": "https://localhost:8080/"
        },
        "id": "zVFQh46aUkZ4",
        "outputId": "d56e643f-666c-4a6d-cb40-ca12d9d50284"
      },
      "execution_count": null,
      "outputs": [
        {
          "output_type": "stream",
          "name": "stdout",
          "text": [
            "2 4\n",
            "7 3 1 8\n",
            "3 3 3 4\n",
            "3\n"
          ]
        }
      ]
    },
    {
      "cell_type": "markdown",
      "source": [
        "## 3. 1이 될 때까지"
      ],
      "metadata": {
        "id": "7HEvhj0-WB-d"
      }
    },
    {
      "cell_type": "code",
      "source": [
        "n, k = map(int, input().split())\n",
        "res = 0\n",
        "while n >= k:\n",
        "    while n % k != 0:\n",
        "        n -= 1\n",
        "        res += 1\n",
        "    n //= k\n",
        "    res += 1 \n",
        "print(res)  "
      ],
      "metadata": {
        "colab": {
          "base_uri": "https://localhost:8080/"
        },
        "id": "szbbT9xkWD7y",
        "outputId": "5c039c82-9f90-4c92-bd8c-6082a6fae1c3"
      },
      "execution_count": null,
      "outputs": [
        {
          "output_type": "stream",
          "name": "stdout",
          "text": [
            "120 3\n",
            "7\n"
          ]
        }
      ]
    },
    {
      "cell_type": "markdown",
      "source": [
        "# 구현\n",
        "- 아이디어를 코드로 바꾸기\n",
        "- 완전탐색과 시뮬레이션\n",
        "- 1~2번 난이도 쉬움 문제로 잘 나온다."
      ],
      "metadata": {
        "id": "Ev8X9BWsXo_k"
      }
    },
    {
      "cell_type": "markdown",
      "source": [
        "## 1. 왕실의 나이트"
      ],
      "metadata": {
        "id": "_weydRcscpML"
      }
    },
    {
      "cell_type": "code",
      "source": [
        "location = input()\n",
        "row = int(location[1])\n",
        "col = int(ord(location[0])) - int(ord('a')) + 1\n",
        "\n",
        "steps = [(-2, -1), (-2, 1), (2, -1), (2,1), (1,2), (-1, 2), (1, -2), (-1,-2)]\n",
        "res = 0\n",
        "for step in steps:\n",
        "    a, b = step\n",
        "    new_row = row + a\n",
        "    new_col = col + b\n",
        "    if new_row >= 1 and new_row <= 8 and new_col >= 1 and new_col <= 8:\n",
        "        res += 1\n",
        "print(res)"
      ],
      "metadata": {
        "colab": {
          "base_uri": "https://localhost:8080/"
        },
        "id": "cPeF83PXX6SC",
        "outputId": "9917b850-7455-4965-8ee8-ee13ef729e1d"
      },
      "execution_count": null,
      "outputs": [
        {
          "output_type": "stream",
          "name": "stdout",
          "text": [
            "a1\n",
            "2\n"
          ]
        }
      ]
    },
    {
      "cell_type": "markdown",
      "source": [
        "## 게임 개발"
      ],
      "metadata": {
        "id": "BPeM343ncq0W"
      }
    },
    {
      "cell_type": "code",
      "source": [
        "n, m = map(int, input().split())\n",
        "\n",
        "# 방문 위치 저장\n",
        "d = [[0] * m for _ in range(n)]\n",
        "x, y, direction = map(int, input().split())\n",
        "d[x][y] = 1\n",
        "\n",
        "array = []\n",
        "for i in range(m):\n",
        "    array.append(list(map(int, input().split())))\n",
        "\n",
        "# 북 동 남 서\n",
        "dx = [-1, 0, 1, 0]\n",
        "dy = [0, 1, 0, -1]\n",
        "\n",
        "# 왼쪽 회전\n",
        "def turn_left():\n",
        "    global direction\n",
        "    direction -= 1\n",
        "    if direction == -1:\n",
        "        direction = 3\n",
        "\n",
        "# 시뮬레이션 시작\n",
        "count = 1\n",
        "turn_time = 0\n",
        "while True:\n",
        "    turn_left()\n",
        "    nx = x + dx[direction]\n",
        "    ny = y + dy[direction]\n",
        "    if d[nx][ny] == 0 and array[nx][ny] == 0:\n",
        "        d[nx][ny] = 1\n",
        "        x = nx\n",
        "        y = ny\n",
        "        count += 1\n",
        "        turn_time = 0\n",
        "        continue\n",
        "    else:\n",
        "        turn_time += 1\n",
        "    \n",
        "    if turn_time == 4:\n",
        "        nx = x - dx[direction]\n",
        "        ny = y - dy[direction]\n",
        "        if array[nx][ny] == 0:\n",
        "            x = nx\n",
        "            y = ny\n",
        "        else:\n",
        "            break\n",
        "        turn_time = 0\n",
        "print(count)"
      ],
      "metadata": {
        "colab": {
          "base_uri": "https://localhost:8080/"
        },
        "id": "kUbL1HdkcsU_",
        "outputId": "f0fd72ca-3ae8-4be9-bb26-e95d7f2fa38b"
      },
      "execution_count": null,
      "outputs": [
        {
          "output_type": "stream",
          "name": "stdout",
          "text": [
            "3\n"
          ]
        }
      ]
    },
    {
      "cell_type": "markdown",
      "source": [
        "# DFS\n",
        "- 깊이 우선 탐색\n",
        "- 스택 자료구조 이용\n",
        "1. 탐색 시작 노드를 스택에 삽입 후 방문처리\n",
        "2. 스택 최상단 노드에 방문하지 않은 인접 노드 있으면 그 인접 노드를 스택에 넣고 방문 처리, 방문하지 않은 인접노드 없으면 스택에서 최상단 노드 꺼내기.\n",
        "3. 2번 과정을 계속 반복\n",
        "\n"
      ],
      "metadata": {
        "id": "2tjGvPziXqTM"
      }
    },
    {
      "cell_type": "markdown",
      "source": [
        "## 음료수 얼려먹기"
      ],
      "metadata": {
        "id": "11Hc6DT3rHOT"
      }
    },
    {
      "cell_type": "code",
      "source": [
        "n, m = map(int, input().split())\n",
        "graph = []\n",
        "for i in range(n):\n",
        "    graph.append(list(map(int, input())))\n",
        "\n",
        "def dfs(x, y):\n",
        "    if x <= -1 or y <= -1 or x >= n or y >= m:\n",
        "        return False\n",
        "    if graph[x][y] == 0:\n",
        "        graph[x][y] = 1\n",
        "        dfs(x-1, y)\n",
        "        dfs(x+1, y)\n",
        "        dfs(x, y-1)\n",
        "        dfs(x, y+1)\n",
        "        return True\n",
        "    return False\n",
        "\n",
        "res = 0\n",
        "for i in range(n):\n",
        "    for j in range(m):\n",
        "        if dfs(i, j) == True:\n",
        "            res += 1\n",
        "print(res)"
      ],
      "metadata": {
        "colab": {
          "base_uri": "https://localhost:8080/"
        },
        "id": "7HRJiejdX7Bp",
        "outputId": "2a8add1d-9529-4454-dfbd-46167bc5e7a9"
      },
      "execution_count": null,
      "outputs": [
        {
          "output_type": "stream",
          "name": "stdout",
          "text": [
            "4 5\n",
            "00110\n",
            "00011\n",
            "11111\n",
            "00000\n",
            "3\n"
          ]
        }
      ]
    },
    {
      "cell_type": "markdown",
      "source": [
        "# BFS\n",
        "- 너비 우선 탐색\n",
        "- 큐 자료구조 사용 \n",
        "1. 탐색 시작 노드를 큐에 삽입 후 방문 처리\n",
        "2. 큐에서 노드를 꺼내 해당 노드의 인접 노드 중에서 방문하지 않은 노드를 모두 큐에 삽입하고 방문 처리\n",
        "3. 2번 반복 "
      ],
      "metadata": {
        "id": "81RVlhDmXvhY"
      }
    },
    {
      "cell_type": "code",
      "source": [
        "from collections import deque\n",
        "\n",
        "def bfs(graph, start, visited):\n",
        "    q = deque([start])\n",
        "    visited[start] = True\n",
        "    while q:\n",
        "        v = q.popleft()\n",
        "        print(v, end = ' ')\n",
        "        for i in graph[v]:\n",
        "            if not visited[i]:\n",
        "                q.append(i)\n",
        "                visited[i] = True\n",
        "graph = [\n",
        "    [],\n",
        "    [2,3,8],\n",
        "    [1,7],\n",
        "    [1,4,5],\n",
        "    [3,5],\n",
        "    [3,4],\n",
        "    [7],\n",
        "    [2,6,8],\n",
        "    [1,7]\n",
        "] \n",
        "visited = [False] * 9\n",
        "bfs(graph, 1, visited)"
      ],
      "metadata": {
        "colab": {
          "base_uri": "https://localhost:8080/"
        },
        "id": "wtY1QnlLn_0U",
        "outputId": "9e2c5c38-3ced-491d-a78b-6ae41e932b06"
      },
      "execution_count": null,
      "outputs": [
        {
          "output_type": "stream",
          "name": "stdout",
          "text": [
            "1 2 3 8 7 4 5 6 "
          ]
        }
      ]
    },
    {
      "cell_type": "markdown",
      "source": [
        "## 1. 미로 탈출"
      ],
      "metadata": {
        "id": "lTE-b0BUBeg0"
      }
    },
    {
      "cell_type": "code",
      "source": [
        "from collections import deque\n",
        "\n",
        "n, m = map(int, input().split())\n",
        "graph = []\n",
        "for i in range(n):\n",
        "    graph.append(list(map(int, input())))\n",
        "\n",
        "# 이동(상 하 좌 우)\n",
        "dx = [-1, 1, 0, 0]\n",
        "dy = [0, 0, -1, 1]\n",
        "\n",
        "def bfs(x,y):\n",
        "    q = deque()\n",
        "    q.append((x,y))\n",
        "    while q:\n",
        "        x, y = q.popleft()\n",
        "        for i in range(4):\n",
        "            nx = x + dx[i]\n",
        "            ny = y + dy[i]\n",
        "            if nx < 0 or ny < 0 or nx >= n or ny >= m:\n",
        "                continue\n",
        "            # 괴물이면 무시\n",
        "            if graph[nx][ny] == 0:\n",
        "                continue\n",
        "            # 해당 노드 처음 방문하는 경우에만 거리 기록\n",
        "            if graph[nx][ny] == 1:\n",
        "                graph[nx][ny] = graph[x][y] + 1\n",
        "                q.append((nx, ny))\n",
        "    \n",
        "    return graph[n-1][m-1]\n",
        "\n",
        "print(bfs(0,0))"
      ],
      "metadata": {
        "colab": {
          "base_uri": "https://localhost:8080/"
        },
        "id": "S0IwqGCfBd7e",
        "outputId": "d5a3ca7e-8c45-4a77-80ba-e1e1b97741c5"
      },
      "execution_count": null,
      "outputs": [
        {
          "output_type": "stream",
          "name": "stdout",
          "text": [
            "5 6\n",
            "101010\n",
            "111111\n",
            "000001\n",
            "111111\n",
            "111111\n",
            "10\n"
          ]
        }
      ]
    },
    {
      "cell_type": "code",
      "source": [
        "from collections import deque\n",
        "\n",
        "n, m = map(int, input().split())\n",
        "graph = []\n",
        "for i in range(n):\n",
        "    graph.append(list(map(int, input())))\n",
        "\n",
        "# 상 하 좌 우\n",
        "dx = [-1, 1, 0, 0]\n",
        "dy = [0, 0, -1, 1]\n",
        "\n",
        "def bfs(x, y):\n",
        "    q = deque()\n",
        "    q.append((x,y))\n",
        "    while q:\n",
        "        x, y = q.popleft()\n",
        "        for i in range(4):\n",
        "            nx = x + dx[i]\n",
        "            ny = y + dy[i]\n",
        "            if nx < 0 or ny < 0 or nx >= n or ny >= m:\n",
        "                continue\n",
        "            if graph[nx][ny] == 0:\n",
        "                continue\n",
        "            if graph[nx][ny] == 1:\n",
        "                graph[nx][ny] = graph[x][y] + 1\n",
        "                q.append((nx,ny))\n",
        "    \n",
        "    return graph[n-1][m-1]\n",
        "\n",
        "print(bfs(0,0))"
      ],
      "metadata": {
        "colab": {
          "base_uri": "https://localhost:8080/"
        },
        "id": "LVc7LUHXHI9b",
        "outputId": "425847ba-5d87-4cab-ffc2-1dc7908e2a12"
      },
      "execution_count": null,
      "outputs": [
        {
          "output_type": "stream",
          "name": "stdout",
          "text": [
            "5 6\n",
            "101010\n",
            "111111\n",
            "000001\n",
            "111111\n",
            "111111\n",
            "10\n"
          ]
        }
      ]
    },
    {
      "cell_type": "markdown",
      "source": [
        "# 정렬\n",
        "- 선택, 삽입 정렬\n",
        "- 퀵 정렬\n",
        "1. pivot 설정 후 왼쪽에서 큰 데이터와 오른쪽에서 작은 데이터 교환\n",
        "2. 재귀함수로 간단히 구현 가능\n",
        "- 계수 정렬\n",
        "1. 특정 조건 부합할 때만 사용 가능하지만 매우 빠름\n",
        "2. 가장 큰거와 작은거 차이가 백만 안넘는 양의 정수들 상대로 빠름.\n",
        "3. 정렬 용으로 리스트 하나 더 생성해서 인덱스 기준으로 있으면 1씩 올리는 형태\n"
      ],
      "metadata": {
        "id": "COrPBvS7XxpX"
      }
    },
    {
      "cell_type": "code",
      "source": [
        "# 퀵 정렬 \n",
        "array = [5, 7, 9, 0, 3, 1, 6, 2, 4, 8]\n",
        "def quick_sort(array):\n",
        "    if len(array) <= 1:\n",
        "        return array\n",
        "    pivot = array[0]\n",
        "    tail = array[1:]\n",
        "    left = [x for x in tail if x <= pivot]\n",
        "    right = [x for x in tail if x > pivot]\n",
        "\n",
        "    return quick_sort(left) + [pivot] + quick_sort(right)\n",
        "\n",
        "print(quick_sort(array))"
      ],
      "metadata": {
        "colab": {
          "base_uri": "https://localhost:8080/"
        },
        "id": "iyTZvApkJ-_d",
        "outputId": "76c742de-8c6b-4f39-df0b-b1504c95bf33"
      },
      "execution_count": null,
      "outputs": [
        {
          "output_type": "stream",
          "name": "stdout",
          "text": [
            "[0, 1, 2, 3, 4, 5, 6, 7, 8, 9]\n"
          ]
        }
      ]
    },
    {
      "cell_type": "code",
      "source": [
        "# 계수 정렬\n",
        "array = [7,5,9,0,3,1,6,2,9,1,4,8,0,5,2]\n",
        "count = [0] * (max(array)+1)\n",
        "for i in range(len(array)):\n",
        "    count[array[i]] += 1\n",
        "for i in range(len(count)):\n",
        "    for j in range(count[i]):\n",
        "        print(i, end = ' ')"
      ],
      "metadata": {
        "colab": {
          "base_uri": "https://localhost:8080/"
        },
        "id": "lLXVgICOUVY8",
        "outputId": "6ba29248-d9ff-4108-8192-44b9ee082786"
      },
      "execution_count": null,
      "outputs": [
        {
          "output_type": "stream",
          "name": "stdout",
          "text": [
            "0 0 1 1 2 2 3 4 5 5 6 7 8 9 9 "
          ]
        }
      ]
    },
    {
      "cell_type": "markdown",
      "source": [
        "## 1. 위에서 아래로"
      ],
      "metadata": {
        "id": "AWCPPsGNTqRw"
      }
    },
    {
      "cell_type": "code",
      "source": [
        "n = int(input())\n",
        "array = []\n",
        "for i in range(n):\n",
        "    array.append(int(input()))\n",
        "\n",
        "array = sorted(array, reverse=True)\n",
        "for i in array:\n",
        "    print(i, end=' ')"
      ],
      "metadata": {
        "colab": {
          "base_uri": "https://localhost:8080/"
        },
        "id": "OEC5dUJOVy1D",
        "outputId": "60cd99e7-e0d1-4073-bf9c-4b56dc48f92b"
      },
      "execution_count": null,
      "outputs": [
        {
          "output_type": "stream",
          "name": "stdout",
          "text": [
            "3\n",
            "2\n",
            "5\n",
            "3\n",
            "5 3 2 "
          ]
        }
      ]
    },
    {
      "cell_type": "markdown",
      "source": [
        "## 2. 성적 낮은 순서로 학생 출력하기"
      ],
      "metadata": {
        "id": "ciBsBXvEWLXv"
      }
    },
    {
      "cell_type": "code",
      "source": [
        "n = int(input())\n",
        "array = []\n",
        "for i in range(n):\n",
        "    A, score = input().split()\n",
        "    array.append((A, score))\n",
        "array = sorted(array, key = lambda x: x[1])\n",
        "for i in array:\n",
        "    print(i[0], end = ' ')"
      ],
      "metadata": {
        "colab": {
          "base_uri": "https://localhost:8080/"
        },
        "id": "YdVF2iAtWNnK",
        "outputId": "982c45b1-a395-4920-ad44-54249e1dc827"
      },
      "execution_count": null,
      "outputs": [
        {
          "output_type": "stream",
          "name": "stdout",
          "text": [
            "2\n",
            "홍길동 95\n",
            "이순신 77\n",
            "이순신 홍길동 "
          ]
        }
      ]
    },
    {
      "cell_type": "markdown",
      "source": [
        "## 3. 두 배열의 원소 교체"
      ],
      "metadata": {
        "id": "h2eH6ZmgXIWk"
      }
    },
    {
      "cell_type": "code",
      "source": [
        "n, k = map(int, input().split())\n",
        "a = list(map(int, input().split()))\n",
        "b = list(map(int, input().split()))\n",
        "\n",
        "a.sort()\n",
        "b.sort(reverse=True)\n",
        "\n",
        "for i in range(k):\n",
        "    if a[i] < b[i]:\n",
        "        a[i], b[i] = b[i], a[i]\n",
        "    else:\n",
        "        break\n",
        "\n",
        "print(sum(a))"
      ],
      "metadata": {
        "colab": {
          "base_uri": "https://localhost:8080/"
        },
        "id": "RALwJcVpXKDY",
        "outputId": "6aac6881-f4f2-4bd0-828d-afde053bd798"
      },
      "execution_count": null,
      "outputs": [
        {
          "output_type": "stream",
          "name": "stdout",
          "text": [
            "5 3\n",
            "1 2 5 4 3\n",
            "5 5 6 6 5\n",
            "26\n"
          ]
        }
      ]
    },
    {
      "cell_type": "markdown",
      "source": [
        "# 이진 탐색\n",
        "- 중간점 찍고 찾으려는 수가 작으면 끝점을 중간 - 1로, 크면 시작점을 중간 + 1로 설정\n",
        "- 재귀적으로 계속 찾기, O(logN)으로 매우 빠름."
      ],
      "metadata": {
        "id": "crGR6CsyXyaS"
      }
    },
    {
      "cell_type": "markdown",
      "source": [
        "## 1. 부품 찾기"
      ],
      "metadata": {
        "id": "s4u2dCMAd2R8"
      }
    },
    {
      "cell_type": "code",
      "source": [
        "n = int(input())\n",
        "store = list(map(int, input().split()))\n",
        "store.sort()\n",
        "m = int(input())\n",
        "customer = list(map(int, input().split()))\n",
        "\n",
        "def binary_search(array, target, start, end):\n",
        "    while start <= end:\n",
        "        mid = (start + end) // 2\n",
        "        if array[mid] == target:\n",
        "            return mid\n",
        "        elif array[mid] > target:\n",
        "            end = mid - 1\n",
        "        else:\n",
        "            start = mid + 1\n",
        "    \n",
        "    return None\n",
        "for i in customer:\n",
        "    res = binary_search(store, i, 0, n-1)\n",
        "    if res != None:\n",
        "        print('yes', end = ' ')\n",
        "    else:\n",
        "        print('no', end = ' ')"
      ],
      "metadata": {
        "colab": {
          "base_uri": "https://localhost:8080/"
        },
        "id": "AMB9twoWYvb2",
        "outputId": "ed8de053-375c-4706-8d34-7a24b432bf12"
      },
      "execution_count": null,
      "outputs": [
        {
          "output_type": "stream",
          "name": "stdout",
          "text": [
            "5\n",
            "8 3 7 9 2\n",
            "3\n",
            "5 7 9\n",
            "no yes yes "
          ]
        }
      ]
    },
    {
      "cell_type": "markdown",
      "source": [
        "## 2. 떡볶이 떡 만들기"
      ],
      "metadata": {
        "id": "wfS7ukyVd0s2"
      }
    },
    {
      "cell_type": "code",
      "source": [
        "n, m = map(int, input().split())\n",
        "array = list(map(int, input().split()))\n",
        "\n",
        "def binary_search(array, target, start, end):\n",
        "    if start > end:\n",
        "        return None\n",
        "    mid = (start + end) // 2\n",
        "    tot = 0\n",
        "    for i in array:\n",
        "        if i > mid:\n",
        "            tot += (i - mid)\n",
        "    if tot == target:\n",
        "        return mid\n",
        "    elif tot > target:\n",
        "        return binary_search(array, target, mid + 1, end)\n",
        "    else:\n",
        "        return binary_search(array, target, start, mid - 1)\n",
        "\n",
        "binary_search(array, m, 0, max(array))"
      ],
      "metadata": {
        "id": "UCIWeJOud5D2",
        "colab": {
          "base_uri": "https://localhost:8080/"
        },
        "outputId": "5924dab5-dfe0-4a0d-8d6e-3857d370efa7"
      },
      "execution_count": 8,
      "outputs": [
        {
          "name": "stdout",
          "output_type": "stream",
          "text": [
            "4 6\n",
            "19 15 10 17\n"
          ]
        },
        {
          "output_type": "execute_result",
          "data": {
            "text/plain": [
              "15"
            ]
          },
          "metadata": {},
          "execution_count": 8
        }
      ]
    },
    {
      "cell_type": "markdown",
      "source": [
        "# 다이나믹 프로그래밍\n",
        "- 중복 연산 줄이기\n",
        "- 탑다운과 바텀업\n",
        "- 메모이제이션 "
      ],
      "metadata": {
        "id": "C-Nnt8ySX0oI"
      }
    },
    {
      "cell_type": "markdown",
      "source": [
        "## 1로 만들기"
      ],
      "metadata": {
        "id": "4-ePDYmPgftU"
      }
    },
    {
      "cell_type": "code",
      "source": [
        " x = int(input())\n",
        " d = [0] * 30001\n",
        "\n",
        " for i in range(2, x+1):\n",
        "     d[i] = d[i-1] + 1\n",
        "     if i % 2 == 0:\n",
        "         d[i] = min(d[i], d[i // 2] + 1)\n",
        "     if i % 3 == 0:\n",
        "        d[i] = min(d[i], d[i // 3] + 1)\n",
        "     if i % 5 == 0:\n",
        "         d[i] = min(d[i], d[i // 5] + 1)\n",
        "\n",
        "print(d[x])"
      ],
      "metadata": {
        "colab": {
          "base_uri": "https://localhost:8080/"
        },
        "id": "XX9DKR7_aveO",
        "outputId": "5599ff66-37d5-446a-80fb-970f6e08a5df"
      },
      "execution_count": 9,
      "outputs": [
        {
          "output_type": "stream",
          "name": "stdout",
          "text": [
            "26\n",
            "3\n"
          ]
        }
      ]
    },
    {
      "cell_type": "markdown",
      "source": [
        "## 2. 개미 전사"
      ],
      "metadata": {
        "id": "h-0A47oMi59L"
      }
    },
    {
      "cell_type": "code",
      "source": [
        "n = int(input())\n",
        "array = list(map(int, input().split()))\n",
        "\n",
        "d = [0] * 100\n",
        "d[0] = array[0]\n",
        "d[1] = max(array[0], array[1])\n",
        "for i in range(2, n):\n",
        "    d[i] = max(d[i-1], d[i-2] + array[i])\n",
        "print(d[n-1])"
      ],
      "metadata": {
        "colab": {
          "base_uri": "https://localhost:8080/"
        },
        "id": "5fU2fMo8i_Ko",
        "outputId": "e67ed78c-8b1c-45d1-9c94-7fbaecb06655"
      },
      "execution_count": 15,
      "outputs": [
        {
          "output_type": "stream",
          "name": "stdout",
          "text": [
            "4\n",
            "1 3 1 5\n",
            "8\n"
          ]
        }
      ]
    },
    {
      "cell_type": "markdown",
      "source": [
        "## 3. 바닥 공사"
      ],
      "metadata": {
        "id": "8tojZbs1khtk"
      }
    },
    {
      "cell_type": "code",
      "source": [
        "n = int(input())\n",
        "d = [0] * 1001\n",
        "d[1] = 1\n",
        "d[2] = 3\n",
        "for i in range(3, n+1):\n",
        "    d[i] = (d[i-1] + d[i-2] * 2) % 796796\n",
        "print(d[n])"
      ],
      "metadata": {
        "colab": {
          "base_uri": "https://localhost:8080/"
        },
        "id": "f9SnbCz-kjSS",
        "outputId": "6696df42-2d7a-4dfd-f1c7-66d1a8ed5730"
      },
      "execution_count": 16,
      "outputs": [
        {
          "output_type": "stream",
          "name": "stdout",
          "text": [
            "3\n",
            "5\n"
          ]
        }
      ]
    },
    {
      "cell_type": "markdown",
      "source": [
        "## 4. 효율적인 화폐 구성"
      ],
      "metadata": {
        "id": "fOl6HDl3nCJv"
      }
    },
    {
      "cell_type": "code",
      "source": [
        "n,m = map(int, input().split())\n",
        "array = []\n",
        "for i in range(n):\n",
        "    array.append(int(input()))\n",
        "d = [10001] * (m+1)\n",
        "d[0] = 0\n",
        "for i in range(n):\n",
        "    for j in range(array[i], m+1):\n",
        "        if d[j - array[i]] != 10001:\n",
        "            d[j] = min(d[j], d[j - array[i]] + 1)\n",
        "if d[m] == 10001:\n",
        "    print(-1)\n",
        "else:\n",
        "    print(d[m])"
      ],
      "metadata": {
        "colab": {
          "base_uri": "https://localhost:8080/"
        },
        "id": "TmEXO9OenFIk",
        "outputId": "c9103c3d-c9d8-4e81-80a7-fc75203a21ab"
      },
      "execution_count": 19,
      "outputs": [
        {
          "output_type": "stream",
          "name": "stdout",
          "text": [
            "3 4\n",
            "3\n",
            "5\n",
            "7\n",
            "-1\n"
          ]
        }
      ]
    },
    {
      "cell_type": "markdown",
      "source": [
        "# 최단 경로\n",
        "- "
      ],
      "metadata": {
        "id": "lBn1ZYeMX2z5"
      }
    },
    {
      "cell_type": "markdown",
      "source": [
        "# 그래프 이론"
      ],
      "metadata": {
        "id": "xA6z-0I1X4A6"
      }
    }
  ]
}