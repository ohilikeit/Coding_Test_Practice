{
  "nbformat": 4,
  "nbformat_minor": 0,
  "metadata": {
    "colab": {
      "provenance": [],
      "collapsed_sections": [
        "QMYLtGoNxShd",
        "SB_IGzyU8ZK8"
      ],
      "authorship_tag": "ABX9TyNOMltZ1hdHxV87LFOSdQb3",
      "include_colab_link": true
    },
    "kernelspec": {
      "name": "python3",
      "display_name": "Python 3"
    },
    "language_info": {
      "name": "python"
    }
  },
  "cells": [
    {
      "cell_type": "markdown",
      "metadata": {
        "id": "view-in-github",
        "colab_type": "text"
      },
      "source": [
        "<a href=\"https://colab.research.google.com/github/ohilikeit/Coding_Test_Practice/blob/main/%EC%9C%A0%ED%98%95%EB%B3%84_%EA%B8%B0%EC%B6%9C%EB%AC%B8%EC%A0%9C.ipynb\" target=\"_parent\"><img src=\"https://colab.research.google.com/assets/colab-badge.svg\" alt=\"Open In Colab\"/></a>"
      ]
    },
    {
      "cell_type": "markdown",
      "source": [
        "# 그리디"
      ],
      "metadata": {
        "id": "QMYLtGoNxShd"
      }
    },
    {
      "cell_type": "markdown",
      "source": [
        "## 1. 모험가 길드"
      ],
      "metadata": {
        "id": "fFJwvKuQxUkB"
      }
    },
    {
      "cell_type": "code",
      "execution_count": null,
      "metadata": {
        "colab": {
          "base_uri": "https://localhost:8080/"
        },
        "id": "teyxds3RxN9I",
        "outputId": "22f7250b-3819-4ccf-a5df-429b4b9d6784"
      },
      "outputs": [
        {
          "output_type": "stream",
          "name": "stdout",
          "text": [
            "2\n"
          ]
        }
      ],
      "source": [
        "n = int(input())\n",
        "lst = list(map(int, input().split()))\n",
        "lst.sort()\n",
        "cnt = 0\n",
        "while 1:\n",
        "    for _ in range(max(lst)):\n",
        "        lst.pop()\n",
        "    cnt += 1\n",
        "\n",
        "    if len(lst) == 0:\n",
        "        break\n",
        "\n",
        "    if max(lst) > len(lst):\n",
        "        break\n",
        "\n",
        "print(cnt)"
      ]
    },
    {
      "cell_type": "markdown",
      "source": [
        "## 2. 곱하기 혹은 더하기"
      ],
      "metadata": {
        "id": "neJU486j1oqP"
      }
    },
    {
      "cell_type": "code",
      "source": [
        "s = input()\n",
        "res = 0\n",
        "for i in s:\n",
        "    num = int(i)\n",
        "    if num == 0 or res == 0:\n",
        "        res += num\n",
        "    else:\n",
        "        res *= num\n",
        "print(res)"
      ],
      "metadata": {
        "colab": {
          "base_uri": "https://localhost:8080/"
        },
        "id": "4XHMgCR_1qtg",
        "outputId": "8c135775-3b70-4a2a-a972-447515bf8410"
      },
      "execution_count": null,
      "outputs": [
        {
          "output_type": "stream",
          "name": "stdout",
          "text": [
            "567\n",
            "210\n"
          ]
        }
      ]
    },
    {
      "cell_type": "markdown",
      "source": [
        "## 3. 문자열 뒤집기"
      ],
      "metadata": {
        "id": "wTSA--Y94G6t"
      }
    },
    {
      "cell_type": "code",
      "source": [
        "s = input()\n",
        "one = ''\n",
        "zero = ''\n",
        "one_cnt = 0\n",
        "zero_cnt = 0\n",
        "for i in range(1, len(s)):\n",
        "    if s[i] == \"1\":\n",
        "        one = s[i]\n",
        "        if one != s[i-1]:\n",
        "            one_cnt += 1\n",
        "    elif s[i] == \"0\":\n",
        "        zero = s[i]\n",
        "        if zero != s[i-1]:\n",
        "            zero_cnt += 1\n",
        "\n",
        "print(min(one_cnt, zero_cnt))"
      ],
      "metadata": {
        "colab": {
          "base_uri": "https://localhost:8080/"
        },
        "id": "ImCjtWvY4IYl",
        "outputId": "7420c53d-94b1-48bc-f00f-734f2dbe4e81"
      },
      "execution_count": null,
      "outputs": [
        {
          "output_type": "stream",
          "name": "stdout",
          "text": [
            "0001100\n",
            "1\n"
          ]
        }
      ]
    },
    {
      "cell_type": "markdown",
      "source": [
        "## 4. 만들 수 없는 금액"
      ],
      "metadata": {
        "id": "4O4bIRga8pQ7"
      }
    },
    {
      "cell_type": "code",
      "source": [
        "n = int(input())\n",
        "lst = list(map(int, input().split()))\n",
        "\n",
        "lst.sort()\n",
        "target = 1\n",
        "for x in lst:\n",
        "    if target < x:\n",
        "        break\n",
        "    target += x\n",
        "print(target)"
      ],
      "metadata": {
        "colab": {
          "base_uri": "https://localhost:8080/"
        },
        "id": "NiAG0vAH8rgU",
        "outputId": "d2bc9656-e874-49f9-c301-fcf918edb8f9"
      },
      "execution_count": null,
      "outputs": [
        {
          "output_type": "stream",
          "name": "stdout",
          "text": [
            "5\n",
            "3 2 1 1 9\n",
            "8\n"
          ]
        }
      ]
    },
    {
      "cell_type": "markdown",
      "source": [
        "## 5. 볼링공 고르기"
      ],
      "metadata": {
        "id": "-8ZFewYDMVZZ"
      }
    },
    {
      "cell_type": "code",
      "source": [
        "n, m = map(int, input().split())\n",
        "lst = list(map(int, input().split()))\n",
        "cnt = 0\n",
        "while lst:\n",
        "    idx = lst.pop(0)\n",
        "    for i in lst:\n",
        "        if i != idx:\n",
        "            cnt += 1\n",
        "print(cnt)"
      ],
      "metadata": {
        "colab": {
          "base_uri": "https://localhost:8080/"
        },
        "id": "wWa6jU-pMXG_",
        "outputId": "5860eb98-47f3-40e4-bcd8-c8caa255e910"
      },
      "execution_count": null,
      "outputs": [
        {
          "output_type": "stream",
          "name": "stdout",
          "text": [
            "8 5\n",
            "1 5 4 3 2 4 5 2\n",
            "25\n"
          ]
        }
      ]
    },
    {
      "cell_type": "markdown",
      "source": [
        "## 6. 무지의 먹방 라이브"
      ],
      "metadata": {
        "id": "HJlGRCjOTC8_"
      }
    },
    {
      "cell_type": "code",
      "source": [
        "import heapq\n",
        "\n",
        "def solution(food_times, k):\n",
        "    if sum(food_times) <= k:\n",
        "        return -1\n",
        "    \n",
        "    q = []\n",
        "    for i in range(len(food_times)):\n",
        "        heapq.heappush(q, (food_times[i], i+1))\n",
        "    \n",
        "    sum_val = 0       # 먹기 위해 사용한 시간\n",
        "    prev = 0          # 직전에 다 먹은 음식 시간\n",
        "    length = len(food_times) # 남은 음식의 개수 \n",
        "    \n",
        "    while sum_val + ((q[0][0] - prev) * length) <= k: # 앞에서 돌면서 젤 작은 숫자만큼 깐것을 반영해주기 \n",
        "        now = heapq.heappop(q)[0]                     # 위해 now - prev 해준것임. \n",
        "        sum_val += (now - prev) * length\n",
        "        length -= 1\n",
        "        prev = now\n",
        "    \n",
        "    result = sorted(q, key = lambda x: x[1])\n",
        "    \n",
        "    return result[(k - sum_val) % length][1]"
      ],
      "metadata": {
        "id": "zEWwrcl0TFa3"
      },
      "execution_count": null,
      "outputs": []
    },
    {
      "cell_type": "markdown",
      "source": [
        "# 구현"
      ],
      "metadata": {
        "id": "mLyYjii8QV13"
      }
    },
    {
      "cell_type": "markdown",
      "source": [
        "## 7. 럭키 스트레이트 "
      ],
      "metadata": {
        "id": "rk6PBZ7hQZ1h"
      }
    },
    {
      "cell_type": "code",
      "source": [
        "n = int(input())\n",
        "lst = []\n",
        "while 1:\n",
        "    a = n % 10\n",
        "    n //= 10\n",
        "    lst.append(a)\n",
        "    if n < 10:\n",
        "        lst.append(n)\n",
        "        break\n",
        "idx = int(len(lst) / 2)\n",
        "if sum(lst[:idx]) == sum(lst[idx:]):\n",
        "    print('LUCKY')\n",
        "else:\n",
        "    print('READY')"
      ],
      "metadata": {
        "colab": {
          "base_uri": "https://localhost:8080/"
        },
        "id": "LJVyHDfbTuQU",
        "outputId": "f133c746-a4a9-40c7-b819-cb6918981494"
      },
      "execution_count": 16,
      "outputs": [
        {
          "output_type": "stream",
          "name": "stdout",
          "text": [
            "7755\n",
            "READY\n"
          ]
        }
      ]
    },
    {
      "cell_type": "markdown",
      "source": [
        "## 8. 문자열 재정렬"
      ],
      "metadata": {
        "id": "AhDHsFRLUjvo"
      }
    },
    {
      "cell_type": "code",
      "source": [
        "s = input()\n",
        "txt = ''\n",
        "num = 0\n",
        "for i in s:\n",
        "    try:\n",
        "        i = int(i)\n",
        "        num += i\n",
        "    except:\n",
        "        txt += i\n",
        "\n",
        "res = ''.join(sorted(txt)) + str(num)\n",
        "print(res)"
      ],
      "metadata": {
        "colab": {
          "base_uri": "https://localhost:8080/"
        },
        "id": "l-UqXP0LUlQo",
        "outputId": "965c50e3-c855-46e1-d89f-a89f4686f611"
      },
      "execution_count": 33,
      "outputs": [
        {
          "output_type": "stream",
          "name": "stdout",
          "text": [
            "AJKDLSI412K4JSJ9D\n",
            "ADDIJJJKKLSS20\n"
          ]
        }
      ]
    },
    {
      "cell_type": "markdown",
      "source": [
        "## 9. 문자열 압축"
      ],
      "metadata": {
        "id": "BZZgCaZjXGnx"
      }
    },
    {
      "cell_type": "code",
      "source": [
        "def solution(s):\n",
        "    answer = len(s)\n",
        "    for step in range(1, len(s) // 2 + 1):\n",
        "        compress = \"\"\n",
        "        prev = s[0:step]\n",
        "        count = 1\n",
        "        for i in range(step, len(s), step):\n",
        "            if prev == s[i:i+step]:\n",
        "                count += 1\n",
        "            else:\n",
        "                compress += str(count) + prev if count >= 2 else prev\n",
        "                prev = s[i:i+step]\n",
        "                count = 1\n",
        "        compress += str(count) + prev if count >= 2 else prev\n",
        "        answer = min(answer, len(compress))\n",
        "        \n",
        "    return answer"
      ],
      "metadata": {
        "id": "qlp2J-82XIUd"
      },
      "execution_count": null,
      "outputs": []
    },
    {
      "cell_type": "markdown",
      "source": [
        "## 10. 자물쇠와 열쇠"
      ],
      "metadata": {
        "id": "nMa1v1ZXeXcr"
      }
    },
    {
      "cell_type": "code",
      "source": [
        "def rotate_90(a):\n",
        "    n = len(a)    # 행 길이 \n",
        "    m = len(a[0]) # 열 길이\n",
        "    res = [[0] * n for _ in range(m)]\n",
        "    for i in range(n):\n",
        "        for j in range(m):\n",
        "            res[j][n - i - 1] = a[i][j]\n",
        "    return res\n",
        "\n",
        "def check(new_lock):\n",
        "    lock_length = len(new_lock) // 3\n",
        "    for i in range(lock_length, lock_length * 2):\n",
        "        for j in range(lock_length, lock_length * 2):\n",
        "            if new_lock[i][j] != 1:\n",
        "                return False\n",
        "    return True\n",
        "\n",
        "    \n",
        "def solution(key, lock):\n",
        "    n = len(lock)\n",
        "    m = len(key)\n",
        "    # 사방으로 늘린 새로운 자물쇠 \n",
        "    new_lock = [[0] * (n*3) for _ in range(n * 3)]\n",
        "    \n",
        "    # 새로운 자물쇠 모양에 기존 자물쇠 넣기 \n",
        "    for i in range(n):\n",
        "        for j in range(n):\n",
        "            new_lock[i + n][j + n] = lock[i][j]\n",
        "            \n",
        "    # 4가지 방향에서 확인\n",
        "    for rotate in range(4):\n",
        "        key = rotate_90(key)\n",
        "        for x in range(n * 2):\n",
        "            for y in range(n * 2):\n",
        "                # 자물쇠 채워넣기 \n",
        "                for i in range(m):\n",
        "                    for j in range(m):\n",
        "                        new_lock[x + i][y + j] += key[i][j]\n",
        "                if check(new_lock) == True:\n",
        "                    return True\n",
        "                for i in range(m):\n",
        "                    for j in range(m):\n",
        "                        new_lock[x + i][y + j] -= key[i][j]\n",
        "\n",
        "    return False"
      ],
      "metadata": {
        "id": "-OETKYx3ebVI"
      },
      "execution_count": null,
      "outputs": []
    },
    {
      "cell_type": "markdown",
      "source": [
        "## 11. 뱀"
      ],
      "metadata": {
        "id": "vXnrIOf_wzPd"
      }
    },
    {
      "cell_type": "code",
      "source": [
        "n = int(input())\n",
        "k = int(input())\n",
        "\n",
        "# 게임판  \n",
        "data = [[0] * (n+1) for _ in range(n+1)]\n",
        "for _ in range(k):\n",
        "    a,b = map(int, input().split())\n",
        "    data[a][b] = 1   # 사과 있으면 1 아니면 0 \n",
        "L = int(input())\n",
        "\n",
        "# 전환 시점 및 방향 \n",
        "index = []\n",
        "for _ in range(L):\n",
        "    a, b = input().split()\n",
        "    index.append((int(a), b))\n",
        "\n",
        "# 동 남 서 북 \n",
        "dx = [0, 1, 0, -1]\n",
        "dy = [1, 0, -1, 0]\n",
        "\n",
        "def turn(direction, c):\n",
        "    if c == 'L':\n",
        "        direction -= 1\n",
        "        if direction < 0:\n",
        "            direction = 3\n",
        "    else:\n",
        "        direction += 1\n",
        "        if direction > 3:\n",
        "            direction = 0\n",
        "    return direction \n",
        "\n",
        "def simulation():\n",
        "    x, y = 1, 1     # 뱀 머리 위치 \n",
        "    data[x][y] = 2  # 뱀 존재 위치 \n",
        "    direction = 0   # 방향은 동쪽 시작 \n",
        "    time = 0        # 시간 \n",
        "    index = 0       # 방향변환 인덱스 \n",
        "    q = [(x,y)]     # 뱀이 차지하는 위치 정보\n",
        "    while True:\n",
        "        nx = x + dx[direction]\n",
        "        ny = y + dy[direction]\n",
        "        # 맵 안쪽에 있거나 이미 지나가서 2가 된 칸(자기 몸에 부딪히는 경우)이 아닐 경우 \n",
        "        if nx >= 1 and ny >= 1 and nx <= n and ny <= n and data[nx][ny] != 2:\n",
        "            # 사과가 없을 경우\n",
        "            if data[nx][ny] == 0:   \n",
        "                data[nx][ny] = 2   \n",
        "                q.append((nx, ny)) \n",
        "                px, py = q.pop(0)  # 꼬리부분 제거  \n",
        "                data[px][py] = 0   # 제거니깐 0으로 바꾸기 \n",
        "            # 사과가 있을 경우\n",
        "            if data[nx][ny] == 1: \n",
        "                data[nx][ny] = 2\n",
        "                q.append((nx, ny))\n",
        "        else:\n",
        "            time += 1\n",
        "            break\n",
        "        x, y = nx, ny\n",
        "        time += 1\n",
        "        if index < 1 and info[index][0] == time:\n",
        "            direction = turn(direction, info[index][1])\n",
        "            index += 1\n",
        "\n",
        "    return time \n",
        "\n",
        "print(simulation())"
      ],
      "metadata": {
        "colab": {
          "base_uri": "https://localhost:8080/"
        },
        "id": "cht8JR9OqRBy",
        "outputId": "28f002f5-53bf-44ef-b5c6-9ae6480e23a4"
      },
      "execution_count": 43,
      "outputs": [
        {
          "output_type": "stream",
          "name": "stdout",
          "text": [
            "6\n",
            "3\n",
            "3 4\n",
            "2 5\n",
            "5 3\n",
            "3\n",
            "3 D\n",
            "15 L\n",
            "17 D\n",
            "9\n"
          ]
        }
      ]
    },
    {
      "cell_type": "markdown",
      "source": [
        "## 12. 기둥과 보 설치"
      ],
      "metadata": {
        "id": "R5drjWTju9Wp"
      }
    },
    {
      "cell_type": "code",
      "source": [
        "def is_possible(answer):\n",
        "    for x, y, stuff in answer:\n",
        "        if stuff == 0: # 기둥 \n",
        "            # 바닥 위, 보의 한쪽 끝, 다른 기둥 위면 정상 \n",
        "            if y == 0 or [x-1, y, 1] in answer or [x, y, 1] in answer or [x, y-1, 0] in answer:\n",
        "                continue\n",
        "            return False\n",
        "        elif stuff == 1: # 보 \n",
        "            # 한쪽 끝부분이 기둥 위, 양쪽 끝부분이 다른 보와 동시 연결이면 정상\n",
        "            if [x, y-1, 0] in answer or [x+1, y-1, 0] in answer or ([x-1, y, 1] in answer and [x+1, y, 1] in answer):\n",
        "                continue\n",
        "            return False\n",
        "    return True\n",
        "\n",
        "\n",
        "def solution(n, build_frame):\n",
        "    answer = []\n",
        "    for frame in build_frame:\n",
        "        x, y, stuff, operate = frame\n",
        "        if operate == 0:\n",
        "            answer.remove([x, y, stuff])\n",
        "            if not is_possible(answer):\n",
        "                answer.append([x, y, stuff])\n",
        "        if operate == 1:\n",
        "            answer.append([x, y, stuff])\n",
        "            if not is_possible(answer):\n",
        "                answer.remove([x, y, stuff])\n",
        "    \n",
        "    return sorted(answer)"
      ],
      "metadata": {
        "id": "yxlIececu_tV"
      },
      "execution_count": 44,
      "outputs": []
    },
    {
      "cell_type": "markdown",
      "source": [
        "## 13. 치킨 배달"
      ],
      "metadata": {
        "id": "V-9B1GwH8RxA"
      }
    },
    {
      "cell_type": "code",
      "source": [],
      "metadata": {
        "id": "aNIjuvaH8TXk"
      },
      "execution_count": null,
      "outputs": []
    },
    {
      "cell_type": "markdown",
      "source": [
        "# DFS/BFS"
      ],
      "metadata": {
        "id": "CdyGGc9kQYBH"
      }
    },
    {
      "cell_type": "markdown",
      "source": [
        "# 기타 알고리즘"
      ],
      "metadata": {
        "id": "SB_IGzyU8ZK8"
      }
    },
    {
      "cell_type": "markdown",
      "source": [
        "## 1. 소수 구하기"
      ],
      "metadata": {
        "id": "6qbH6Y8M8eAw"
      }
    },
    {
      "cell_type": "code",
      "source": [
        "import math\n",
        "\n",
        "m, n = map(int, input().split())\n",
        "array = [True for i in range(1000001)]\n",
        "array[1] = 0\n",
        "\n",
        "# 에라토스테네스의 체\n",
        "for i in range(2, int(math.sqrt(n)) + 1):\n",
        "    if array[i] == True:\n",
        "        j = 2\n",
        "        while i * j <= n:\n",
        "            array[i*j] = False\n",
        "            j += 1\n",
        "\n",
        "for i in range(m, n+1):\n",
        "    if array[i]:\n",
        "        print(i)"
      ],
      "metadata": {
        "colab": {
          "base_uri": "https://localhost:8080/"
        },
        "id": "hSJ4Xw9S8auU",
        "outputId": "640bc007-3132-460e-8fe3-6999e3b19eba"
      },
      "execution_count": null,
      "outputs": [
        {
          "output_type": "stream",
          "name": "stdout",
          "text": [
            "3 16\n",
            "3\n",
            "5\n",
            "7\n",
            "11\n",
            "13\n"
          ]
        }
      ]
    },
    {
      "cell_type": "markdown",
      "source": [
        "## 2. 암호 만들기"
      ],
      "metadata": {
        "id": "sWhpLrID_Zz5"
      }
    },
    {
      "cell_type": "code",
      "source": [
        "from itertools import combinations\n",
        "\n",
        "l, c = map(int, input().split())\n",
        "array = list(input().split())\n",
        "array.sort()\n",
        "\n",
        "vowels = ('a', 'e', 'i', 'o', 'u')\n",
        "for password in combinations(array, l):\n",
        "    cnt = 0\n",
        "    for i in password:\n",
        "        if i in vowels:\n",
        "            cnt += 1\n",
        "    if cnt >= 1 and l - 2:\n",
        "        print(''.join(password))"
      ],
      "metadata": {
        "colab": {
          "base_uri": "https://localhost:8080/"
        },
        "id": "1BmH_-Fu_ccM",
        "outputId": "7e35c48b-4c36-4028-88e1-ae7e66fbacb3"
      },
      "execution_count": null,
      "outputs": [
        {
          "output_type": "stream",
          "name": "stdout",
          "text": [
            "4 6\n",
            "a t c i s w\n",
            "acis\n",
            "acit\n",
            "aciw\n",
            "acst\n",
            "acsw\n",
            "actw\n",
            "aist\n",
            "aisw\n",
            "aitw\n",
            "astw\n",
            "cist\n",
            "cisw\n",
            "citw\n",
            "istw\n"
          ]
        }
      ]
    }
  ]
}