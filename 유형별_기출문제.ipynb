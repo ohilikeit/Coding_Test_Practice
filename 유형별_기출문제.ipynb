{
  "nbformat": 4,
  "nbformat_minor": 0,
  "metadata": {
    "colab": {
      "provenance": [],
      "collapsed_sections": [
        "QMYLtGoNxShd",
        "mLyYjii8QV13",
        "SB_IGzyU8ZK8"
      ],
      "authorship_tag": "ABX9TyP7rmM/WUT3l4yy/ZNKETB7",
      "include_colab_link": true
    },
    "kernelspec": {
      "name": "python3",
      "display_name": "Python 3"
    },
    "language_info": {
      "name": "python"
    }
  },
  "cells": [
    {
      "cell_type": "markdown",
      "metadata": {
        "id": "view-in-github",
        "colab_type": "text"
      },
      "source": [
        "<a href=\"https://colab.research.google.com/github/ohilikeit/Coding_Test_Practice/blob/main/%EC%9C%A0%ED%98%95%EB%B3%84_%EA%B8%B0%EC%B6%9C%EB%AC%B8%EC%A0%9C.ipynb\" target=\"_parent\"><img src=\"https://colab.research.google.com/assets/colab-badge.svg\" alt=\"Open In Colab\"/></a>"
      ]
    },
    {
      "cell_type": "markdown",
      "source": [
        "# 그리디"
      ],
      "metadata": {
        "id": "QMYLtGoNxShd"
      }
    },
    {
      "cell_type": "markdown",
      "source": [
        "## 1. 모험가 길드"
      ],
      "metadata": {
        "id": "fFJwvKuQxUkB"
      }
    },
    {
      "cell_type": "code",
      "execution_count": null,
      "metadata": {
        "colab": {
          "base_uri": "https://localhost:8080/"
        },
        "id": "teyxds3RxN9I",
        "outputId": "22f7250b-3819-4ccf-a5df-429b4b9d6784"
      },
      "outputs": [
        {
          "output_type": "stream",
          "name": "stdout",
          "text": [
            "2\n"
          ]
        }
      ],
      "source": [
        "n = int(input())\n",
        "lst = list(map(int, input().split()))\n",
        "lst.sort()\n",
        "cnt = 0\n",
        "while 1:\n",
        "    for _ in range(max(lst)):\n",
        "        lst.pop()\n",
        "    cnt += 1\n",
        "\n",
        "    if len(lst) == 0:\n",
        "        break\n",
        "\n",
        "    if max(lst) > len(lst):\n",
        "        break\n",
        "\n",
        "print(cnt)"
      ]
    },
    {
      "cell_type": "markdown",
      "source": [
        "## 2. 곱하기 혹은 더하기"
      ],
      "metadata": {
        "id": "neJU486j1oqP"
      }
    },
    {
      "cell_type": "code",
      "source": [
        "s = input()\n",
        "res = 0\n",
        "for i in s:\n",
        "    num = int(i)\n",
        "    if num == 0 or res == 0:\n",
        "        res += num\n",
        "    else:\n",
        "        res *= num\n",
        "print(res)"
      ],
      "metadata": {
        "colab": {
          "base_uri": "https://localhost:8080/"
        },
        "id": "4XHMgCR_1qtg",
        "outputId": "8c135775-3b70-4a2a-a972-447515bf8410"
      },
      "execution_count": null,
      "outputs": [
        {
          "output_type": "stream",
          "name": "stdout",
          "text": [
            "567\n",
            "210\n"
          ]
        }
      ]
    },
    {
      "cell_type": "markdown",
      "source": [
        "## 3. 문자열 뒤집기"
      ],
      "metadata": {
        "id": "wTSA--Y94G6t"
      }
    },
    {
      "cell_type": "code",
      "source": [
        "s = input()\n",
        "one = ''\n",
        "zero = ''\n",
        "one_cnt = 0\n",
        "zero_cnt = 0\n",
        "for i in range(1, len(s)):\n",
        "    if s[i] == \"1\":\n",
        "        one = s[i]\n",
        "        if one != s[i-1]:\n",
        "            one_cnt += 1\n",
        "    elif s[i] == \"0\":\n",
        "        zero = s[i]\n",
        "        if zero != s[i-1]:\n",
        "            zero_cnt += 1\n",
        "\n",
        "print(min(one_cnt, zero_cnt))"
      ],
      "metadata": {
        "colab": {
          "base_uri": "https://localhost:8080/"
        },
        "id": "ImCjtWvY4IYl",
        "outputId": "7420c53d-94b1-48bc-f00f-734f2dbe4e81"
      },
      "execution_count": null,
      "outputs": [
        {
          "output_type": "stream",
          "name": "stdout",
          "text": [
            "0001100\n",
            "1\n"
          ]
        }
      ]
    },
    {
      "cell_type": "markdown",
      "source": [
        "## 4. 만들 수 없는 금액"
      ],
      "metadata": {
        "id": "4O4bIRga8pQ7"
      }
    },
    {
      "cell_type": "code",
      "source": [
        "n = int(input())\n",
        "lst = list(map(int, input().split()))\n",
        "\n",
        "lst.sort()\n",
        "target = 1\n",
        "for x in lst:\n",
        "    if target < x:\n",
        "        break\n",
        "    target += x\n",
        "print(target)"
      ],
      "metadata": {
        "colab": {
          "base_uri": "https://localhost:8080/"
        },
        "id": "NiAG0vAH8rgU",
        "outputId": "d2bc9656-e874-49f9-c301-fcf918edb8f9"
      },
      "execution_count": null,
      "outputs": [
        {
          "output_type": "stream",
          "name": "stdout",
          "text": [
            "5\n",
            "3 2 1 1 9\n",
            "8\n"
          ]
        }
      ]
    },
    {
      "cell_type": "markdown",
      "source": [
        "## 5. 볼링공 고르기"
      ],
      "metadata": {
        "id": "-8ZFewYDMVZZ"
      }
    },
    {
      "cell_type": "code",
      "source": [
        "n, m = map(int, input().split())\n",
        "lst = list(map(int, input().split()))\n",
        "cnt = 0\n",
        "while lst:\n",
        "    idx = lst.pop(0)\n",
        "    for i in lst:\n",
        "        if i != idx:\n",
        "            cnt += 1\n",
        "print(cnt)"
      ],
      "metadata": {
        "colab": {
          "base_uri": "https://localhost:8080/"
        },
        "id": "wWa6jU-pMXG_",
        "outputId": "5860eb98-47f3-40e4-bcd8-c8caa255e910"
      },
      "execution_count": null,
      "outputs": [
        {
          "output_type": "stream",
          "name": "stdout",
          "text": [
            "8 5\n",
            "1 5 4 3 2 4 5 2\n",
            "25\n"
          ]
        }
      ]
    },
    {
      "cell_type": "markdown",
      "source": [
        "## 6. 무지의 먹방 라이브"
      ],
      "metadata": {
        "id": "HJlGRCjOTC8_"
      }
    },
    {
      "cell_type": "code",
      "source": [
        "import heapq\n",
        "\n",
        "def solution(food_times, k):\n",
        "    if sum(food_times) <= k:\n",
        "        return -1\n",
        "    \n",
        "    q = []\n",
        "    for i in range(len(food_times)):\n",
        "        heapq.heappush(q, (food_times[i], i+1))\n",
        "    \n",
        "    sum_val = 0       # 먹기 위해 사용한 시간\n",
        "    prev = 0          # 직전에 다 먹은 음식 시간\n",
        "    length = len(food_times) # 남은 음식의 개수 \n",
        "    \n",
        "    while sum_val + ((q[0][0] - prev) * length) <= k: # 앞에서 돌면서 젤 작은 숫자만큼 깐것을 반영해주기 \n",
        "        now = heapq.heappop(q)[0]                     # 위해 now - prev 해준것임. \n",
        "        sum_val += (now - prev) * length\n",
        "        length -= 1\n",
        "        prev = now\n",
        "    \n",
        "    result = sorted(q, key = lambda x: x[1])\n",
        "    \n",
        "    return result[(k - sum_val) % length][1]"
      ],
      "metadata": {
        "id": "zEWwrcl0TFa3"
      },
      "execution_count": null,
      "outputs": []
    },
    {
      "cell_type": "markdown",
      "source": [
        "# 구현"
      ],
      "metadata": {
        "id": "mLyYjii8QV13"
      }
    },
    {
      "cell_type": "markdown",
      "source": [
        "## 7. 럭키 스트레이트 "
      ],
      "metadata": {
        "id": "rk6PBZ7hQZ1h"
      }
    },
    {
      "cell_type": "code",
      "source": [
        "n = int(input())\n",
        "lst = []\n",
        "while 1:\n",
        "    a = n % 10\n",
        "    n //= 10\n",
        "    lst.append(a)\n",
        "    if n < 10:\n",
        "        lst.append(n)\n",
        "        break\n",
        "idx = int(len(lst) / 2)\n",
        "if sum(lst[:idx]) == sum(lst[idx:]):\n",
        "    print('LUCKY')\n",
        "else:\n",
        "    print('READY')"
      ],
      "metadata": {
        "colab": {
          "base_uri": "https://localhost:8080/"
        },
        "id": "LJVyHDfbTuQU",
        "outputId": "f133c746-a4a9-40c7-b819-cb6918981494"
      },
      "execution_count": null,
      "outputs": [
        {
          "output_type": "stream",
          "name": "stdout",
          "text": [
            "7755\n",
            "READY\n"
          ]
        }
      ]
    },
    {
      "cell_type": "markdown",
      "source": [
        "## 8. 문자열 재정렬"
      ],
      "metadata": {
        "id": "AhDHsFRLUjvo"
      }
    },
    {
      "cell_type": "code",
      "source": [
        "s = input()\n",
        "txt = ''\n",
        "num = 0\n",
        "for i in s:\n",
        "    try:\n",
        "        i = int(i)\n",
        "        num += i\n",
        "    except:\n",
        "        txt += i\n",
        "\n",
        "res = ''.join(sorted(txt)) + str(num)\n",
        "print(res)"
      ],
      "metadata": {
        "colab": {
          "base_uri": "https://localhost:8080/"
        },
        "id": "l-UqXP0LUlQo",
        "outputId": "965c50e3-c855-46e1-d89f-a89f4686f611"
      },
      "execution_count": null,
      "outputs": [
        {
          "output_type": "stream",
          "name": "stdout",
          "text": [
            "AJKDLSI412K4JSJ9D\n",
            "ADDIJJJKKLSS20\n"
          ]
        }
      ]
    },
    {
      "cell_type": "markdown",
      "source": [
        "## 9. 문자열 압축"
      ],
      "metadata": {
        "id": "BZZgCaZjXGnx"
      }
    },
    {
      "cell_type": "code",
      "source": [
        "def solution(s):\n",
        "    answer = len(s)\n",
        "    for step in range(1, len(s) // 2 + 1):\n",
        "        compress = \"\"\n",
        "        prev = s[0:step]\n",
        "        count = 1\n",
        "        for i in range(step, len(s), step):\n",
        "            if prev == s[i:i+step]:\n",
        "                count += 1\n",
        "            else:\n",
        "                compress += str(count) + prev if count >= 2 else prev\n",
        "                prev = s[i:i+step]\n",
        "                count = 1\n",
        "        compress += str(count) + prev if count >= 2 else prev\n",
        "        answer = min(answer, len(compress))\n",
        "        \n",
        "    return answer"
      ],
      "metadata": {
        "id": "qlp2J-82XIUd"
      },
      "execution_count": null,
      "outputs": []
    },
    {
      "cell_type": "markdown",
      "source": [
        "## 10. 자물쇠와 열쇠"
      ],
      "metadata": {
        "id": "nMa1v1ZXeXcr"
      }
    },
    {
      "cell_type": "code",
      "source": [
        "def rotate_90(a):\n",
        "    n = len(a)    # 행 길이 \n",
        "    m = len(a[0]) # 열 길이\n",
        "    res = [[0] * n for _ in range(m)]\n",
        "    for i in range(n):\n",
        "        for j in range(m):\n",
        "            res[j][n - i - 1] = a[i][j]\n",
        "    return res\n",
        "\n",
        "def check(new_lock):\n",
        "    lock_length = len(new_lock) // 3\n",
        "    for i in range(lock_length, lock_length * 2):\n",
        "        for j in range(lock_length, lock_length * 2):\n",
        "            if new_lock[i][j] != 1:\n",
        "                return False\n",
        "    return True\n",
        "\n",
        "    \n",
        "def solution(key, lock):\n",
        "    n = len(lock)\n",
        "    m = len(key)\n",
        "    # 사방으로 늘린 새로운 자물쇠 \n",
        "    new_lock = [[0] * (n*3) for _ in range(n * 3)]\n",
        "    \n",
        "    # 새로운 자물쇠 모양에 기존 자물쇠 넣기 \n",
        "    for i in range(n):\n",
        "        for j in range(n):\n",
        "            new_lock[i + n][j + n] = lock[i][j]\n",
        "            \n",
        "    # 4가지 방향에서 확인\n",
        "    for rotate in range(4):\n",
        "        key = rotate_90(key)\n",
        "        for x in range(n * 2):\n",
        "            for y in range(n * 2):\n",
        "                # 자물쇠 채워넣기 \n",
        "                for i in range(m):\n",
        "                    for j in range(m):\n",
        "                        new_lock[x + i][y + j] += key[i][j]\n",
        "                if check(new_lock) == True:\n",
        "                    return True\n",
        "                for i in range(m):\n",
        "                    for j in range(m):\n",
        "                        new_lock[x + i][y + j] -= key[i][j]\n",
        "\n",
        "    return False"
      ],
      "metadata": {
        "id": "-OETKYx3ebVI"
      },
      "execution_count": null,
      "outputs": []
    },
    {
      "cell_type": "markdown",
      "source": [
        "## 11. 뱀"
      ],
      "metadata": {
        "id": "vXnrIOf_wzPd"
      }
    },
    {
      "cell_type": "code",
      "source": [
        "n = int(input())\n",
        "k = int(input())\n",
        "\n",
        "# 게임판  \n",
        "data = [[0] * (n+1) for _ in range(n+1)]\n",
        "for _ in range(k):\n",
        "    a,b = map(int, input().split())\n",
        "    data[a][b] = 1   # 사과 있으면 1 아니면 0 \n",
        "L = int(input())\n",
        "\n",
        "# 전환 시점 및 방향 \n",
        "index = []\n",
        "for _ in range(L):\n",
        "    a, b = input().split()\n",
        "    index.append((int(a), b))\n",
        "\n",
        "# 동 남 서 북 \n",
        "dx = [0, 1, 0, -1]\n",
        "dy = [1, 0, -1, 0]\n",
        "\n",
        "def turn(direction, c):\n",
        "    if c == 'L':\n",
        "        direction -= 1\n",
        "        if direction < 0:\n",
        "            direction = 3\n",
        "    else:\n",
        "        direction += 1\n",
        "        if direction > 3:\n",
        "            direction = 0\n",
        "    return direction \n",
        "\n",
        "def simulation():\n",
        "    x, y = 1, 1     # 뱀 머리 위치 \n",
        "    data[x][y] = 2  # 뱀 존재 위치 \n",
        "    direction = 0   # 방향은 동쪽 시작 \n",
        "    time = 0        # 시간 \n",
        "    index = 0       # 방향변환 인덱스 \n",
        "    q = [(x,y)]     # 뱀이 차지하는 위치 정보\n",
        "    while True:\n",
        "        nx = x + dx[direction]\n",
        "        ny = y + dy[direction]\n",
        "        # 맵 안쪽에 있거나 이미 지나가서 2가 된 칸(자기 몸에 부딪히는 경우)이 아닐 경우 \n",
        "        if nx >= 1 and ny >= 1 and nx <= n and ny <= n and data[nx][ny] != 2:\n",
        "            # 사과가 없을 경우\n",
        "            if data[nx][ny] == 0:   \n",
        "                data[nx][ny] = 2   \n",
        "                q.append((nx, ny)) \n",
        "                px, py = q.pop(0)  # 꼬리부분 제거  \n",
        "                data[px][py] = 0   # 제거니깐 0으로 바꾸기 \n",
        "            # 사과가 있을 경우\n",
        "            if data[nx][ny] == 1: \n",
        "                data[nx][ny] = 2\n",
        "                q.append((nx, ny))\n",
        "        else:\n",
        "            time += 1\n",
        "            break\n",
        "        x, y = nx, ny\n",
        "        time += 1\n",
        "        if index < 1 and info[index][0] == time:\n",
        "            direction = turn(direction, info[index][1])\n",
        "            index += 1\n",
        "\n",
        "    return time \n",
        "\n",
        "print(simulation())"
      ],
      "metadata": {
        "colab": {
          "base_uri": "https://localhost:8080/"
        },
        "id": "cht8JR9OqRBy",
        "outputId": "28f002f5-53bf-44ef-b5c6-9ae6480e23a4"
      },
      "execution_count": null,
      "outputs": [
        {
          "output_type": "stream",
          "name": "stdout",
          "text": [
            "6\n",
            "3\n",
            "3 4\n",
            "2 5\n",
            "5 3\n",
            "3\n",
            "3 D\n",
            "15 L\n",
            "17 D\n",
            "9\n"
          ]
        }
      ]
    },
    {
      "cell_type": "markdown",
      "source": [
        "## 12. 기둥과 보 설치"
      ],
      "metadata": {
        "id": "R5drjWTju9Wp"
      }
    },
    {
      "cell_type": "code",
      "source": [
        "def is_possible(answer):\n",
        "    for x, y, stuff in answer:\n",
        "        if stuff == 0: # 기둥 \n",
        "            # 바닥 위, 보의 한쪽 끝, 다른 기둥 위면 정상 \n",
        "            if y == 0 or [x-1, y, 1] in answer or [x, y, 1] in answer or [x, y-1, 0] in answer:\n",
        "                continue\n",
        "            return False\n",
        "        elif stuff == 1: # 보 \n",
        "            # 한쪽 끝부분이 기둥 위, 양쪽 끝부분이 다른 보와 동시 연결이면 정상\n",
        "            if [x, y-1, 0] in answer or [x+1, y-1, 0] in answer or ([x-1, y, 1] in answer and [x+1, y, 1] in answer):\n",
        "                continue\n",
        "            return False\n",
        "    return True\n",
        "\n",
        "\n",
        "def solution(n, build_frame):\n",
        "    answer = []\n",
        "    for frame in build_frame:\n",
        "        x, y, stuff, operate = frame\n",
        "        if operate == 0:\n",
        "            answer.remove([x, y, stuff])\n",
        "            if not is_possible(answer):\n",
        "                answer.append([x, y, stuff])\n",
        "        if operate == 1:\n",
        "            answer.append([x, y, stuff])\n",
        "            if not is_possible(answer):\n",
        "                answer.remove([x, y, stuff])\n",
        "    \n",
        "    return sorted(answer)"
      ],
      "metadata": {
        "id": "yxlIececu_tV"
      },
      "execution_count": null,
      "outputs": []
    },
    {
      "cell_type": "markdown",
      "source": [
        "## 13. 치킨 배달"
      ],
      "metadata": {
        "id": "V-9B1GwH8RxA"
      }
    },
    {
      "cell_type": "code",
      "source": [
        "from itertools import combinations\n",
        "\n",
        "n, m = map(int, input().split())\n",
        "array = []\n",
        "for _ in range(1, n+1):\n",
        "    array.append(list(map(int, input().split())))\n",
        "chicken = []\n",
        "house = []\n",
        "for i in range(n):\n",
        "    for j in range(n):\n",
        "        if array[i][j] == 2:\n",
        "            chicken.append((i, j))\n",
        "        elif array[i][j] == 1:\n",
        "            house.append((i, j))\n",
        "\n",
        "def calc_chicken_dist(array):\n",
        "    answer = []\n",
        "    # 새롭게 최대 m개 선택한 치킨집 조합\n",
        "    new_chicken_list = list(combinations(chicken, m))\n",
        "\n",
        "    # 각 조합마다 최소 거리를 측정 \n",
        "    for new_chicken in new_chicken_list:\n",
        "        # 폐업된 치킨집들은 0으로 대체\n",
        "        for i in range(n):\n",
        "            for j in range(n):\n",
        "                if array[i][j] == 2 and (i, j) not in new_chicken:\n",
        "                    array[i][j] = 0\n",
        "        \n",
        "        # 집마다 치킨 거리 일일히 재서 가장 짧은 거리 가져오고 최단 치킨거리 구하기 \n",
        "        res = 0\n",
        "        for i in range(n):\n",
        "            for j in range(n):\n",
        "                # 집이라면 \n",
        "                if array[i][j] == 1:\n",
        "                    temp = 1e9\n",
        "                    for x, y in new_chicken:\n",
        "                        temp = min(temp, abs(i - x) + abs(j - y))\n",
        "                    res += temp\n",
        "\n",
        "        answer.append(res)\n",
        "\n",
        "    return min(answer)\n",
        "\n",
        "print(calc_chicken_dist(array))"
      ],
      "metadata": {
        "id": "aNIjuvaH8TXk",
        "colab": {
          "base_uri": "https://localhost:8080/"
        },
        "outputId": "574bc693-da19-40e7-c205-57a16d86e386"
      },
      "execution_count": null,
      "outputs": [
        {
          "output_type": "stream",
          "name": "stdout",
          "text": [
            "5 2\n",
            "0 2 0 1 0\n",
            "1 0 1 0 0\n",
            "0 0 0 0 0\n",
            "2 0 0 1 1\n",
            "2 2 0 1 2\n",
            "10\n"
          ]
        }
      ]
    },
    {
      "cell_type": "markdown",
      "source": [
        "## 14. 외벽 점검"
      ],
      "metadata": {
        "id": "0atKW7mFy3Pi"
      }
    },
    {
      "cell_type": "code",
      "source": [
        "from itertools import permutations\n",
        "\n",
        "def solution(n, weak, dist):\n",
        "    length = len(weak)\n",
        "    for i in range(length):\n",
        "        weak.append(weak[i] + n)\n",
        "    answer = len(weak) + 1\n",
        "    for start in range(length):\n",
        "        for friends in list(permutations(dist, len(dist))):\n",
        "            cnt = 1\n",
        "            position = weak[start] + friends[cnt - 1]\n",
        "            # 시작 지점부터 모든 취약지점 확인\n",
        "            for idx in range(start, start + length):\n",
        "                if position < weak[idx]:\n",
        "                    cnt += 1\n",
        "                    if cnt > len(dist):\n",
        "                        break\n",
        "                    position = weak[idx] + friends[cnt - 1]\n",
        "            answer = min(answer, cnt)\n",
        "    if answer > len(dist):\n",
        "        return -1\n",
        "    return answer"
      ],
      "metadata": {
        "id": "Xun8ha67y45b"
      },
      "execution_count": null,
      "outputs": []
    },
    {
      "cell_type": "markdown",
      "source": [
        "# DFS/BFS"
      ],
      "metadata": {
        "id": "CdyGGc9kQYBH"
      }
    },
    {
      "cell_type": "markdown",
      "source": [
        "## 15. 특정 거리의 도시 찾기\n",
        "- 모든 도로의 거리는 1이라는 조건 덕분에 너비 우선 탐색을 이용해 간단히 해결 가능"
      ],
      "metadata": {
        "id": "Scbmmu69CN3R"
      }
    },
    {
      "cell_type": "code",
      "source": [
        "from collections import deque\n",
        "\n",
        "n, m, k, x = map(int, input().split())\n",
        "graph = [[] for _ in range(n+1)]\n",
        "for _ in range(m):\n",
        "    a, b = map(int, input().split())\n",
        "    graph[a].append(b)\n",
        "\n",
        "distance = [-1] * (n + 1)\n",
        "distance[x] = 0\n",
        "q = deque([x])\n",
        "while q:\n",
        "    now = q.popleft()\n",
        "    for i in graph[now]:\n",
        "        if distance[i] == - 1:\n",
        "            distance[i] = distance[now] + 1\n",
        "            q.append(i)\n",
        "check = False\n",
        "for i in range(1, n+1):\n",
        "    if distance[i] == k:\n",
        "        print(i)\n",
        "        check = True\n",
        "if check == False:\n",
        "    print(-1)"
      ],
      "metadata": {
        "colab": {
          "base_uri": "https://localhost:8080/"
        },
        "id": "lZhzRrjvCQpB",
        "outputId": "a5432885-bd68-433b-91fc-726f5adb152f"
      },
      "execution_count": null,
      "outputs": [
        {
          "output_type": "stream",
          "name": "stdout",
          "text": [
            "4 4 1 1\n",
            "1 2\n",
            "1 3\n",
            "2 3\n",
            "2 4\n",
            "2\n",
            "3\n"
          ]
        }
      ]
    },
    {
      "cell_type": "markdown",
      "source": [
        "## 16. 연구소"
      ],
      "metadata": {
        "id": "oJV1BBLNIlmQ"
      }
    },
    {
      "cell_type": "code",
      "source": [
        "n, m = map(int, input().split())\n",
        "data = []\n",
        "temp = [[0] * m for _ in range(n)] # 벽 설치한 뒤 맵 리스트 \n",
        "\n",
        "for _ in range(n):\n",
        "    data.append(list(map(int, input().split())))\n",
        "\n",
        "# 북 동 남 서 \n",
        "dx = [-1, 0, 1, 0]\n",
        "dy = [0, 1, 0, -1]\n",
        "\n",
        "result = 0\n",
        "# 바이러스 위치에서 퍼지게 하기 \n",
        "def virus(x, y):\n",
        "    for i in range(4):\n",
        "        nx = x + dx[i]\n",
        "        ny = y + dy[i]\n",
        "        if nx >= 0 and nx < n and ny >= 0 and ny < m:\n",
        "            if temp[nx][ny] == 0:\n",
        "                temp[nx][ny] = 2\n",
        "                virus(nx, ny)\n",
        "\n",
        "# 안전 영역 크기 계산\n",
        "def get_score():\n",
        "    score = 0\n",
        "    for i in range(n):\n",
        "        for j in range(m):\n",
        "            if temp[i][j] == 0:\n",
        "                score += 1\n",
        "    return score\n",
        "\n",
        "# DFS 이용 울타리 설치하면서 매번 안전 영역 크기 계산\n",
        "def dfs(count):\n",
        "    global result\n",
        "\n",
        "    # 울타리 3개 설치되면 \n",
        "    if count == 3:\n",
        "        for i in range(n):\n",
        "            for j in range(m):\n",
        "                temp[i][j] = data[i][j]\n",
        "        for i in range(n):\n",
        "            for j in range(m):\n",
        "                if temp[i][j] == 2:\n",
        "                    virus(i, j)\n",
        "        result = max(result, get_score())\n",
        "        return \n",
        "\n",
        "    # 빈 공간에 울타리 설치 \n",
        "    for i in range(n):\n",
        "        for j in range(m):\n",
        "            if data[i][j] == 0:\n",
        "                data[i][j] = 1\n",
        "                count += 1\n",
        "                dfs(count)\n",
        "                data[i][j] = 0\n",
        "                count -= 1\n",
        "dfs(0)\n",
        "print(result)"
      ],
      "metadata": {
        "colab": {
          "base_uri": "https://localhost:8080/"
        },
        "id": "r7IOllP3Im-I",
        "outputId": "cfe2dcde-ac47-4310-dc7e-1fd3c3c00ea3"
      },
      "execution_count": null,
      "outputs": [
        {
          "output_type": "stream",
          "name": "stdout",
          "text": [
            "23\n"
          ]
        }
      ]
    },
    {
      "cell_type": "markdown",
      "source": [
        "## 17. 경쟁적 전염\n",
        "- 번호가 낮은 바이러스부터 증식하니깐 오름차순 정렬 후 큐에 넣기\n",
        "- 큐에서 1에서 k까지 한번씩 돌면 그 다음 1 부터 k까지 돌기때문에 가능"
      ],
      "metadata": {
        "id": "lmIpNPqTPby6"
      }
    },
    {
      "cell_type": "code",
      "source": [
        "from collections import deque \n",
        "\n",
        "n, k = map(int, input().split())\n",
        "graph = []   # 전체 정보\n",
        "data = []    # 바이러스 정보\n",
        "\n",
        "for i in range(n):\n",
        "    graph.append(list(map(int, input().split())))\n",
        "    for j in range(n):\n",
        "        if graph[i][j] != 0:\n",
        "            data.append((graph[i][j], 0, i, j)) # 바이러스 종류, 시간, x, y\n",
        "\n",
        "data.sort()\n",
        "q = deque(data)\n",
        "\n",
        "target_s, target_x, target_y = map(int, input().split())\n",
        "# 방향 북 동 남 서\n",
        "dx = [-1, 0, 1, 0]\n",
        "dy = [0, 1, 0, -1]\n",
        "\n",
        "while q:\n",
        "    virus, s, x, y = q.popleft()\n",
        "    if s == target_s:\n",
        "        break\n",
        "    for i in range(4):\n",
        "        nx = x + dx[i]\n",
        "        ny = y + dy[i]\n",
        "        if nx >= 0 and ny >= 0 and nx < n and ny < n:\n",
        "            if graph[nx][ny] == 0:\n",
        "                graph[nx][ny] = virus\n",
        "                q.append((virus, s + 1, nx, ny))\n",
        "\n",
        "print(graph[target_x-1][target_y-1])"
      ],
      "metadata": {
        "colab": {
          "base_uri": "https://localhost:8080/"
        },
        "id": "499zehLNXLGg",
        "outputId": "3e7f66c4-b315-457a-8f29-2029427f7135"
      },
      "execution_count": null,
      "outputs": [
        {
          "output_type": "stream",
          "name": "stdout",
          "text": [
            "3 3\n",
            "1 0 2\n",
            "0 0 0\n",
            "3 0 0\n",
            "2 3 2\n",
            "3\n"
          ]
        }
      ]
    },
    {
      "cell_type": "code",
      "source": [
        "from collections import deque\n",
        "n, k = map(int, input().split())\n",
        "graph = []\n",
        "data = []\n",
        "for i in range(n):\n",
        "    graph.append(list(map(int, input().split())))\n",
        "    for j in range(n):\n",
        "        if graph[i][j] != 0:\n",
        "            data.append((graph[i][j], 0, i, j))\n",
        "\n",
        "data.sort()\n",
        "q = deque(data)\n",
        "dx = [-1, 0, 1, 0]\n",
        "dy = [0, 1, 0, -1]\n",
        "\n",
        "S, X, Y = map(int, input().split())\n",
        "while q:\n",
        "    virus, time, x, y = q.popleft()\n",
        "    if time == S:\n",
        "        break\n",
        "    for i in range(4):\n",
        "        nx = x + dx[i]\n",
        "        ny = y + dy[i]\n",
        "        if nx >= 0 and ny >= 0 and nx < n and ny < n:\n",
        "            if graph[nx][ny] == 0:\n",
        "                graph[nx][ny] = virus\n",
        "                q.append((virus, time + 1, nx, ny))\n",
        "\n",
        "print(graph[X-1][Y-1])"
      ],
      "metadata": {
        "colab": {
          "base_uri": "https://localhost:8080/"
        },
        "id": "Lybpx3tScCGX",
        "outputId": "f9edd6a2-bd82-4768-8104-c4fa816572fa"
      },
      "execution_count": null,
      "outputs": [
        {
          "output_type": "stream",
          "name": "stdout",
          "text": [
            "3 3\n",
            "1 0 2\n",
            "0 0 0\n",
            "3 0 0\n",
            "1 2 2\n",
            "0\n"
          ]
        }
      ]
    },
    {
      "cell_type": "markdown",
      "source": [
        "## 18. 괄호 변환"
      ],
      "metadata": {
        "id": "Viva8Eqwdduw"
      }
    },
    {
      "cell_type": "code",
      "source": [
        "# 균형잡혀 있는가?\n",
        "def balanced_index(p):\n",
        "    cnt = 0\n",
        "    for i in range(len(p)):\n",
        "        if p[i] == '(':\n",
        "            cnt += 1\n",
        "        if p[i] == ')':\n",
        "            cnt -= 1\n",
        "        if cnt == 0:\n",
        "            return i\n",
        "\n",
        "# 올바른가?\n",
        "def right_txt(p):\n",
        "    cnt = 0\n",
        "    for i in p:\n",
        "        if i == '(':\n",
        "            cnt += 1\n",
        "        else: \n",
        "            if cnt == 0:  # 쌍이 맞지 않는 경우 \n",
        "                return False\n",
        "            cnt -= 1\n",
        "    return True   # 쌍이 맞는 경우 \n",
        "\n",
        "\n",
        "def solution(p):\n",
        "    if len(p) == 0:\n",
        "        return \"\"\n",
        "    idx = balanced_index(p)\n",
        "    u = p[:idx + 1]\n",
        "    v = p[idx+1:]\n",
        "    \n",
        "    if right_txt(u):\n",
        "        new_v = solution(v)\n",
        "        u += new_v\n",
        "        return u\n",
        "    \n",
        "    if not right_txt(u):\n",
        "        res = ''\n",
        "        res += '('\n",
        "        res += solution(v)\n",
        "        res += ')'\n",
        "        for i in u[1:-1]:\n",
        "            if i == '(':\n",
        "                res += ')'\n",
        "            elif i == ')':\n",
        "                res += '('\n",
        "\n",
        "        return res"
      ],
      "metadata": {
        "id": "oxBNbiIwdfEh"
      },
      "execution_count": null,
      "outputs": []
    },
    {
      "cell_type": "markdown",
      "source": [
        "## 19. 연산자 끼워 넣기"
      ],
      "metadata": {
        "id": "-aU4qPZRi_uh"
      }
    },
    {
      "cell_type": "code",
      "source": [
        "n = int(input())\n",
        "lst = list(map(int, input().split()))\n",
        "add, minus, multi, div = map(int, input().split())\n",
        "\n",
        "min_val = 1e9\n",
        "max_val = -1e9\n",
        "\n",
        "def dfs(i, now):\n",
        "    global min_val, max_val, add, minus, multi, div\n",
        "    if i == n:\n",
        "        min_val = min(min_val, now)\n",
        "        max_val = max(max_val, now)\n",
        "    else:\n",
        "        if add > 0:\n",
        "            add -= 1\n",
        "            dfs(i + 1, now + lst[i])\n",
        "            add += 1\n",
        "\n",
        "        if minus > 0:\n",
        "            minus -= 1\n",
        "            dfs(i + 1, now - lst[i])\n",
        "            minus += 1\n",
        "\n",
        "        if multi > 0:\n",
        "            multi -= 1\n",
        "            dfs(i + 1, now * lst[i])\n",
        "            multi += 1\n",
        "\n",
        "        if div > 0:\n",
        "            div -= 1\n",
        "            dfs(i + 1, int(now / lst[i]))\n",
        "            div += 1\n",
        "\n",
        "dfs(1, lst[0])\n",
        "print(max_val)\n",
        "print(min_val)"
      ],
      "metadata": {
        "colab": {
          "base_uri": "https://localhost:8080/"
        },
        "id": "r_J8PmKQrvzS",
        "outputId": "c37d2ab8-c949-4006-ecc3-d2b612b0e3ec"
      },
      "execution_count": null,
      "outputs": [
        {
          "output_type": "stream",
          "name": "stdout",
          "text": [
            "3\n",
            "3 4 5\n",
            "1 0 1 0\n",
            "35\n",
            "17\n"
          ]
        }
      ]
    },
    {
      "cell_type": "markdown",
      "source": [
        "## 20. 감시 피하기 "
      ],
      "metadata": {
        "id": "mfBFmeazrtuJ"
      }
    },
    {
      "cell_type": "code",
      "source": [
        "n = int(input())\n",
        "graph = []  # 기본 맵 \n",
        "temp = []   # 장애물 설치 뒤 맵 \n",
        "for _ in range(n):\n",
        "    graph.append(list(input().split()))\n",
        "\n",
        "dx = [-1, 0, 1, 0]\n",
        "dy = [0, -1, 0, 1]\n",
        "\n",
        "\n",
        "def check(x, y, a):\n",
        "    nx = x + dx[i]\n",
        "    ny = y + dy[i]\n",
        "    if nx >= 0 and ny >= 0 and nx < n and ny < n:\n",
        "        if graph[nx][ny] == \"X\":\n",
        "            check(nx, ny, a)\n",
        "        if graph[nx][ny] == \"S\":\n",
        "            return False\n",
        "\n",
        "        return True\n",
        "\n",
        "def dfs(cnt):\n",
        "    res = ''\n",
        "    # 장애물 3개 설치되면 확인해보기 \n",
        "    if cnt == 3:\n",
        "        for i in range(n):\n",
        "            for j in range(n):\n",
        "                # 선생님 칸에서 사방으로 퍼져가며 확인하기 \n",
        "                if graph[i][j] == 'T':\n",
        "                    result = []\n",
        "                    for a in range(4):\n",
        "                        result.append(check(i, j, a))\n",
        "                    if result == [True,True,True,True]:\n",
        "                        res += 'YES'\n",
        "        res += 'NO'\n",
        "        return res\n",
        "\n",
        "    # 장애물 설치\n",
        "    for i in range(n):\n",
        "        for j in range(n):\n",
        "            if graph[i][j] == 'X':\n",
        "                graph[i][j] = 'O'\n",
        "                cnt += 1\n",
        "                dfs(cnt)\n",
        "                graph[i][j] = 'X'\n",
        "                cnt -= 1"
      ],
      "metadata": {
        "id": "pP-fzo4GrvQ7"
      },
      "execution_count": null,
      "outputs": []
    },
    {
      "cell_type": "markdown",
      "source": [
        "## 21. 인구 이동"
      ],
      "metadata": {
        "id": "KOf-lBo718JG"
      }
    },
    {
      "cell_type": "code",
      "source": [
        "from collections import deque\n",
        "\n",
        "N, L, R = map(int, input().split())\n",
        "graph = []  # 인구수 그래프\n",
        "for _ in range(N):\n",
        "    graph.append(list(map(int, input().split())))\n",
        "\n",
        "dx = [-1, 0, 1, 0]\n",
        "dy = [0, -1, 0, 1]\n",
        "\n",
        "# 특정 위치서 출발하여 모든 연합 체크 후 데이터갱신\n",
        "def process(x, y, index):\n",
        "    united = []\n",
        "    united.append((x,y))\n",
        "\n",
        "    q = deque()\n",
        "    q.append((x,y))\n",
        "    union[x][y] = index     # 현재 연합의 번호\n",
        "    summary = graph[x][y]   # 현재 연합의 전체 인구수\n",
        "    count = 1\n",
        "\n",
        "    while q:\n",
        "        x, y = q.popleft()\n",
        "        for i in range(4):\n",
        "            nx = x + dx[i]\n",
        "            ny = y + dy[i]\n",
        "            if nx >= 0 and ny >= 0 and nx < N and ny < N and union[nx][ny] == -1:\n",
        "                if L <= abs(graph[nx][ny] - graph[x][y]) <= R:\n",
        "                    q.append((nx, ny))\n",
        "                    union[nx][ny] = index\n",
        "                    summary += graph[nx][ny]\n",
        "                    count += 1\n",
        "                    united.append((nx, ny))\n",
        "\n",
        "    # 연합 국가끼리 인구 분배\n",
        "    for i, j in united:\n",
        "        graph[i][j] = summary // count\n",
        "\n",
        "    return count\n",
        "\n",
        "total_count = 0\n",
        "while True:\n",
        "    union = [[-1] * N for _ in range(N)]\n",
        "    index = 0\n",
        "    for i in range(N):\n",
        "        for j in range(N):\n",
        "            if union[i][j] == -1:\n",
        "                process(i, j, index)\n",
        "                index += 1\n",
        "    if index == N*N:\n",
        "        break\n",
        "    total_count += 1\n",
        "\n",
        "print(total_count)"
      ],
      "metadata": {
        "id": "1hFIsRc919dZ",
        "colab": {
          "base_uri": "https://localhost:8080/"
        },
        "outputId": "9fe832c4-dd02-4000-aa2b-c78b97152bfb"
      },
      "execution_count": 12,
      "outputs": [
        {
          "output_type": "stream",
          "name": "stdout",
          "text": [
            "2 20 50\n",
            "50 30\n",
            "20 40\n",
            "1\n"
          ]
        }
      ]
    },
    {
      "cell_type": "code",
      "source": [
        "from collections import deque\n",
        "\n",
        "n, l, r = map(int, input().split())\n",
        "graph = []         \n",
        "for _ in range(n):\n",
        "    graph.append(list(map(int, input().split())))\n",
        "dx = [-1, 0, 1, 0]\n",
        "dy = [0, 1, 0, -1]\n",
        "\n",
        "def union_start(x, y, index): \n",
        "    united = []          # 현재 연합 (x,y) 모음\n",
        "    united.append((x,y)) \n",
        "\n",
        "    q = deque()\n",
        "    q.append((x,y))\n",
        "    union[x][y] = index    # 연합 번호 \n",
        "    summary = graph[x][y]  # 연합 별 총 인구 합 \n",
        "    count = 1              # 연합 가맹 나라 수 \n",
        "\n",
        "    while q:\n",
        "        x, y = q.popleft()\n",
        "        for i in range(4):\n",
        "            nx = x + dx[i]\n",
        "            ny = y + dy[i]\n",
        "            if 0 <= nx < n and 0 <= ny < n and union[nx][ny] == -1:\n",
        "                if l <= abs(graph[nx][ny] - graph[x][y]) <= r:\n",
        "                    q.append((nx, ny))\n",
        "                    union[nx][ny] = index\n",
        "                    summary += graph[nx][ny]\n",
        "                    count += 1\n",
        "                    united.append((nx, ny))\n",
        "    \n",
        "    for i, j in united:\n",
        "        graph[i][j] = summary // count\n",
        "    \n",
        "    return count\n",
        "\n",
        "total_count = 0\n",
        "while True:\n",
        "    union = [[-1] * n for _ in range(n)]\n",
        "    index = 0\n",
        "    for i in range(n):\n",
        "        for j in range(n):\n",
        "            if union[i][j] == -1:\n",
        "                union_start(i, j, index)\n",
        "                index += 1\n",
        "    if index == n*n:\n",
        "        break\n",
        "    total_count += 1\n",
        "\n",
        "print(total_count)"
      ],
      "metadata": {
        "colab": {
          "base_uri": "https://localhost:8080/"
        },
        "id": "wyDHP4T_WAVA",
        "outputId": "f5c81f1d-9635-4ef4-c697-42aed4a5c252"
      },
      "execution_count": 13,
      "outputs": [
        {
          "output_type": "stream",
          "name": "stdout",
          "text": [
            "3 5 10\n",
            "10 15 20\n",
            "20 30 25\n",
            "40 22 10\n",
            "2\n"
          ]
        }
      ]
    },
    {
      "cell_type": "markdown",
      "source": [
        "## 22. 블록 이동하기 "
      ],
      "metadata": {
        "id": "M-rfsvlDRh3L"
      }
    },
    {
      "cell_type": "code",
      "source": [],
      "metadata": {
        "id": "vlv0QGg_Rj3O"
      },
      "execution_count": null,
      "outputs": []
    },
    {
      "cell_type": "markdown",
      "source": [
        "# 정렬"
      ],
      "metadata": {
        "id": "BIIM5Xl2kKC3"
      }
    },
    {
      "cell_type": "markdown",
      "source": [],
      "metadata": {
        "id": "AQgJeuCTkLz8"
      }
    },
    {
      "cell_type": "markdown",
      "source": [
        "# 기타 알고리즘"
      ],
      "metadata": {
        "id": "SB_IGzyU8ZK8"
      }
    },
    {
      "cell_type": "markdown",
      "source": [
        "## 1. 소수 구하기"
      ],
      "metadata": {
        "id": "6qbH6Y8M8eAw"
      }
    },
    {
      "cell_type": "code",
      "source": [
        "import math\n",
        "\n",
        "m, n = map(int, input().split())\n",
        "array = [True for i in range(1000001)]\n",
        "array[1] = 0\n",
        "\n",
        "# 에라토스테네스의 체\n",
        "for i in range(2, int(math.sqrt(n)) + 1):\n",
        "    if array[i] == True:\n",
        "        j = 2\n",
        "        while i * j <= n:\n",
        "            array[i*j] = False\n",
        "            j += 1\n",
        "\n",
        "for i in range(m, n+1):\n",
        "    if array[i]:\n",
        "        print(i)"
      ],
      "metadata": {
        "colab": {
          "base_uri": "https://localhost:8080/"
        },
        "id": "hSJ4Xw9S8auU",
        "outputId": "640bc007-3132-460e-8fe3-6999e3b19eba"
      },
      "execution_count": null,
      "outputs": [
        {
          "output_type": "stream",
          "name": "stdout",
          "text": [
            "3 16\n",
            "3\n",
            "5\n",
            "7\n",
            "11\n",
            "13\n"
          ]
        }
      ]
    },
    {
      "cell_type": "markdown",
      "source": [
        "## 2. 암호 만들기"
      ],
      "metadata": {
        "id": "sWhpLrID_Zz5"
      }
    },
    {
      "cell_type": "code",
      "source": [
        "from itertools import combinations\n",
        "\n",
        "l, c = map(int, input().split())\n",
        "array = list(input().split())\n",
        "array.sort()\n",
        "\n",
        "vowels = ('a', 'e', 'i', 'o', 'u')\n",
        "for password in combinations(array, l):\n",
        "    cnt = 0\n",
        "    for i in password:\n",
        "        if i in vowels:\n",
        "            cnt += 1\n",
        "    if cnt >= 1 and l - 2:\n",
        "        print(''.join(password))"
      ],
      "metadata": {
        "colab": {
          "base_uri": "https://localhost:8080/"
        },
        "id": "1BmH_-Fu_ccM",
        "outputId": "7e35c48b-4c36-4028-88e1-ae7e66fbacb3"
      },
      "execution_count": null,
      "outputs": [
        {
          "output_type": "stream",
          "name": "stdout",
          "text": [
            "4 6\n",
            "a t c i s w\n",
            "acis\n",
            "acit\n",
            "aciw\n",
            "acst\n",
            "acsw\n",
            "actw\n",
            "aist\n",
            "aisw\n",
            "aitw\n",
            "astw\n",
            "cist\n",
            "cisw\n",
            "citw\n",
            "istw\n"
          ]
        }
      ]
    }
  ]
}