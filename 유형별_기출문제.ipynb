{
  "nbformat": 4,
  "nbformat_minor": 0,
  "metadata": {
    "colab": {
      "provenance": [],
      "authorship_tag": "ABX9TyM2X5zTrFUy2SMNTxP12KaI",
      "include_colab_link": true
    },
    "kernelspec": {
      "name": "python3",
      "display_name": "Python 3"
    },
    "language_info": {
      "name": "python"
    }
  },
  "cells": [
    {
      "cell_type": "markdown",
      "metadata": {
        "id": "view-in-github",
        "colab_type": "text"
      },
      "source": [
        "<a href=\"https://colab.research.google.com/github/ohilikeit/Coding_Test_Practice/blob/main/%EC%9C%A0%ED%98%95%EB%B3%84_%EA%B8%B0%EC%B6%9C%EB%AC%B8%EC%A0%9C.ipynb\" target=\"_parent\"><img src=\"https://colab.research.google.com/assets/colab-badge.svg\" alt=\"Open In Colab\"/></a>"
      ]
    },
    {
      "cell_type": "markdown",
      "source": [
        "# 그리디"
      ],
      "metadata": {
        "id": "QMYLtGoNxShd"
      }
    },
    {
      "cell_type": "markdown",
      "source": [
        "## 1. 모험가 길드"
      ],
      "metadata": {
        "id": "fFJwvKuQxUkB"
      }
    },
    {
      "cell_type": "code",
      "execution_count": 17,
      "metadata": {
        "colab": {
          "base_uri": "https://localhost:8080/"
        },
        "id": "teyxds3RxN9I",
        "outputId": "22f7250b-3819-4ccf-a5df-429b4b9d6784"
      },
      "outputs": [
        {
          "output_type": "stream",
          "name": "stdout",
          "text": [
            "2\n"
          ]
        }
      ],
      "source": [
        "n = int(input())\n",
        "lst = list(map(int, input().split()))\n",
        "lst.sort()\n",
        "cnt = 0\n",
        "while 1:\n",
        "    for _ in range(max(lst)):\n",
        "        lst.pop()\n",
        "    cnt += 1\n",
        "\n",
        "    if len(lst) == 0:\n",
        "        break\n",
        "\n",
        "    if max(lst) > len(lst):\n",
        "        break\n",
        "\n",
        "print(cnt)"
      ]
    },
    {
      "cell_type": "markdown",
      "source": [
        "## 2. 곱하기 혹은 더하기"
      ],
      "metadata": {
        "id": "neJU486j1oqP"
      }
    },
    {
      "cell_type": "code",
      "source": [
        "s = input()\n",
        "res = 0\n",
        "for i in s:\n",
        "    num = int(i)\n",
        "    if num == 0 or res == 0:\n",
        "        res += num\n",
        "    else:\n",
        "        res *= num\n",
        "print(res)"
      ],
      "metadata": {
        "colab": {
          "base_uri": "https://localhost:8080/"
        },
        "id": "4XHMgCR_1qtg",
        "outputId": "8c135775-3b70-4a2a-a972-447515bf8410"
      },
      "execution_count": 24,
      "outputs": [
        {
          "output_type": "stream",
          "name": "stdout",
          "text": [
            "567\n",
            "210\n"
          ]
        }
      ]
    },
    {
      "cell_type": "markdown",
      "source": [
        "## 3. 문자열 뒤집기"
      ],
      "metadata": {
        "id": "wTSA--Y94G6t"
      }
    },
    {
      "cell_type": "code",
      "source": [
        "s = input()\n",
        "one = ''\n",
        "zero = ''\n",
        "one_cnt = 0\n",
        "zero_cnt = 0\n",
        "for i in range(1, len(s)):\n",
        "    if s[i] == \"1\":\n",
        "        one = s[i]\n",
        "        if one != s[i-1]:\n",
        "            one_cnt += 1\n",
        "    elif s[i] == \"0\":\n",
        "        zero = s[i]\n",
        "        if zero != s[i-1]:\n",
        "            zero_cnt += 1\n",
        "\n",
        "print(min(one_cnt, zero_cnt))"
      ],
      "metadata": {
        "colab": {
          "base_uri": "https://localhost:8080/"
        },
        "id": "ImCjtWvY4IYl",
        "outputId": "7420c53d-94b1-48bc-f00f-734f2dbe4e81"
      },
      "execution_count": 36,
      "outputs": [
        {
          "output_type": "stream",
          "name": "stdout",
          "text": [
            "0001100\n",
            "1\n"
          ]
        }
      ]
    },
    {
      "cell_type": "markdown",
      "source": [
        "## 4. 만들 수 없는 금액"
      ],
      "metadata": {
        "id": "4O4bIRga8pQ7"
      }
    },
    {
      "cell_type": "code",
      "source": [
        "n = int(input())\n",
        "lst = list(map(int, input().split()))\n",
        "\n",
        "lst.sort()\n",
        "target = 1\n",
        "for x in lst:\n",
        "    if target < x:\n",
        "        break\n",
        "    target += x\n",
        "print(target)"
      ],
      "metadata": {
        "colab": {
          "base_uri": "https://localhost:8080/"
        },
        "id": "NiAG0vAH8rgU",
        "outputId": "d2bc9656-e874-49f9-c301-fcf918edb8f9"
      },
      "execution_count": 37,
      "outputs": [
        {
          "output_type": "stream",
          "name": "stdout",
          "text": [
            "5\n",
            "3 2 1 1 9\n",
            "8\n"
          ]
        }
      ]
    },
    {
      "cell_type": "markdown",
      "source": [
        "## 5. 볼링공 고르기"
      ],
      "metadata": {
        "id": "-8ZFewYDMVZZ"
      }
    },
    {
      "cell_type": "code",
      "source": [
        "n, m = map(int, input().split())\n",
        "lst = list(map(int, input().split()))\n",
        "cnt = 0\n",
        "while lst:\n",
        "    idx = lst.pop(0)\n",
        "    for i in lst:\n",
        "        if i != idx:\n",
        "            cnt += 1\n",
        "print(cnt)"
      ],
      "metadata": {
        "colab": {
          "base_uri": "https://localhost:8080/"
        },
        "id": "wWa6jU-pMXG_",
        "outputId": "5860eb98-47f3-40e4-bcd8-c8caa255e910"
      },
      "execution_count": 50,
      "outputs": [
        {
          "output_type": "stream",
          "name": "stdout",
          "text": [
            "8 5\n",
            "1 5 4 3 2 4 5 2\n",
            "25\n"
          ]
        }
      ]
    },
    {
      "cell_type": "markdown",
      "source": [
        "## 6. 무지의 먹방 라이브"
      ],
      "metadata": {
        "id": "HJlGRCjOTC8_"
      }
    },
    {
      "cell_type": "code",
      "source": [
        "import heapq\n",
        "\n",
        "def solution(food_times, k):\n",
        "    if sum(food_times) <= k:\n",
        "        return -1\n",
        "    \n",
        "    q = []\n",
        "    for i in range(len(food_times)):\n",
        "        heapq.heappush(q, (food_times[i], i+1))\n",
        "    \n",
        "    sum_val = 0       # 먹기 위해 사용한 시간\n",
        "    prev = 0          # 직전에 다 먹은 음식 시간\n",
        "    length = len(food_times) # 남은 음식의 개수 \n",
        "    \n",
        "    while sum_val + ((q[0][0] - prev) * length) <= k: # 앞에서 돌면서 젤 작은 숫자만큼 깐것을 반영해주기 \n",
        "        now = heapq.heappop(q)[0]                     # 위해 now - prev 해준것임. \n",
        "        sum_val += (now - prev) * length\n",
        "        length -= 1\n",
        "        prev = now\n",
        "    \n",
        "    result = sorted(q, key = lambda x: x[1])\n",
        "    \n",
        "    return result[(k - sum_val) % length][1]"
      ],
      "metadata": {
        "id": "zEWwrcl0TFa3"
      },
      "execution_count": null,
      "outputs": []
    }
  ]
}