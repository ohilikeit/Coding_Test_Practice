{
  "nbformat": 4,
  "nbformat_minor": 0,
  "metadata": {
    "colab": {
      "provenance": [],
      "collapsed_sections": [
        "QMYLtGoNxShd",
        "SB_IGzyU8ZK8"
      ],
      "authorship_tag": "ABX9TyPQh50U0y89flWyPZliJxAE",
      "include_colab_link": true
    },
    "kernelspec": {
      "name": "python3",
      "display_name": "Python 3"
    },
    "language_info": {
      "name": "python"
    }
  },
  "cells": [
    {
      "cell_type": "markdown",
      "metadata": {
        "id": "view-in-github",
        "colab_type": "text"
      },
      "source": [
        "<a href=\"https://colab.research.google.com/github/ohilikeit/Coding_Test_Practice/blob/main/%EC%9C%A0%ED%98%95%EB%B3%84_%EA%B8%B0%EC%B6%9C%EB%AC%B8%EC%A0%9C.ipynb\" target=\"_parent\"><img src=\"https://colab.research.google.com/assets/colab-badge.svg\" alt=\"Open In Colab\"/></a>"
      ]
    },
    {
      "cell_type": "markdown",
      "source": [
        "# 그리디"
      ],
      "metadata": {
        "id": "QMYLtGoNxShd"
      }
    },
    {
      "cell_type": "markdown",
      "source": [
        "## 1. 모험가 길드"
      ],
      "metadata": {
        "id": "fFJwvKuQxUkB"
      }
    },
    {
      "cell_type": "code",
      "execution_count": null,
      "metadata": {
        "colab": {
          "base_uri": "https://localhost:8080/"
        },
        "id": "teyxds3RxN9I",
        "outputId": "22f7250b-3819-4ccf-a5df-429b4b9d6784"
      },
      "outputs": [
        {
          "output_type": "stream",
          "name": "stdout",
          "text": [
            "2\n"
          ]
        }
      ],
      "source": [
        "n = int(input())\n",
        "lst = list(map(int, input().split()))\n",
        "lst.sort()\n",
        "cnt = 0\n",
        "while 1:\n",
        "    for _ in range(max(lst)):\n",
        "        lst.pop()\n",
        "    cnt += 1\n",
        "\n",
        "    if len(lst) == 0:\n",
        "        break\n",
        "\n",
        "    if max(lst) > len(lst):\n",
        "        break\n",
        "\n",
        "print(cnt)"
      ]
    },
    {
      "cell_type": "markdown",
      "source": [
        "## 2. 곱하기 혹은 더하기"
      ],
      "metadata": {
        "id": "neJU486j1oqP"
      }
    },
    {
      "cell_type": "code",
      "source": [
        "s = input()\n",
        "res = 0\n",
        "for i in s:\n",
        "    num = int(i)\n",
        "    if num == 0 or res == 0:\n",
        "        res += num\n",
        "    else:\n",
        "        res *= num\n",
        "print(res)"
      ],
      "metadata": {
        "colab": {
          "base_uri": "https://localhost:8080/"
        },
        "id": "4XHMgCR_1qtg",
        "outputId": "8c135775-3b70-4a2a-a972-447515bf8410"
      },
      "execution_count": null,
      "outputs": [
        {
          "output_type": "stream",
          "name": "stdout",
          "text": [
            "567\n",
            "210\n"
          ]
        }
      ]
    },
    {
      "cell_type": "markdown",
      "source": [
        "## 3. 문자열 뒤집기"
      ],
      "metadata": {
        "id": "wTSA--Y94G6t"
      }
    },
    {
      "cell_type": "code",
      "source": [
        "s = input()\n",
        "one = ''\n",
        "zero = ''\n",
        "one_cnt = 0\n",
        "zero_cnt = 0\n",
        "for i in range(1, len(s)):\n",
        "    if s[i] == \"1\":\n",
        "        one = s[i]\n",
        "        if one != s[i-1]:\n",
        "            one_cnt += 1\n",
        "    elif s[i] == \"0\":\n",
        "        zero = s[i]\n",
        "        if zero != s[i-1]:\n",
        "            zero_cnt += 1\n",
        "\n",
        "print(min(one_cnt, zero_cnt))"
      ],
      "metadata": {
        "colab": {
          "base_uri": "https://localhost:8080/"
        },
        "id": "ImCjtWvY4IYl",
        "outputId": "7420c53d-94b1-48bc-f00f-734f2dbe4e81"
      },
      "execution_count": null,
      "outputs": [
        {
          "output_type": "stream",
          "name": "stdout",
          "text": [
            "0001100\n",
            "1\n"
          ]
        }
      ]
    },
    {
      "cell_type": "markdown",
      "source": [
        "## 4. 만들 수 없는 금액"
      ],
      "metadata": {
        "id": "4O4bIRga8pQ7"
      }
    },
    {
      "cell_type": "code",
      "source": [
        "n = int(input())\n",
        "lst = list(map(int, input().split()))\n",
        "\n",
        "lst.sort()\n",
        "target = 1\n",
        "for x in lst:\n",
        "    if target < x:\n",
        "        break\n",
        "    target += x\n",
        "print(target)"
      ],
      "metadata": {
        "colab": {
          "base_uri": "https://localhost:8080/"
        },
        "id": "NiAG0vAH8rgU",
        "outputId": "d2bc9656-e874-49f9-c301-fcf918edb8f9"
      },
      "execution_count": null,
      "outputs": [
        {
          "output_type": "stream",
          "name": "stdout",
          "text": [
            "5\n",
            "3 2 1 1 9\n",
            "8\n"
          ]
        }
      ]
    },
    {
      "cell_type": "markdown",
      "source": [
        "## 5. 볼링공 고르기"
      ],
      "metadata": {
        "id": "-8ZFewYDMVZZ"
      }
    },
    {
      "cell_type": "code",
      "source": [
        "n, m = map(int, input().split())\n",
        "lst = list(map(int, input().split()))\n",
        "cnt = 0\n",
        "while lst:\n",
        "    idx = lst.pop(0)\n",
        "    for i in lst:\n",
        "        if i != idx:\n",
        "            cnt += 1\n",
        "print(cnt)"
      ],
      "metadata": {
        "colab": {
          "base_uri": "https://localhost:8080/"
        },
        "id": "wWa6jU-pMXG_",
        "outputId": "5860eb98-47f3-40e4-bcd8-c8caa255e910"
      },
      "execution_count": null,
      "outputs": [
        {
          "output_type": "stream",
          "name": "stdout",
          "text": [
            "8 5\n",
            "1 5 4 3 2 4 5 2\n",
            "25\n"
          ]
        }
      ]
    },
    {
      "cell_type": "markdown",
      "source": [
        "## 6. 무지의 먹방 라이브"
      ],
      "metadata": {
        "id": "HJlGRCjOTC8_"
      }
    },
    {
      "cell_type": "code",
      "source": [
        "import heapq\n",
        "\n",
        "def solution(food_times, k):\n",
        "    if sum(food_times) <= k:\n",
        "        return -1\n",
        "    \n",
        "    q = []\n",
        "    for i in range(len(food_times)):\n",
        "        heapq.heappush(q, (food_times[i], i+1))\n",
        "    \n",
        "    sum_val = 0       # 먹기 위해 사용한 시간\n",
        "    prev = 0          # 직전에 다 먹은 음식 시간\n",
        "    length = len(food_times) # 남은 음식의 개수 \n",
        "    \n",
        "    while sum_val + ((q[0][0] - prev) * length) <= k: # 앞에서 돌면서 젤 작은 숫자만큼 깐것을 반영해주기 \n",
        "        now = heapq.heappop(q)[0]                     # 위해 now - prev 해준것임. \n",
        "        sum_val += (now - prev) * length\n",
        "        length -= 1\n",
        "        prev = now\n",
        "    \n",
        "    result = sorted(q, key = lambda x: x[1])\n",
        "    \n",
        "    return result[(k - sum_val) % length][1]"
      ],
      "metadata": {
        "id": "zEWwrcl0TFa3"
      },
      "execution_count": null,
      "outputs": []
    },
    {
      "cell_type": "markdown",
      "source": [
        "# 구현"
      ],
      "metadata": {
        "id": "mLyYjii8QV13"
      }
    },
    {
      "cell_type": "markdown",
      "source": [
        "## 7. 럭키 스트레이트 "
      ],
      "metadata": {
        "id": "rk6PBZ7hQZ1h"
      }
    },
    {
      "cell_type": "code",
      "source": [],
      "metadata": {
        "id": "mYCI-9WdQffz"
      },
      "execution_count": null,
      "outputs": []
    },
    {
      "cell_type": "markdown",
      "source": [
        "# DFS/BFS"
      ],
      "metadata": {
        "id": "CdyGGc9kQYBH"
      }
    },
    {
      "cell_type": "markdown",
      "source": [
        "# 기타 알고리즘"
      ],
      "metadata": {
        "id": "SB_IGzyU8ZK8"
      }
    },
    {
      "cell_type": "markdown",
      "source": [
        "## 1. 소수 구하기"
      ],
      "metadata": {
        "id": "6qbH6Y8M8eAw"
      }
    },
    {
      "cell_type": "code",
      "source": [
        "import math\n",
        "\n",
        "m, n = map(int, input().split())\n",
        "array = [True for i in range(1000001)]\n",
        "array[1] = 0\n",
        "\n",
        "# 에라토스테네스의 체\n",
        "for i in range(2, int(math.sqrt(n)) + 1):\n",
        "    if array[i] == True:\n",
        "        j = 2\n",
        "        while i * j <= n:\n",
        "            array[i*j] = False\n",
        "            j += 1\n",
        "\n",
        "for i in range(m, n+1):\n",
        "    if array[i]:\n",
        "        print(i)"
      ],
      "metadata": {
        "colab": {
          "base_uri": "https://localhost:8080/"
        },
        "id": "hSJ4Xw9S8auU",
        "outputId": "640bc007-3132-460e-8fe3-6999e3b19eba"
      },
      "execution_count": null,
      "outputs": [
        {
          "output_type": "stream",
          "name": "stdout",
          "text": [
            "3 16\n",
            "3\n",
            "5\n",
            "7\n",
            "11\n",
            "13\n"
          ]
        }
      ]
    },
    {
      "cell_type": "markdown",
      "source": [
        "## 2. 암호 만들기"
      ],
      "metadata": {
        "id": "sWhpLrID_Zz5"
      }
    },
    {
      "cell_type": "code",
      "source": [
        "from itertools import combinations\n",
        "\n",
        "l, c = map(int, input().split())\n",
        "array = list(input().split())\n",
        "array.sort()\n",
        "\n",
        "vowels = ('a', 'e', 'i', 'o', 'u')\n",
        "for password in combinations(array, l):\n",
        "    cnt = 0\n",
        "    for i in password:\n",
        "        if i in vowels:\n",
        "            cnt += 1\n",
        "    if cnt >= 1 and l - 2:\n",
        "        print(''.join(password))"
      ],
      "metadata": {
        "colab": {
          "base_uri": "https://localhost:8080/"
        },
        "id": "1BmH_-Fu_ccM",
        "outputId": "7e35c48b-4c36-4028-88e1-ae7e66fbacb3"
      },
      "execution_count": null,
      "outputs": [
        {
          "output_type": "stream",
          "name": "stdout",
          "text": [
            "4 6\n",
            "a t c i s w\n",
            "acis\n",
            "acit\n",
            "aciw\n",
            "acst\n",
            "acsw\n",
            "actw\n",
            "aist\n",
            "aisw\n",
            "aitw\n",
            "astw\n",
            "cist\n",
            "cisw\n",
            "citw\n",
            "istw\n"
          ]
        }
      ]
    }
  ]
}